{
  "cells": [
    {
      "cell_type": "markdown",
      "metadata": {
        "id": "view-in-github",
        "colab_type": "text"
      },
      "source": [
        "<a href=\"https://colab.research.google.com/github/KleverGH/DATA_MINING/blob/main/601_TF_Limpieza_de_datos.ipynb\" target=\"_parent\"><img src=\"https://colab.research.google.com/assets/colab-badge.svg\" alt=\"Open In Colab\"/></a>"
      ]
    },
    {
      "cell_type": "code",
      "execution_count": null,
      "id": "6f672c0e",
      "metadata": {
        "id": "6f672c0e"
      },
      "outputs": [],
      "source": [
        "import pandas as pd\n",
        "import numpy as np\n",
        "import seaborn as sns"
      ]
    },
    {
      "cell_type": "code",
      "execution_count": null,
      "id": "93c38d80",
      "metadata": {
        "scrolled": true,
        "id": "93c38d80",
        "outputId": "e10b66a3-2286-49b5-f439-327beff6f50f"
      },
      "outputs": [
        {
          "name": "stderr",
          "output_type": "stream",
          "text": [
            "C:\\Users\\dchir\\AppData\\Local\\Temp\\ipykernel_16328\\3849066368.py:1: DtypeWarning: Columns (34) have mixed types. Specify dtype option on import or set low_memory=False.\n",
            "  df = pd.read_csv(\"Dataset/Enaho01-2022-601.csv\", encoding='ISO-8859-1')\n"
          ]
        }
      ],
      "source": [
        "df = pd.read_csv(\"Dataset/Enaho01-2022-601.csv\", encoding='ISO-8859-1')"
      ]
    },
    {
      "cell_type": "code",
      "execution_count": null,
      "id": "6bdea870",
      "metadata": {
        "id": "6bdea870",
        "outputId": "621bf38f-d185-432a-f2b8-0ed6b6cfd269"
      },
      "outputs": [
        {
          "data": {
            "text/html": [
              "<div>\n",
              "<style scoped>\n",
              "    .dataframe tbody tr th:only-of-type {\n",
              "        vertical-align: middle;\n",
              "    }\n",
              "\n",
              "    .dataframe tbody tr th {\n",
              "        vertical-align: top;\n",
              "    }\n",
              "\n",
              "    .dataframe thead th {\n",
              "        text-align: right;\n",
              "    }\n",
              "</style>\n",
              "<table border=\"1\" class=\"dataframe\">\n",
              "  <thead>\n",
              "    <tr style=\"text-align: right;\">\n",
              "      <th></th>\n",
              "      <th>AÑO</th>\n",
              "      <th>MES</th>\n",
              "      <th>CONGLOME</th>\n",
              "      <th>VIVIENDA</th>\n",
              "      <th>HOGAR</th>\n",
              "      <th>UBIGEO</th>\n",
              "      <th>DOMINIO</th>\n",
              "      <th>ESTRATO</th>\n",
              "      <th>P601A</th>\n",
              "      <th>P601X</th>\n",
              "      <th>...</th>\n",
              "      <th>D601C</th>\n",
              "      <th>BLIBRE22</th>\n",
              "      <th>T601A71</th>\n",
              "      <th>T601A72</th>\n",
              "      <th>PRODUC61</th>\n",
              "      <th>TICUEST01</th>\n",
              "      <th>I601E</th>\n",
              "      <th>FACTOR07</th>\n",
              "      <th>NCONGLOME</th>\n",
              "      <th>SUB_CONGLOME</th>\n",
              "    </tr>\n",
              "  </thead>\n",
              "  <tbody>\n",
              "    <tr>\n",
              "      <th>0</th>\n",
              "      <td>2022</td>\n",
              "      <td>1</td>\n",
              "      <td>5030</td>\n",
              "      <td>8</td>\n",
              "      <td>11</td>\n",
              "      <td>10201</td>\n",
              "      <td>7</td>\n",
              "      <td>4</td>\n",
              "      <td>100</td>\n",
              "      <td>PAN FRANCES Y OTROS PANES</td>\n",
              "      <td>...</td>\n",
              "      <td></td>\n",
              "      <td></td>\n",
              "      <td>0</td>\n",
              "      <td>0</td>\n",
              "      <td>0</td>\n",
              "      <td>2</td>\n",
              "      <td></td>\n",
              "      <td>106.890244</td>\n",
              "      <td>6618</td>\n",
              "      <td>0</td>\n",
              "    </tr>\n",
              "    <tr>\n",
              "      <th>1</th>\n",
              "      <td>2022</td>\n",
              "      <td>1</td>\n",
              "      <td>5030</td>\n",
              "      <td>8</td>\n",
              "      <td>11</td>\n",
              "      <td>10201</td>\n",
              "      <td>7</td>\n",
              "      <td>4</td>\n",
              "      <td>101</td>\n",
              "      <td>Pan Corriente o común</td>\n",
              "      <td>...</td>\n",
              "      <td>194.898147583008</td>\n",
              "      <td></td>\n",
              "      <td>0</td>\n",
              "      <td>0</td>\n",
              "      <td>110091</td>\n",
              "      <td>2</td>\n",
              "      <td></td>\n",
              "      <td>106.890244</td>\n",
              "      <td>6618</td>\n",
              "      <td>0</td>\n",
              "    </tr>\n",
              "    <tr>\n",
              "      <th>2</th>\n",
              "      <td>2022</td>\n",
              "      <td>1</td>\n",
              "      <td>5030</td>\n",
              "      <td>8</td>\n",
              "      <td>11</td>\n",
              "      <td>10201</td>\n",
              "      <td>7</td>\n",
              "      <td>4</td>\n",
              "      <td>102</td>\n",
              "      <td>Pan Tolete</td>\n",
              "      <td>...</td>\n",
              "      <td></td>\n",
              "      <td></td>\n",
              "      <td></td>\n",
              "      <td></td>\n",
              "      <td>110076</td>\n",
              "      <td>2</td>\n",
              "      <td></td>\n",
              "      <td>106.890244</td>\n",
              "      <td>6618</td>\n",
              "      <td>0</td>\n",
              "    </tr>\n",
              "    <tr>\n",
              "      <th>3</th>\n",
              "      <td>2022</td>\n",
              "      <td>1</td>\n",
              "      <td>5030</td>\n",
              "      <td>8</td>\n",
              "      <td>11</td>\n",
              "      <td>10201</td>\n",
              "      <td>7</td>\n",
              "      <td>4</td>\n",
              "      <td>103</td>\n",
              "      <td>Pan Frances</td>\n",
              "      <td>...</td>\n",
              "      <td></td>\n",
              "      <td></td>\n",
              "      <td></td>\n",
              "      <td></td>\n",
              "      <td>110074</td>\n",
              "      <td>2</td>\n",
              "      <td></td>\n",
              "      <td>106.890244</td>\n",
              "      <td>6618</td>\n",
              "      <td>0</td>\n",
              "    </tr>\n",
              "    <tr>\n",
              "      <th>4</th>\n",
              "      <td>2022</td>\n",
              "      <td>1</td>\n",
              "      <td>5030</td>\n",
              "      <td>8</td>\n",
              "      <td>11</td>\n",
              "      <td>10201</td>\n",
              "      <td>7</td>\n",
              "      <td>4</td>\n",
              "      <td>104</td>\n",
              "      <td>Pan Chapla</td>\n",
              "      <td>...</td>\n",
              "      <td></td>\n",
              "      <td></td>\n",
              "      <td></td>\n",
              "      <td></td>\n",
              "      <td>110093</td>\n",
              "      <td>2</td>\n",
              "      <td></td>\n",
              "      <td>106.890244</td>\n",
              "      <td>6618</td>\n",
              "      <td>0</td>\n",
              "    </tr>\n",
              "  </tbody>\n",
              "</table>\n",
              "<p>5 rows × 39 columns</p>\n",
              "</div>"
            ],
            "text/plain": [
              "    AÑO  MES  CONGLOME  VIVIENDA  HOGAR  UBIGEO  DOMINIO  ESTRATO  P601A  \\\n",
              "0  2022    1      5030         8     11   10201        7        4    100   \n",
              "1  2022    1      5030         8     11   10201        7        4    101   \n",
              "2  2022    1      5030         8     11   10201        7        4    102   \n",
              "3  2022    1      5030         8     11   10201        7        4    103   \n",
              "4  2022    1      5030         8     11   10201        7        4    104   \n",
              "\n",
              "                       P601X  ...             D601C BLIBRE22 T601A71 T601A72  \\\n",
              "0  PAN FRANCES Y OTROS PANES  ...                                  0       0   \n",
              "1      Pan Corriente o común  ...  194.898147583008                0       0   \n",
              "2                 Pan Tolete  ...                                              \n",
              "3                Pan Frances  ...                                              \n",
              "4                 Pan Chapla  ...                                              \n",
              "\n",
              "  PRODUC61 TICUEST01 I601E    FACTOR07 NCONGLOME SUB_CONGLOME  \n",
              "0        0         2        106.890244      6618            0  \n",
              "1   110091         2        106.890244      6618            0  \n",
              "2   110076         2        106.890244      6618            0  \n",
              "3   110074         2        106.890244      6618            0  \n",
              "4   110093         2        106.890244      6618            0  \n",
              "\n",
              "[5 rows x 39 columns]"
            ]
          },
          "execution_count": 71,
          "metadata": {},
          "output_type": "execute_result"
        }
      ],
      "source": [
        "df.head()"
      ]
    },
    {
      "cell_type": "code",
      "execution_count": null,
      "id": "53c7f3e4",
      "metadata": {
        "id": "53c7f3e4"
      },
      "outputs": [],
      "source": [
        "df_filtered = df[df['P601B'] == 1]"
      ]
    },
    {
      "cell_type": "markdown",
      "id": "be90aace",
      "metadata": {
        "id": "be90aace"
      },
      "source": [
        "Se aplica este filtro en la columna P601B debido a que esta columna representa la pregunta si es que en los ultimos 15 dias ha realizado alguna compra, entonces cuando el resultado es NO, se coloca 2, lo que genera que todo el data set para ese registro (cuando es igual a 2) tenga valores nulos o vacios. Esto es un claro ejemplo de una forma en la que se puede reducir el data set."
      ]
    },
    {
      "cell_type": "code",
      "execution_count": null,
      "id": "dc003fc5",
      "metadata": {
        "id": "dc003fc5",
        "outputId": "02826675-8648-4df0-fa4a-0897f05cc8a3"
      },
      "outputs": [
        {
          "data": {
            "text/plain": [
              "(2733695, 39)"
            ]
          },
          "execution_count": 73,
          "metadata": {},
          "output_type": "execute_result"
        }
      ],
      "source": [
        "df_filtered.shape"
      ]
    },
    {
      "cell_type": "code",
      "execution_count": null,
      "id": "bf1b7ab9",
      "metadata": {
        "id": "bf1b7ab9"
      },
      "outputs": [],
      "source": [
        "range = ['P601A1','P601A2','P601A3','P601A4','P601A5','P601A6','P601A7']"
      ]
    },
    {
      "cell_type": "code",
      "execution_count": null,
      "id": "b9cd632e",
      "metadata": {
        "id": "b9cd632e",
        "outputId": "0b565113-2b3a-44c6-c716-5873d2956373"
      },
      "outputs": [
        {
          "name": "stderr",
          "output_type": "stream",
          "text": [
            "C:\\Users\\dchir\\AppData\\Local\\Temp\\ipykernel_16328\\3809193040.py:2: SettingWithCopyWarning: \n",
            "A value is trying to be set on a copy of a slice from a DataFrame\n",
            "\n",
            "See the caveats in the documentation: https://pandas.pydata.org/pandas-docs/stable/user_guide/indexing.html#returning-a-view-versus-a-copy\n",
            "  df_filtered[columna].replace(\" \",\"0\",inplace=True)\n"
          ]
        }
      ],
      "source": [
        "for columna in range:\n",
        "    df_filtered[columna].replace(\" \",\"0\",inplace=True)"
      ]
    },
    {
      "cell_type": "code",
      "execution_count": null,
      "id": "c03224d2",
      "metadata": {
        "id": "c03224d2",
        "outputId": "bf85c512-a641-48b7-b96f-c3a64082f9c6"
      },
      "outputs": [
        {
          "name": "stdout",
          "output_type": "stream",
          "text": [
            "Valores unicos para  P601A1  es:  ['1' '0'] \n",
            "\n",
            "Valores unicos para  P601A2  es:  ['0' '1'] \n",
            "\n",
            "Valores unicos para  P601A3  es:  ['0' '1'] \n",
            "\n",
            "Valores unicos para  P601A4  es:  ['0' '1'] \n",
            "\n",
            "Valores unicos para  P601A5  es:  ['0' '1'] \n",
            "\n",
            "Valores unicos para  P601A6  es:  ['0' '1'] \n",
            "\n",
            "Valores unicos para  P601A7  es:  ['0' '1'] \n",
            "\n"
          ]
        }
      ],
      "source": [
        "for columna in range:\n",
        "    print(\"Valores unicos para \",columna,\" es: \",df_filtered[columna].unique(),'\\n')"
      ]
    },
    {
      "cell_type": "code",
      "execution_count": null,
      "id": "92891cf4",
      "metadata": {
        "id": "92891cf4"
      },
      "outputs": [],
      "source": [
        "mapeo = {\n",
        "    'P601A1': 'Comprado',\n",
        "    'P601A2': 'Autoconsumo',\n",
        "    'P601A3': 'Autosuministro',\n",
        "    'P601A4': 'Como parte de pago a un miembro del hogar',\n",
        "    'P601A5': 'Regalado o pagado por algún miembro de otro hogar',\n",
        "    'P601A6': 'Regalado o donado por algún programa social',\n",
        "    'P601A7': 'Otro'\n",
        "}"
      ]
    },
    {
      "cell_type": "code",
      "execution_count": null,
      "id": "a48de633",
      "metadata": {
        "id": "a48de633",
        "outputId": "5cc11f99-4b04-4c0d-a5a6-9e8d37d89f87"
      },
      "outputs": [
        {
          "name": "stderr",
          "output_type": "stream",
          "text": [
            "C:\\Users\\dchir\\AppData\\Local\\Temp\\ipykernel_16328\\4257039407.py:3: SettingWithCopyWarning: \n",
            "A value is trying to be set on a copy of a slice from a DataFrame.\n",
            "Try using .loc[row_indexer,col_indexer] = value instead\n",
            "\n",
            "See the caveats in the documentation: https://pandas.pydata.org/pandas-docs/stable/user_guide/indexing.html#returning-a-view-versus-a-copy\n",
            "  df_filtered[col] = df_filtered[col].astype(int)\n",
            "C:\\Users\\dchir\\AppData\\Local\\Temp\\ipykernel_16328\\4257039407.py:6: SettingWithCopyWarning: \n",
            "A value is trying to be set on a copy of a slice from a DataFrame.\n",
            "Try using .loc[row_indexer,col_indexer] = value instead\n",
            "\n",
            "See the caveats in the documentation: https://pandas.pydata.org/pandas-docs/stable/user_guide/indexing.html#returning-a-view-versus-a-copy\n",
            "  df_filtered['Forma de obtención de producto'] = df_filtered[list(mapeo.keys())].idxmax(axis=1)\n",
            "C:\\Users\\dchir\\AppData\\Local\\Temp\\ipykernel_16328\\4257039407.py:7: SettingWithCopyWarning: \n",
            "A value is trying to be set on a copy of a slice from a DataFrame.\n",
            "Try using .loc[row_indexer,col_indexer] = value instead\n",
            "\n",
            "See the caveats in the documentation: https://pandas.pydata.org/pandas-docs/stable/user_guide/indexing.html#returning-a-view-versus-a-copy\n",
            "  df_filtered['Forma de obtención de producto'] = df_filtered['Forma de obtención de producto'].map(mapeo)\n"
          ]
        }
      ],
      "source": [
        "# Convertir las columnas dummy a tipo int\n",
        "for col in mapeo.keys():\n",
        "    df_filtered[col] = df_filtered[col].astype(int)\n",
        "\n",
        "# Luego, aplica el método idxmax\n",
        "df_filtered['Forma de obtención de producto'] = df_filtered[list(mapeo.keys())].idxmax(axis=1)\n",
        "df_filtered['Forma de obtención de producto'] = df_filtered['Forma de obtención de producto'].map(mapeo)"
      ]
    },
    {
      "cell_type": "code",
      "execution_count": null,
      "id": "1454f88c",
      "metadata": {
        "id": "1454f88c",
        "outputId": "0ffb30f2-42dd-4976-b967-a0e5ce005ecb"
      },
      "outputs": [
        {
          "data": {
            "text/plain": [
              "array(['Comprado', 'Otro', 'Autosuministro',\n",
              "       'Regalado o pagado por algún miembro de otro hogar', 'Autoconsumo',\n",
              "       'Regalado o donado por algún programa social',\n",
              "       'Como parte de pago a un miembro del hogar'], dtype=object)"
            ]
          },
          "execution_count": 79,
          "metadata": {},
          "output_type": "execute_result"
        }
      ],
      "source": [
        "df_filtered['Forma de obtención de producto'].unique()"
      ]
    },
    {
      "cell_type": "code",
      "execution_count": null,
      "id": "74aafb66",
      "metadata": {
        "id": "74aafb66",
        "outputId": "aa517947-a4e5-411c-bd2f-9b646415a35a"
      },
      "outputs": [
        {
          "data": {
            "text/plain": [
              "Comprado                                             2238490\n",
              "Autoconsumo                                           153281\n",
              "Regalado o pagado por algún miembro de otro hogar     140293\n",
              "Autosuministro                                         83562\n",
              "Otro                                                   77414\n",
              "Regalado o donado por algún programa social            37736\n",
              "Como parte de pago a un miembro del hogar               2919\n",
              "Name: Forma de obtención de producto, dtype: int64"
            ]
          },
          "execution_count": 80,
          "metadata": {},
          "output_type": "execute_result"
        }
      ],
      "source": [
        "df_filtered['Forma de obtención de producto'].value_counts()"
      ]
    },
    {
      "cell_type": "code",
      "execution_count": null,
      "id": "37700409",
      "metadata": {
        "id": "37700409"
      },
      "outputs": [],
      "source": [
        "df_filtered = df_filtered.drop(columns=range)"
      ]
    },
    {
      "cell_type": "code",
      "execution_count": null,
      "id": "3445a484",
      "metadata": {
        "id": "3445a484",
        "outputId": "694b3c0e-2e8f-489c-c9da-6891c19f59e4"
      },
      "outputs": [
        {
          "data": {
            "text/html": [
              "<div>\n",
              "<style scoped>\n",
              "    .dataframe tbody tr th:only-of-type {\n",
              "        vertical-align: middle;\n",
              "    }\n",
              "\n",
              "    .dataframe tbody tr th {\n",
              "        vertical-align: top;\n",
              "    }\n",
              "\n",
              "    .dataframe thead th {\n",
              "        text-align: right;\n",
              "    }\n",
              "</style>\n",
              "<table border=\"1\" class=\"dataframe\">\n",
              "  <thead>\n",
              "    <tr style=\"text-align: right;\">\n",
              "      <th></th>\n",
              "      <th>AÑO</th>\n",
              "      <th>MES</th>\n",
              "      <th>CONGLOME</th>\n",
              "      <th>VIVIENDA</th>\n",
              "      <th>HOGAR</th>\n",
              "      <th>UBIGEO</th>\n",
              "      <th>DOMINIO</th>\n",
              "      <th>ESTRATO</th>\n",
              "      <th>P601A</th>\n",
              "      <th>P601X</th>\n",
              "      <th>...</th>\n",
              "      <th>BLIBRE22</th>\n",
              "      <th>T601A71</th>\n",
              "      <th>T601A72</th>\n",
              "      <th>PRODUC61</th>\n",
              "      <th>TICUEST01</th>\n",
              "      <th>I601E</th>\n",
              "      <th>FACTOR07</th>\n",
              "      <th>NCONGLOME</th>\n",
              "      <th>SUB_CONGLOME</th>\n",
              "      <th>Forma de obtención de producto</th>\n",
              "    </tr>\n",
              "  </thead>\n",
              "  <tbody>\n",
              "    <tr>\n",
              "      <th>0</th>\n",
              "      <td>2022</td>\n",
              "      <td>1</td>\n",
              "      <td>5030</td>\n",
              "      <td>8</td>\n",
              "      <td>11</td>\n",
              "      <td>10201</td>\n",
              "      <td>7</td>\n",
              "      <td>4</td>\n",
              "      <td>100</td>\n",
              "      <td>PAN FRANCES Y OTROS PANES</td>\n",
              "      <td>...</td>\n",
              "      <td></td>\n",
              "      <td>0</td>\n",
              "      <td>0</td>\n",
              "      <td>0</td>\n",
              "      <td>2</td>\n",
              "      <td></td>\n",
              "      <td>106.890244</td>\n",
              "      <td>6618</td>\n",
              "      <td>0</td>\n",
              "      <td>Comprado</td>\n",
              "    </tr>\n",
              "    <tr>\n",
              "      <th>1</th>\n",
              "      <td>2022</td>\n",
              "      <td>1</td>\n",
              "      <td>5030</td>\n",
              "      <td>8</td>\n",
              "      <td>11</td>\n",
              "      <td>10201</td>\n",
              "      <td>7</td>\n",
              "      <td>4</td>\n",
              "      <td>101</td>\n",
              "      <td>Pan Corriente o común</td>\n",
              "      <td>...</td>\n",
              "      <td></td>\n",
              "      <td>0</td>\n",
              "      <td>0</td>\n",
              "      <td>110091</td>\n",
              "      <td>2</td>\n",
              "      <td></td>\n",
              "      <td>106.890244</td>\n",
              "      <td>6618</td>\n",
              "      <td>0</td>\n",
              "      <td>Comprado</td>\n",
              "    </tr>\n",
              "    <tr>\n",
              "      <th>8</th>\n",
              "      <td>2022</td>\n",
              "      <td>1</td>\n",
              "      <td>5030</td>\n",
              "      <td>8</td>\n",
              "      <td>11</td>\n",
              "      <td>10201</td>\n",
              "      <td>7</td>\n",
              "      <td>4</td>\n",
              "      <td>108</td>\n",
              "      <td>TOSTADAS INTEGRALES A GRA</td>\n",
              "      <td>...</td>\n",
              "      <td></td>\n",
              "      <td>0</td>\n",
              "      <td>0</td>\n",
              "      <td>110087</td>\n",
              "      <td>2</td>\n",
              "      <td></td>\n",
              "      <td>106.890244</td>\n",
              "      <td>6618</td>\n",
              "      <td>0</td>\n",
              "      <td>Comprado</td>\n",
              "    </tr>\n",
              "    <tr>\n",
              "      <th>15</th>\n",
              "      <td>2022</td>\n",
              "      <td>1</td>\n",
              "      <td>5030</td>\n",
              "      <td>8</td>\n",
              "      <td>11</td>\n",
              "      <td>10201</td>\n",
              "      <td>7</td>\n",
              "      <td>4</td>\n",
              "      <td>300</td>\n",
              "      <td>ARROZ (CORRIENTE Y SUPERI</td>\n",
              "      <td>...</td>\n",
              "      <td></td>\n",
              "      <td>0</td>\n",
              "      <td>0</td>\n",
              "      <td>0</td>\n",
              "      <td>2</td>\n",
              "      <td></td>\n",
              "      <td>106.890244</td>\n",
              "      <td>6618</td>\n",
              "      <td>0</td>\n",
              "      <td>Comprado</td>\n",
              "    </tr>\n",
              "    <tr>\n",
              "      <th>16</th>\n",
              "      <td>2022</td>\n",
              "      <td>1</td>\n",
              "      <td>5030</td>\n",
              "      <td>8</td>\n",
              "      <td>11</td>\n",
              "      <td>10201</td>\n",
              "      <td>7</td>\n",
              "      <td>4</td>\n",
              "      <td>301</td>\n",
              "      <td>Arroz Corriente a Granel</td>\n",
              "      <td>...</td>\n",
              "      <td></td>\n",
              "      <td>0</td>\n",
              "      <td>0</td>\n",
              "      <td>110100</td>\n",
              "      <td>2</td>\n",
              "      <td></td>\n",
              "      <td>106.890244</td>\n",
              "      <td>6618</td>\n",
              "      <td>0</td>\n",
              "      <td>Comprado</td>\n",
              "    </tr>\n",
              "  </tbody>\n",
              "</table>\n",
              "<p>5 rows × 33 columns</p>\n",
              "</div>"
            ],
            "text/plain": [
              "     AÑO  MES  CONGLOME  VIVIENDA  HOGAR  UBIGEO  DOMINIO  ESTRATO  P601A  \\\n",
              "0   2022    1      5030         8     11   10201        7        4    100   \n",
              "1   2022    1      5030         8     11   10201        7        4    101   \n",
              "8   2022    1      5030         8     11   10201        7        4    108   \n",
              "15  2022    1      5030         8     11   10201        7        4    300   \n",
              "16  2022    1      5030         8     11   10201        7        4    301   \n",
              "\n",
              "                        P601X  ...  BLIBRE22 T601A71 T601A72 PRODUC61  \\\n",
              "0   PAN FRANCES Y OTROS PANES  ...                 0       0        0   \n",
              "1       Pan Corriente o común  ...                 0       0   110091   \n",
              "8   TOSTADAS INTEGRALES A GRA  ...                 0       0   110087   \n",
              "15  ARROZ (CORRIENTE Y SUPERI  ...                 0       0        0   \n",
              "16   Arroz Corriente a Granel  ...                 0       0   110100   \n",
              "\n",
              "   TICUEST01 I601E    FACTOR07 NCONGLOME SUB_CONGLOME  \\\n",
              "0          2        106.890244      6618            0   \n",
              "1          2        106.890244      6618            0   \n",
              "8          2        106.890244      6618            0   \n",
              "15         2        106.890244      6618            0   \n",
              "16         2        106.890244      6618            0   \n",
              "\n",
              "   Forma de obtención de producto  \n",
              "0                        Comprado  \n",
              "1                        Comprado  \n",
              "8                        Comprado  \n",
              "15                       Comprado  \n",
              "16                       Comprado  \n",
              "\n",
              "[5 rows x 33 columns]"
            ]
          },
          "execution_count": 82,
          "metadata": {},
          "output_type": "execute_result"
        }
      ],
      "source": [
        "df_filtered.head()"
      ]
    },
    {
      "cell_type": "code",
      "execution_count": null,
      "id": "7c542564",
      "metadata": {
        "id": "7c542564"
      },
      "outputs": [],
      "source": [
        "columns_to_select = ['CONGLOME', 'VIVIENDA', 'HOGAR', 'P601X', 'Forma de obtención de producto', 'P601B1', 'P601B2', 'P601B3', 'P601B4', 'PRODUC61']\n",
        "df_selected = df_filtered[columns_to_select]"
      ]
    },
    {
      "cell_type": "code",
      "execution_count": null,
      "id": "9126dcfc",
      "metadata": {
        "id": "9126dcfc",
        "outputId": "889bed85-9688-49d9-fa12-f0d668f68b26"
      },
      "outputs": [
        {
          "data": {
            "text/html": [
              "<div>\n",
              "<style scoped>\n",
              "    .dataframe tbody tr th:only-of-type {\n",
              "        vertical-align: middle;\n",
              "    }\n",
              "\n",
              "    .dataframe tbody tr th {\n",
              "        vertical-align: top;\n",
              "    }\n",
              "\n",
              "    .dataframe thead th {\n",
              "        text-align: right;\n",
              "    }\n",
              "</style>\n",
              "<table border=\"1\" class=\"dataframe\">\n",
              "  <thead>\n",
              "    <tr style=\"text-align: right;\">\n",
              "      <th></th>\n",
              "      <th>CONGLOME</th>\n",
              "      <th>VIVIENDA</th>\n",
              "      <th>HOGAR</th>\n",
              "      <th>P601X</th>\n",
              "      <th>Forma de obtención de producto</th>\n",
              "      <th>P601B1</th>\n",
              "      <th>P601B2</th>\n",
              "      <th>P601B3</th>\n",
              "      <th>P601B4</th>\n",
              "      <th>PRODUC61</th>\n",
              "    </tr>\n",
              "  </thead>\n",
              "  <tbody>\n",
              "    <tr>\n",
              "      <th>0</th>\n",
              "      <td>5030</td>\n",
              "      <td>8</td>\n",
              "      <td>11</td>\n",
              "      <td>PAN FRANCES Y OTROS PANES</td>\n",
              "      <td>Comprado</td>\n",
              "      <td></td>\n",
              "      <td></td>\n",
              "      <td></td>\n",
              "      <td></td>\n",
              "      <td>0</td>\n",
              "    </tr>\n",
              "    <tr>\n",
              "      <th>1</th>\n",
              "      <td>5030</td>\n",
              "      <td>8</td>\n",
              "      <td>11</td>\n",
              "      <td>Pan Corriente o común</td>\n",
              "      <td>Comprado</td>\n",
              "      <td>2</td>\n",
              "      <td>150</td>\n",
              "      <td>2</td>\n",
              "      <td>6</td>\n",
              "      <td>110091</td>\n",
              "    </tr>\n",
              "    <tr>\n",
              "      <th>8</th>\n",
              "      <td>5030</td>\n",
              "      <td>8</td>\n",
              "      <td>11</td>\n",
              "      <td>TOSTADAS INTEGRALES A GRA</td>\n",
              "      <td>Comprado</td>\n",
              "      <td>4</td>\n",
              "      <td>.370000004768372</td>\n",
              "      <td>9</td>\n",
              "      <td>4</td>\n",
              "      <td>110087</td>\n",
              "    </tr>\n",
              "    <tr>\n",
              "      <th>15</th>\n",
              "      <td>5030</td>\n",
              "      <td>8</td>\n",
              "      <td>11</td>\n",
              "      <td>ARROZ (CORRIENTE Y SUPERI</td>\n",
              "      <td>Comprado</td>\n",
              "      <td></td>\n",
              "      <td></td>\n",
              "      <td></td>\n",
              "      <td></td>\n",
              "      <td>0</td>\n",
              "    </tr>\n",
              "    <tr>\n",
              "      <th>16</th>\n",
              "      <td>5030</td>\n",
              "      <td>8</td>\n",
              "      <td>11</td>\n",
              "      <td>Arroz Corriente a Granel</td>\n",
              "      <td>Comprado</td>\n",
              "      <td>2</td>\n",
              "      <td>1</td>\n",
              "      <td>9</td>\n",
              "      <td>6</td>\n",
              "      <td>110100</td>\n",
              "    </tr>\n",
              "  </tbody>\n",
              "</table>\n",
              "</div>"
            ],
            "text/plain": [
              "    CONGLOME  VIVIENDA  HOGAR                      P601X  \\\n",
              "0       5030         8     11  PAN FRANCES Y OTROS PANES   \n",
              "1       5030         8     11      Pan Corriente o común   \n",
              "8       5030         8     11  TOSTADAS INTEGRALES A GRA   \n",
              "15      5030         8     11  ARROZ (CORRIENTE Y SUPERI   \n",
              "16      5030         8     11   Arroz Corriente a Granel   \n",
              "\n",
              "   Forma de obtención de producto P601B1            P601B2 P601B3 P601B4  \\\n",
              "0                        Comprado                                          \n",
              "1                        Comprado      2               150      2      6   \n",
              "8                        Comprado      4  .370000004768372      9      4   \n",
              "15                       Comprado                                          \n",
              "16                       Comprado      2                 1      9      6   \n",
              "\n",
              "    PRODUC61  \n",
              "0          0  \n",
              "1     110091  \n",
              "8     110087  \n",
              "15         0  \n",
              "16    110100  "
            ]
          },
          "execution_count": 84,
          "metadata": {},
          "output_type": "execute_result"
        }
      ],
      "source": [
        "df_selected.head()"
      ]
    },
    {
      "cell_type": "code",
      "execution_count": null,
      "id": "25ac2637",
      "metadata": {
        "id": "25ac2637",
        "outputId": "08cd3473-3dd2-4f33-a6ad-94a2aae11dc2"
      },
      "outputs": [
        {
          "data": {
            "text/plain": [
              "(2733695, 10)"
            ]
          },
          "execution_count": 85,
          "metadata": {},
          "output_type": "execute_result"
        }
      ],
      "source": [
        "df_selected.shape"
      ]
    },
    {
      "cell_type": "code",
      "execution_count": null,
      "id": "8628eaff",
      "metadata": {
        "id": "8628eaff"
      },
      "outputs": [],
      "source": [
        "df_selected = df_selected.rename(columns={\n",
        "    'P601X': 'Nombre del producto',\n",
        "    'P601B1': 'Frecuencia de compra',\n",
        "    'P601B2': 'Precio',\n",
        "    'P601B3': 'Cantidad comprada (unidad de medida)',\n",
        "    'P601B4': 'Lugar de compra',\n",
        "    'PRODUC61': 'Codigo de producto'\n",
        "})"
      ]
    },
    {
      "cell_type": "code",
      "execution_count": null,
      "id": "991292e4",
      "metadata": {
        "id": "991292e4",
        "outputId": "2646356b-2c52-4110-8425-345ecc359cc6"
      },
      "outputs": [
        {
          "data": {
            "text/html": [
              "<div>\n",
              "<style scoped>\n",
              "    .dataframe tbody tr th:only-of-type {\n",
              "        vertical-align: middle;\n",
              "    }\n",
              "\n",
              "    .dataframe tbody tr th {\n",
              "        vertical-align: top;\n",
              "    }\n",
              "\n",
              "    .dataframe thead th {\n",
              "        text-align: right;\n",
              "    }\n",
              "</style>\n",
              "<table border=\"1\" class=\"dataframe\">\n",
              "  <thead>\n",
              "    <tr style=\"text-align: right;\">\n",
              "      <th></th>\n",
              "      <th>CONGLOME</th>\n",
              "      <th>VIVIENDA</th>\n",
              "      <th>HOGAR</th>\n",
              "      <th>Nombre del producto</th>\n",
              "      <th>Forma de obtención de producto</th>\n",
              "      <th>Frecuencia de compra</th>\n",
              "      <th>Precio</th>\n",
              "      <th>Cantidad comprada (unidad de medida)</th>\n",
              "      <th>Lugar de compra</th>\n",
              "      <th>Codigo de producto</th>\n",
              "    </tr>\n",
              "  </thead>\n",
              "  <tbody>\n",
              "    <tr>\n",
              "      <th>0</th>\n",
              "      <td>5030</td>\n",
              "      <td>8</td>\n",
              "      <td>11</td>\n",
              "      <td>PAN FRANCES Y OTROS PANES</td>\n",
              "      <td>Comprado</td>\n",
              "      <td></td>\n",
              "      <td></td>\n",
              "      <td></td>\n",
              "      <td></td>\n",
              "      <td>0</td>\n",
              "    </tr>\n",
              "    <tr>\n",
              "      <th>1</th>\n",
              "      <td>5030</td>\n",
              "      <td>8</td>\n",
              "      <td>11</td>\n",
              "      <td>Pan Corriente o común</td>\n",
              "      <td>Comprado</td>\n",
              "      <td>2</td>\n",
              "      <td>150</td>\n",
              "      <td>2</td>\n",
              "      <td>6</td>\n",
              "      <td>110091</td>\n",
              "    </tr>\n",
              "    <tr>\n",
              "      <th>8</th>\n",
              "      <td>5030</td>\n",
              "      <td>8</td>\n",
              "      <td>11</td>\n",
              "      <td>TOSTADAS INTEGRALES A GRA</td>\n",
              "      <td>Comprado</td>\n",
              "      <td>4</td>\n",
              "      <td>.370000004768372</td>\n",
              "      <td>9</td>\n",
              "      <td>4</td>\n",
              "      <td>110087</td>\n",
              "    </tr>\n",
              "    <tr>\n",
              "      <th>15</th>\n",
              "      <td>5030</td>\n",
              "      <td>8</td>\n",
              "      <td>11</td>\n",
              "      <td>ARROZ (CORRIENTE Y SUPERI</td>\n",
              "      <td>Comprado</td>\n",
              "      <td></td>\n",
              "      <td></td>\n",
              "      <td></td>\n",
              "      <td></td>\n",
              "      <td>0</td>\n",
              "    </tr>\n",
              "    <tr>\n",
              "      <th>16</th>\n",
              "      <td>5030</td>\n",
              "      <td>8</td>\n",
              "      <td>11</td>\n",
              "      <td>Arroz Corriente a Granel</td>\n",
              "      <td>Comprado</td>\n",
              "      <td>2</td>\n",
              "      <td>1</td>\n",
              "      <td>9</td>\n",
              "      <td>6</td>\n",
              "      <td>110100</td>\n",
              "    </tr>\n",
              "  </tbody>\n",
              "</table>\n",
              "</div>"
            ],
            "text/plain": [
              "    CONGLOME  VIVIENDA  HOGAR        Nombre del producto  \\\n",
              "0       5030         8     11  PAN FRANCES Y OTROS PANES   \n",
              "1       5030         8     11      Pan Corriente o común   \n",
              "8       5030         8     11  TOSTADAS INTEGRALES A GRA   \n",
              "15      5030         8     11  ARROZ (CORRIENTE Y SUPERI   \n",
              "16      5030         8     11   Arroz Corriente a Granel   \n",
              "\n",
              "   Forma de obtención de producto Frecuencia de compra            Precio  \\\n",
              "0                        Comprado                                          \n",
              "1                        Comprado                    2               150   \n",
              "8                        Comprado                    4  .370000004768372   \n",
              "15                       Comprado                                          \n",
              "16                       Comprado                    2                 1   \n",
              "\n",
              "   Cantidad comprada (unidad de medida) Lugar de compra  Codigo de producto  \n",
              "0                                                                         0  \n",
              "1                                     2               6              110091  \n",
              "8                                     9               4              110087  \n",
              "15                                                                        0  \n",
              "16                                    9               6              110100  "
            ]
          },
          "execution_count": 87,
          "metadata": {},
          "output_type": "execute_result"
        }
      ],
      "source": [
        "df_selected.head()"
      ]
    },
    {
      "cell_type": "code",
      "execution_count": null,
      "id": "5db6ff42",
      "metadata": {
        "id": "5db6ff42"
      },
      "outputs": [],
      "source": [
        "df_final = df_selected[df_selected['Codigo de producto'] != 0]"
      ]
    },
    {
      "cell_type": "markdown",
      "id": "187ce10a",
      "metadata": {
        "id": "187ce10a"
      },
      "source": [
        "Se excluyen todos los registros en que los productos son iguales a 0 debido a que presentan nulos en todas las variables a comparar, asimismo, no se puede realizar un reemplazo a los valores vacios debido a que el procedimiento que se plantea realizar es un reemplazo por la moda en base al codigo de producto, pero como el codigo de producto es 0, no hay valores con que reemplazar."
      ]
    },
    {
      "cell_type": "code",
      "execution_count": null,
      "id": "5d2ba52c",
      "metadata": {
        "id": "5d2ba52c",
        "outputId": "b41c6bee-db57-4da8-edee-4ec2089b14f6"
      },
      "outputs": [
        {
          "data": {
            "text/plain": [
              "(1759681, 10)"
            ]
          },
          "execution_count": 89,
          "metadata": {},
          "output_type": "execute_result"
        }
      ],
      "source": [
        "df_final.shape"
      ]
    },
    {
      "cell_type": "code",
      "execution_count": null,
      "id": "194edf97",
      "metadata": {
        "scrolled": true,
        "id": "194edf97",
        "outputId": "5519235f-e9a6-4ce0-8736-ccb4712fe722"
      },
      "outputs": [
        {
          "data": {
            "text/html": [
              "<div>\n",
              "<style scoped>\n",
              "    .dataframe tbody tr th:only-of-type {\n",
              "        vertical-align: middle;\n",
              "    }\n",
              "\n",
              "    .dataframe tbody tr th {\n",
              "        vertical-align: top;\n",
              "    }\n",
              "\n",
              "    .dataframe thead th {\n",
              "        text-align: right;\n",
              "    }\n",
              "</style>\n",
              "<table border=\"1\" class=\"dataframe\">\n",
              "  <thead>\n",
              "    <tr style=\"text-align: right;\">\n",
              "      <th></th>\n",
              "      <th>CONGLOME</th>\n",
              "      <th>VIVIENDA</th>\n",
              "      <th>HOGAR</th>\n",
              "      <th>Nombre del producto</th>\n",
              "      <th>Forma de obtención de producto</th>\n",
              "      <th>Frecuencia de compra</th>\n",
              "      <th>Precio</th>\n",
              "      <th>Cantidad comprada (unidad de medida)</th>\n",
              "      <th>Lugar de compra</th>\n",
              "      <th>Codigo de producto</th>\n",
              "    </tr>\n",
              "  </thead>\n",
              "  <tbody>\n",
              "    <tr>\n",
              "      <th>1</th>\n",
              "      <td>5030</td>\n",
              "      <td>8</td>\n",
              "      <td>11</td>\n",
              "      <td>Pan Corriente o común</td>\n",
              "      <td>Comprado</td>\n",
              "      <td>2</td>\n",
              "      <td>150</td>\n",
              "      <td>2</td>\n",
              "      <td>6</td>\n",
              "      <td>110091</td>\n",
              "    </tr>\n",
              "    <tr>\n",
              "      <th>8</th>\n",
              "      <td>5030</td>\n",
              "      <td>8</td>\n",
              "      <td>11</td>\n",
              "      <td>TOSTADAS INTEGRALES A GRA</td>\n",
              "      <td>Comprado</td>\n",
              "      <td>4</td>\n",
              "      <td>.370000004768372</td>\n",
              "      <td>9</td>\n",
              "      <td>4</td>\n",
              "      <td>110087</td>\n",
              "    </tr>\n",
              "    <tr>\n",
              "      <th>16</th>\n",
              "      <td>5030</td>\n",
              "      <td>8</td>\n",
              "      <td>11</td>\n",
              "      <td>Arroz Corriente a Granel</td>\n",
              "      <td>Comprado</td>\n",
              "      <td>2</td>\n",
              "      <td>1</td>\n",
              "      <td>9</td>\n",
              "      <td>6</td>\n",
              "      <td>110100</td>\n",
              "    </tr>\n",
              "    <tr>\n",
              "      <th>28</th>\n",
              "      <td>5030</td>\n",
              "      <td>8</td>\n",
              "      <td>11</td>\n",
              "      <td>Papa Blanca</td>\n",
              "      <td>Comprado</td>\n",
              "      <td>3</td>\n",
              "      <td>1</td>\n",
              "      <td>9</td>\n",
              "      <td>6</td>\n",
              "      <td>110915</td>\n",
              "    </tr>\n",
              "    <tr>\n",
              "      <th>29</th>\n",
              "      <td>5030</td>\n",
              "      <td>8</td>\n",
              "      <td>11</td>\n",
              "      <td>Papa Amarilla</td>\n",
              "      <td>Comprado</td>\n",
              "      <td>3</td>\n",
              "      <td>.5</td>\n",
              "      <td>9</td>\n",
              "      <td>6</td>\n",
              "      <td>110913</td>\n",
              "    </tr>\n",
              "  </tbody>\n",
              "</table>\n",
              "</div>"
            ],
            "text/plain": [
              "    CONGLOME  VIVIENDA  HOGAR        Nombre del producto  \\\n",
              "1       5030         8     11      Pan Corriente o común   \n",
              "8       5030         8     11  TOSTADAS INTEGRALES A GRA   \n",
              "16      5030         8     11   Arroz Corriente a Granel   \n",
              "28      5030         8     11                Papa Blanca   \n",
              "29      5030         8     11              Papa Amarilla   \n",
              "\n",
              "   Forma de obtención de producto Frecuencia de compra            Precio  \\\n",
              "1                        Comprado                    2               150   \n",
              "8                        Comprado                    4  .370000004768372   \n",
              "16                       Comprado                    2                 1   \n",
              "28                       Comprado                    3                 1   \n",
              "29                       Comprado                    3                .5   \n",
              "\n",
              "   Cantidad comprada (unidad de medida) Lugar de compra  Codigo de producto  \n",
              "1                                     2               6              110091  \n",
              "8                                     9               4              110087  \n",
              "16                                    9               6              110100  \n",
              "28                                    9               6              110915  \n",
              "29                                    9               6              110913  "
            ]
          },
          "execution_count": 90,
          "metadata": {},
          "output_type": "execute_result"
        }
      ],
      "source": [
        "df_final.head()"
      ]
    },
    {
      "cell_type": "code",
      "execution_count": null,
      "id": "5b38ecf7",
      "metadata": {
        "id": "5b38ecf7",
        "outputId": "cd8daba1-2901-418f-ab80-c8b4041f5dd9"
      },
      "outputs": [
        {
          "name": "stderr",
          "output_type": "stream",
          "text": [
            "C:\\Users\\dchir\\AppData\\Local\\Temp\\ipykernel_16328\\4246219464.py:2: SettingWithCopyWarning: \n",
            "A value is trying to be set on a copy of a slice from a DataFrame.\n",
            "Try using .loc[row_indexer,col_indexer] = value instead\n",
            "\n",
            "See the caveats in the documentation: https://pandas.pydata.org/pandas-docs/stable/user_guide/indexing.html#returning-a-view-versus-a-copy\n",
            "  df_final['Precio'] = df_final['Precio'].replace(' ', np.nan)\n",
            "C:\\Users\\dchir\\AppData\\Local\\Temp\\ipykernel_16328\\4246219464.py:5: SettingWithCopyWarning: \n",
            "A value is trying to be set on a copy of a slice from a DataFrame.\n",
            "Try using .loc[row_indexer,col_indexer] = value instead\n",
            "\n",
            "See the caveats in the documentation: https://pandas.pydata.org/pandas-docs/stable/user_guide/indexing.html#returning-a-view-versus-a-copy\n",
            "  df_final['Precio'] = df_final['Precio'].astype(float)\n",
            "C:\\Users\\dchir\\AppData\\Local\\Temp\\ipykernel_16328\\4246219464.py:11: SettingWithCopyWarning: \n",
            "A value is trying to be set on a copy of a slice from a DataFrame.\n",
            "Try using .loc[row_indexer,col_indexer] = value instead\n",
            "\n",
            "See the caveats in the documentation: https://pandas.pydata.org/pandas-docs/stable/user_guide/indexing.html#returning-a-view-versus-a-copy\n",
            "  df_final['Precio'] = df_final['Precio'].round(2)\n"
          ]
        }
      ],
      "source": [
        "# Reemplazar espacios en blanco con NaN\n",
        "df_final['Precio'] = df_final['Precio'].replace(' ', np.nan)\n",
        "\n",
        "# Convertir la columna a float\n",
        "df_final['Precio'] = df_final['Precio'].astype(float)\n",
        "\n",
        "# Opcional: reemplazar NaN con 0 (o cualquier otro valor que prefieras)\n",
        "# df_final['Precio'] = df_final['Precio'].fillna(0)\n",
        "\n",
        "# Redondear a 2 decimales\n",
        "df_final['Precio'] = df_final['Precio'].round(2)"
      ]
    },
    {
      "cell_type": "code",
      "execution_count": null,
      "id": "558191f3",
      "metadata": {
        "id": "558191f3",
        "outputId": "02b4d5c1-1779-412d-b3ea-48182efdc056"
      },
      "outputs": [
        {
          "data": {
            "text/plain": [
              "(1759681, 10)"
            ]
          },
          "execution_count": 92,
          "metadata": {},
          "output_type": "execute_result"
        }
      ],
      "source": [
        "df_final.shape"
      ]
    },
    {
      "cell_type": "code",
      "execution_count": null,
      "id": "f0f915fa",
      "metadata": {
        "scrolled": true,
        "id": "f0f915fa",
        "outputId": "7b8b2621-1276-4a34-a8f4-374561e9cfc0"
      },
      "outputs": [
        {
          "name": "stdout",
          "output_type": "stream",
          "text": [
            "Cantidad de valores nulos por columna:\n",
            "CONGLOME                                     0\n",
            "VIVIENDA                                     0\n",
            "HOGAR                                        0\n",
            "Nombre del producto                          0\n",
            "Forma de obtención de producto               0\n",
            "Frecuencia de compra                         0\n",
            "Precio                                  350060\n",
            "Cantidad comprada (unidad de medida)         0\n",
            "Lugar de compra                              0\n",
            "Codigo de producto                           0\n",
            "dtype: int64\n",
            "\n",
            "Cantidad de cadenas vacías por columna:\n",
            "CONGLOME                                0\n",
            "VIVIENDA                                0\n",
            "HOGAR                                   0\n",
            "Nombre del producto                     0\n",
            "Forma de obtención de producto          0\n",
            "Frecuencia de compra                    0\n",
            "Precio                                  0\n",
            "Cantidad comprada (unidad de medida)    0\n",
            "Lugar de compra                         0\n",
            "Codigo de producto                      0\n",
            "dtype: int64\n",
            "\n",
            "Cantidad total de valores ausentes (nulos o cadenas vacías) por columna:\n",
            "CONGLOME                                     0\n",
            "VIVIENDA                                     0\n",
            "HOGAR                                        0\n",
            "Nombre del producto                          0\n",
            "Forma de obtención de producto               0\n",
            "Frecuencia de compra                         0\n",
            "Precio                                  350060\n",
            "Cantidad comprada (unidad de medida)         0\n",
            "Lugar de compra                              0\n",
            "Codigo de producto                           0\n",
            "dtype: int64\n"
          ]
        }
      ],
      "source": [
        "# Contar valores nulos en cada columna\n",
        "null_counts = df_final.isna().sum()\n",
        "print(\"Cantidad de valores nulos por columna:\")\n",
        "print(null_counts)\n",
        "\n",
        "# Contar valores vacíos (cadenas vacías) en cada columna\n",
        "empty_string_counts = df_final.applymap(lambda x: x == '').sum()\n",
        "print(\"\\nCantidad de cadenas vacías por columna:\")\n",
        "print(empty_string_counts)\n",
        "\n",
        "# Sumar ambos conteos para obtener el total de valores \"ausentes\" por columna\n",
        "total_absent_values = null_counts + empty_string_counts\n",
        "print(\"\\nCantidad total de valores ausentes (nulos o cadenas vacías) por columna:\")\n",
        "print(total_absent_values)"
      ]
    },
    {
      "cell_type": "code",
      "execution_count": null,
      "id": "bc8026d5",
      "metadata": {
        "id": "bc8026d5",
        "outputId": "3111d57b-be54-414c-f69c-455a410d8c9f"
      },
      "outputs": [
        {
          "name": "stderr",
          "output_type": "stream",
          "text": [
            "C:\\Users\\dchir\\AppData\\Local\\Temp\\ipykernel_16328\\458337301.py:2: SettingWithCopyWarning: \n",
            "A value is trying to be set on a copy of a slice from a DataFrame.\n",
            "Try using .loc[row_indexer,col_indexer] = value instead\n",
            "\n",
            "See the caveats in the documentation: https://pandas.pydata.org/pandas-docs/stable/user_guide/indexing.html#returning-a-view-versus-a-copy\n",
            "  df_final['Precio'] = df_final['Precio'].replace('', np.nan).astype(float)\n",
            "C:\\Users\\dchir\\AppData\\Local\\Temp\\ipykernel_16328\\458337301.py:8: SettingWithCopyWarning: \n",
            "A value is trying to be set on a copy of a slice from a DataFrame\n",
            "\n",
            "See the caveats in the documentation: https://pandas.pydata.org/pandas-docs/stable/user_guide/indexing.html#returning-a-view-versus-a-copy\n",
            "  df_final['Precio'].fillna(avg_price_by_product, inplace=True)\n"
          ]
        }
      ],
      "source": [
        "# Convertir valores vacíos en NaN\n",
        "df_final['Precio'] = df_final['Precio'].replace('', np.nan).astype(float)\n",
        "\n",
        "# Calcular el promedio de 'Precio' por 'Codigo de producto', excluyendo los valores nulos\n",
        "avg_price_by_product = df_final.groupby('Codigo de producto')['Precio'].transform('mean')\n",
        "\n",
        "# Reemplazar valores nulos en 'Precio' con el promedio calculado\n",
        "df_final['Precio'].fillna(avg_price_by_product, inplace=True)"
      ]
    },
    {
      "cell_type": "code",
      "execution_count": null,
      "id": "3b5475fb",
      "metadata": {
        "id": "3b5475fb",
        "outputId": "47f475b4-7f4b-4223-936c-8c2fba877a4a"
      },
      "outputs": [
        {
          "name": "stdout",
          "output_type": "stream",
          "text": [
            "Cantidad de valores nulos por columna:\n",
            "CONGLOME                                  0\n",
            "VIVIENDA                                  0\n",
            "HOGAR                                     0\n",
            "Nombre del producto                       0\n",
            "Forma de obtención de producto            0\n",
            "Frecuencia de compra                      0\n",
            "Precio                                  522\n",
            "Cantidad comprada (unidad de medida)      0\n",
            "Lugar de compra                           0\n",
            "Codigo de producto                        0\n",
            "dtype: int64\n",
            "\n",
            "Cantidad de cadenas vacías por columna:\n",
            "CONGLOME                                0\n",
            "VIVIENDA                                0\n",
            "HOGAR                                   0\n",
            "Nombre del producto                     0\n",
            "Forma de obtención de producto          0\n",
            "Frecuencia de compra                    0\n",
            "Precio                                  0\n",
            "Cantidad comprada (unidad de medida)    0\n",
            "Lugar de compra                         0\n",
            "Codigo de producto                      0\n",
            "dtype: int64\n",
            "\n",
            "Cantidad total de valores ausentes (nulos o cadenas vacías) por columna:\n",
            "CONGLOME                                  0\n",
            "VIVIENDA                                  0\n",
            "HOGAR                                     0\n",
            "Nombre del producto                       0\n",
            "Forma de obtención de producto            0\n",
            "Frecuencia de compra                      0\n",
            "Precio                                  522\n",
            "Cantidad comprada (unidad de medida)      0\n",
            "Lugar de compra                           0\n",
            "Codigo de producto                        0\n",
            "dtype: int64\n"
          ]
        }
      ],
      "source": [
        "# Contar valores nulos en cada columna\n",
        "null_counts = df_final.isna().sum()\n",
        "print(\"Cantidad de valores nulos por columna:\")\n",
        "print(null_counts)\n",
        "\n",
        "# Contar valores vacíos (cadenas vacías) en cada columna\n",
        "empty_string_counts = df_final.applymap(lambda x: x == '').sum()\n",
        "print(\"\\nCantidad de cadenas vacías por columna:\")\n",
        "print(empty_string_counts)\n",
        "\n",
        "# Sumar ambos conteos para obtener el total de valores \"ausentes\" por columna\n",
        "total_absent_values = null_counts + empty_string_counts\n",
        "print(\"\\nCantidad total de valores ausentes (nulos o cadenas vacías) por columna:\")\n",
        "print(total_absent_values)"
      ]
    },
    {
      "cell_type": "markdown",
      "id": "423b9841",
      "metadata": {
        "id": "423b9841"
      },
      "source": [
        "Se evidencia que se ha elimiado los valores nulos en el precio en base al codigo de producto 110091. Lo que se ha realizado es reemplazar el promedio por codigo de producto en los valores nulos o vacios en este caso."
      ]
    },
    {
      "cell_type": "code",
      "execution_count": null,
      "id": "7c8756d1",
      "metadata": {
        "id": "7c8756d1",
        "outputId": "c487b2fc-54a5-425c-a76f-f9fb8eb8e805"
      },
      "outputs": [
        {
          "data": {
            "text/plain": [
              "(1759681, 10)"
            ]
          },
          "execution_count": 96,
          "metadata": {},
          "output_type": "execute_result"
        }
      ],
      "source": [
        "df_final.shape"
      ]
    },
    {
      "cell_type": "code",
      "execution_count": null,
      "id": "babf1da8",
      "metadata": {
        "id": "babf1da8"
      },
      "outputs": [],
      "source": [
        "# Filtrar registros donde 'Precio' no es nulo o vacío\n",
        "df_final = df_final[df_final['Precio'].notna() & (df_final['Precio'] != '')]"
      ]
    },
    {
      "cell_type": "code",
      "execution_count": null,
      "id": "840dd2fb",
      "metadata": {
        "id": "840dd2fb"
      },
      "outputs": [],
      "source": [
        "# Lista de columnas a verificar\n",
        "cols_to_fill = [\n",
        "    'Frecuencia de compra',\n",
        "    'Cantidad comprada (unidad de medida)',\n",
        "    'Lugar de compra'\n",
        "]\n",
        "\n",
        "# Para cada columna, calcular la moda por 'Codigo de producto' y reemplazar valores nulos o vacíos\n",
        "for col in cols_to_fill:\n",
        "    # Calcular la moda por 'Codigo de producto'\n",
        "    mode_by_product = df_final.groupby('Codigo de producto')[col].apply(lambda x: x.mode().iloc[0] if not x.mode().empty else np.nan)\n",
        "\n",
        "    # Reemplazar valores nulos o vacíos con la moda calculada\n",
        "    df_final[col] = df_final.groupby('Codigo de producto')[col].transform(lambda x: x.fillna(mode_by_product[x.name]))\n",
        "\n",
        "    # Reemplazar valores vacíos con la moda calculada (en caso de que la columna sea de tipo string)\n",
        "    df_final[col] = df_final.groupby('Codigo de producto')[col].transform(lambda x: x.replace('', mode_by_product[x.name]))\n"
      ]
    },
    {
      "cell_type": "code",
      "execution_count": null,
      "id": "f2b6ae55",
      "metadata": {
        "id": "f2b6ae55",
        "outputId": "55df780c-27a2-4773-d625-08d4e91fbf0d"
      },
      "outputs": [
        {
          "data": {
            "text/plain": [
              "(1759159, 10)"
            ]
          },
          "execution_count": 99,
          "metadata": {},
          "output_type": "execute_result"
        }
      ],
      "source": [
        "df_final.shape"
      ]
    },
    {
      "cell_type": "code",
      "execution_count": null,
      "id": "82c6b7e1",
      "metadata": {
        "id": "82c6b7e1",
        "outputId": "b6999623-0d9c-4dfc-ac59-8a48f22a48f7"
      },
      "outputs": [
        {
          "data": {
            "text/html": [
              "<div>\n",
              "<style scoped>\n",
              "    .dataframe tbody tr th:only-of-type {\n",
              "        vertical-align: middle;\n",
              "    }\n",
              "\n",
              "    .dataframe tbody tr th {\n",
              "        vertical-align: top;\n",
              "    }\n",
              "\n",
              "    .dataframe thead th {\n",
              "        text-align: right;\n",
              "    }\n",
              "</style>\n",
              "<table border=\"1\" class=\"dataframe\">\n",
              "  <thead>\n",
              "    <tr style=\"text-align: right;\">\n",
              "      <th></th>\n",
              "      <th>CONGLOME</th>\n",
              "      <th>VIVIENDA</th>\n",
              "      <th>HOGAR</th>\n",
              "      <th>Nombre del producto</th>\n",
              "      <th>Forma de obtención de producto</th>\n",
              "      <th>Frecuencia de compra</th>\n",
              "      <th>Precio</th>\n",
              "      <th>Cantidad comprada (unidad de medida)</th>\n",
              "      <th>Lugar de compra</th>\n",
              "      <th>Codigo de producto</th>\n",
              "    </tr>\n",
              "  </thead>\n",
              "  <tbody>\n",
              "    <tr>\n",
              "      <th>1</th>\n",
              "      <td>5030</td>\n",
              "      <td>8</td>\n",
              "      <td>11</td>\n",
              "      <td>Pan Corriente o común</td>\n",
              "      <td>Comprado</td>\n",
              "      <td>2</td>\n",
              "      <td>150.00</td>\n",
              "      <td>2</td>\n",
              "      <td>6</td>\n",
              "      <td>110091</td>\n",
              "    </tr>\n",
              "    <tr>\n",
              "      <th>8</th>\n",
              "      <td>5030</td>\n",
              "      <td>8</td>\n",
              "      <td>11</td>\n",
              "      <td>TOSTADAS INTEGRALES A GRA</td>\n",
              "      <td>Comprado</td>\n",
              "      <td>4</td>\n",
              "      <td>0.37</td>\n",
              "      <td>9</td>\n",
              "      <td>4</td>\n",
              "      <td>110087</td>\n",
              "    </tr>\n",
              "    <tr>\n",
              "      <th>16</th>\n",
              "      <td>5030</td>\n",
              "      <td>8</td>\n",
              "      <td>11</td>\n",
              "      <td>Arroz Corriente a Granel</td>\n",
              "      <td>Comprado</td>\n",
              "      <td>2</td>\n",
              "      <td>1.00</td>\n",
              "      <td>9</td>\n",
              "      <td>6</td>\n",
              "      <td>110100</td>\n",
              "    </tr>\n",
              "    <tr>\n",
              "      <th>28</th>\n",
              "      <td>5030</td>\n",
              "      <td>8</td>\n",
              "      <td>11</td>\n",
              "      <td>Papa Blanca</td>\n",
              "      <td>Comprado</td>\n",
              "      <td>3</td>\n",
              "      <td>1.00</td>\n",
              "      <td>9</td>\n",
              "      <td>6</td>\n",
              "      <td>110915</td>\n",
              "    </tr>\n",
              "    <tr>\n",
              "      <th>29</th>\n",
              "      <td>5030</td>\n",
              "      <td>8</td>\n",
              "      <td>11</td>\n",
              "      <td>Papa Amarilla</td>\n",
              "      <td>Comprado</td>\n",
              "      <td>3</td>\n",
              "      <td>0.50</td>\n",
              "      <td>9</td>\n",
              "      <td>6</td>\n",
              "      <td>110913</td>\n",
              "    </tr>\n",
              "  </tbody>\n",
              "</table>\n",
              "</div>"
            ],
            "text/plain": [
              "    CONGLOME  VIVIENDA  HOGAR        Nombre del producto  \\\n",
              "1       5030         8     11      Pan Corriente o común   \n",
              "8       5030         8     11  TOSTADAS INTEGRALES A GRA   \n",
              "16      5030         8     11   Arroz Corriente a Granel   \n",
              "28      5030         8     11                Papa Blanca   \n",
              "29      5030         8     11              Papa Amarilla   \n",
              "\n",
              "   Forma de obtención de producto Frecuencia de compra  Precio  \\\n",
              "1                        Comprado                    2  150.00   \n",
              "8                        Comprado                    4    0.37   \n",
              "16                       Comprado                    2    1.00   \n",
              "28                       Comprado                    3    1.00   \n",
              "29                       Comprado                    3    0.50   \n",
              "\n",
              "   Cantidad comprada (unidad de medida) Lugar de compra  Codigo de producto  \n",
              "1                                     2               6              110091  \n",
              "8                                     9               4              110087  \n",
              "16                                    9               6              110100  \n",
              "28                                    9               6              110915  \n",
              "29                                    9               6              110913  "
            ]
          },
          "execution_count": 100,
          "metadata": {},
          "output_type": "execute_result"
        }
      ],
      "source": [
        "df_final.head()"
      ]
    },
    {
      "cell_type": "code",
      "execution_count": null,
      "id": "94293945",
      "metadata": {
        "id": "94293945",
        "outputId": "ad235975-0f6c-443d-8e3d-3894264a44d0"
      },
      "outputs": [
        {
          "name": "stdout",
          "output_type": "stream",
          "text": [
            "CONGLOME                                0.0\n",
            "VIVIENDA                                0.0\n",
            "HOGAR                                   0.0\n",
            "Nombre del producto                       0\n",
            "Forma de obtención de producto            0\n",
            "Frecuencia de compra                      0\n",
            "Precio                                  0.0\n",
            "Cantidad comprada (unidad de medida)      0\n",
            "Lugar de compra                           0\n",
            "Codigo de producto                      0.0\n",
            "dtype: object\n"
          ]
        }
      ],
      "source": [
        "# Identificar valores nulos\n",
        "null_values = df_final.isnull().sum()\n",
        "\n",
        "# Identificar valores vacíos (asumiendo que las columnas con valores de tipo string pueden tener valores vacíos)\n",
        "empty_values = df_final[df_final == ''].sum()\n",
        "\n",
        "# Sumar ambos resultados para obtener el total de valores nulos o vacíos por columna\n",
        "total_missing = null_values + empty_values\n",
        "\n",
        "# Imprimir el resultado\n",
        "print(total_missing)"
      ]
    },
    {
      "cell_type": "code",
      "execution_count": null,
      "id": "d78db355",
      "metadata": {
        "id": "d78db355",
        "outputId": "82dd40f4-81f8-4fe2-ec30-fbb36b3aeaf5"
      },
      "outputs": [
        {
          "name": "stdout",
          "output_type": "stream",
          "text": [
            "CONGLOME                                0.0\n",
            "VIVIENDA                                0.0\n",
            "HOGAR                                   0.0\n",
            "Nombre del producto                       0\n",
            "Forma de obtención de producto            0\n",
            "Frecuencia de compra                      0\n",
            "Precio                                  0.0\n",
            "Cantidad comprada (unidad de medida)      0\n",
            "Lugar de compra                           0\n",
            "Codigo de producto                      0.0\n",
            "dtype: object\n"
          ]
        }
      ],
      "source": [
        "# Identificar valores nulos\n",
        "null_values = df_final.isnull().sum()\n",
        "\n",
        "# Identificar valores vacíos en columnas de tipo object (string)\n",
        "empty_values = df_final[df_final.select_dtypes(include=['object']) == ''].sum()\n",
        "\n",
        "# Sumar ambos resultados para obtener el total de valores nulos o vacíos por columna\n",
        "total_missing = null_values + empty_values\n",
        "\n",
        "# Imprimir el resultado\n",
        "print(total_missing)"
      ]
    },
    {
      "cell_type": "code",
      "execution_count": null,
      "id": "b3ec9653",
      "metadata": {
        "id": "b3ec9653",
        "outputId": "60bd8988-b162-4461-e797-f07ef0fd1d6c"
      },
      "outputs": [
        {
          "data": {
            "text/plain": [
              "(1759159, 10)"
            ]
          },
          "execution_count": 103,
          "metadata": {},
          "output_type": "execute_result"
        }
      ],
      "source": [
        "df_final.shape"
      ]
    },
    {
      "cell_type": "code",
      "execution_count": null,
      "id": "1747c002",
      "metadata": {
        "id": "1747c002",
        "outputId": "5ad00304-1f88-40a5-8fa5-74d603c8b6a5"
      },
      "outputs": [
        {
          "name": "stdout",
          "output_type": "stream",
          "text": [
            "Series([], Name: Frecuencia de compra, dtype: object)\n"
          ]
        }
      ],
      "source": [
        "# Verificar una muestra de los datos que parecen estar vacíos en la columna 'Frecuencia de compra'\n",
        "print(df_final[df_final['Frecuencia de compra'] == '']['Frecuencia de compra'].head())\n",
        "\n",
        "# Reemplazar espacios en blanco (y otros caracteres no visibles) con NaN\n",
        "df_final.replace(r'^\\s*$', np.nan, regex=True, inplace=True)"
      ]
    },
    {
      "cell_type": "code",
      "execution_count": null,
      "id": "02fc48a4",
      "metadata": {
        "id": "02fc48a4"
      },
      "outputs": [],
      "source": [
        "# Lista de columnas a verificar\n",
        "cols_to_fill = [\n",
        "    'Frecuencia de compra',\n",
        "    'Cantidad comprada (unidad de medida)',\n",
        "    'Lugar de compra'\n",
        "]\n",
        "\n",
        "# Para cada columna, calcular la moda por 'Codigo de producto' y reemplazar valores nulos o vacíos\n",
        "for col in cols_to_fill:\n",
        "    # Calcular la moda por 'Codigo de producto', excluyendo valores nulos y vacíos\n",
        "    mode_by_product = df_final[df_final[col].notna() & (df_final[col] != '')].groupby('Codigo de producto')[col].apply(lambda x: x.mode().iloc[0] if not x.mode().empty else np.nan)\n",
        "\n",
        "    # Reemplazar valores nulos o vacíos con la moda calculada\n",
        "    df_final[col] = df_final.groupby('Codigo de producto')[col].transform(lambda x: x.replace('', np.nan).fillna(mode_by_product[x.name]))"
      ]
    },
    {
      "cell_type": "code",
      "execution_count": null,
      "id": "8cff97b9",
      "metadata": {
        "scrolled": true,
        "id": "8cff97b9",
        "outputId": "6a4add06-8a95-4eee-9b64-7d299ed62ec6"
      },
      "outputs": [
        {
          "data": {
            "text/html": [
              "<div>\n",
              "<style scoped>\n",
              "    .dataframe tbody tr th:only-of-type {\n",
              "        vertical-align: middle;\n",
              "    }\n",
              "\n",
              "    .dataframe tbody tr th {\n",
              "        vertical-align: top;\n",
              "    }\n",
              "\n",
              "    .dataframe thead th {\n",
              "        text-align: right;\n",
              "    }\n",
              "</style>\n",
              "<table border=\"1\" class=\"dataframe\">\n",
              "  <thead>\n",
              "    <tr style=\"text-align: right;\">\n",
              "      <th></th>\n",
              "      <th>CONGLOME</th>\n",
              "      <th>VIVIENDA</th>\n",
              "      <th>HOGAR</th>\n",
              "      <th>Nombre del producto</th>\n",
              "      <th>Forma de obtención de producto</th>\n",
              "      <th>Frecuencia de compra</th>\n",
              "      <th>Precio</th>\n",
              "      <th>Cantidad comprada (unidad de medida)</th>\n",
              "      <th>Lugar de compra</th>\n",
              "      <th>Codigo de producto</th>\n",
              "    </tr>\n",
              "  </thead>\n",
              "  <tbody>\n",
              "    <tr>\n",
              "      <th>1</th>\n",
              "      <td>5030</td>\n",
              "      <td>8</td>\n",
              "      <td>11</td>\n",
              "      <td>Pan Corriente o común</td>\n",
              "      <td>Comprado</td>\n",
              "      <td>2</td>\n",
              "      <td>150.000000</td>\n",
              "      <td>2</td>\n",
              "      <td>6</td>\n",
              "      <td>110091</td>\n",
              "    </tr>\n",
              "    <tr>\n",
              "      <th>8</th>\n",
              "      <td>5030</td>\n",
              "      <td>8</td>\n",
              "      <td>11</td>\n",
              "      <td>TOSTADAS INTEGRALES A GRA</td>\n",
              "      <td>Comprado</td>\n",
              "      <td>4</td>\n",
              "      <td>0.370000</td>\n",
              "      <td>9</td>\n",
              "      <td>4</td>\n",
              "      <td>110087</td>\n",
              "    </tr>\n",
              "    <tr>\n",
              "      <th>16</th>\n",
              "      <td>5030</td>\n",
              "      <td>8</td>\n",
              "      <td>11</td>\n",
              "      <td>Arroz Corriente a Granel</td>\n",
              "      <td>Comprado</td>\n",
              "      <td>2</td>\n",
              "      <td>1.000000</td>\n",
              "      <td>9</td>\n",
              "      <td>6</td>\n",
              "      <td>110100</td>\n",
              "    </tr>\n",
              "    <tr>\n",
              "      <th>28</th>\n",
              "      <td>5030</td>\n",
              "      <td>8</td>\n",
              "      <td>11</td>\n",
              "      <td>Papa Blanca</td>\n",
              "      <td>Comprado</td>\n",
              "      <td>3</td>\n",
              "      <td>1.000000</td>\n",
              "      <td>9</td>\n",
              "      <td>6</td>\n",
              "      <td>110915</td>\n",
              "    </tr>\n",
              "    <tr>\n",
              "      <th>29</th>\n",
              "      <td>5030</td>\n",
              "      <td>8</td>\n",
              "      <td>11</td>\n",
              "      <td>Papa Amarilla</td>\n",
              "      <td>Comprado</td>\n",
              "      <td>3</td>\n",
              "      <td>0.500000</td>\n",
              "      <td>9</td>\n",
              "      <td>6</td>\n",
              "      <td>110913</td>\n",
              "    </tr>\n",
              "    <tr>\n",
              "      <th>35</th>\n",
              "      <td>5030</td>\n",
              "      <td>8</td>\n",
              "      <td>11</td>\n",
              "      <td>Azucar Rubia</td>\n",
              "      <td>Comprado</td>\n",
              "      <td>3</td>\n",
              "      <td>2.000000</td>\n",
              "      <td>9</td>\n",
              "      <td>6</td>\n",
              "      <td>111004</td>\n",
              "    </tr>\n",
              "    <tr>\n",
              "      <th>37</th>\n",
              "      <td>5030</td>\n",
              "      <td>8</td>\n",
              "      <td>11</td>\n",
              "      <td>Huevos a Granel de Gallin</td>\n",
              "      <td>Comprado</td>\n",
              "      <td>3</td>\n",
              "      <td>0.360000</td>\n",
              "      <td>9</td>\n",
              "      <td>6</td>\n",
              "      <td>110526</td>\n",
              "    </tr>\n",
              "    <tr>\n",
              "      <th>40</th>\n",
              "      <td>5030</td>\n",
              "      <td>8</td>\n",
              "      <td>11</td>\n",
              "      <td>HUEVO DE GALLINA DE CORRA</td>\n",
              "      <td>Otro</td>\n",
              "      <td>4</td>\n",
              "      <td>200.760105</td>\n",
              "      <td>2</td>\n",
              "      <td>11</td>\n",
              "      <td>110534</td>\n",
              "    </tr>\n",
              "    <tr>\n",
              "      <th>52</th>\n",
              "      <td>5030</td>\n",
              "      <td>8</td>\n",
              "      <td>11</td>\n",
              "      <td>Pollo Eviscerado</td>\n",
              "      <td>Comprado</td>\n",
              "      <td>10</td>\n",
              "      <td>0.500000</td>\n",
              "      <td>9</td>\n",
              "      <td>6</td>\n",
              "      <td>110235</td>\n",
              "    </tr>\n",
              "    <tr>\n",
              "      <th>59</th>\n",
              "      <td>5030</td>\n",
              "      <td>8</td>\n",
              "      <td>11</td>\n",
              "      <td>Menudencia de Pollo</td>\n",
              "      <td>Comprado</td>\n",
              "      <td>3</td>\n",
              "      <td>0.250000</td>\n",
              "      <td>9</td>\n",
              "      <td>6</td>\n",
              "      <td>110237</td>\n",
              "    </tr>\n",
              "  </tbody>\n",
              "</table>\n",
              "</div>"
            ],
            "text/plain": [
              "    CONGLOME  VIVIENDA  HOGAR        Nombre del producto  \\\n",
              "1       5030         8     11      Pan Corriente o común   \n",
              "8       5030         8     11  TOSTADAS INTEGRALES A GRA   \n",
              "16      5030         8     11   Arroz Corriente a Granel   \n",
              "28      5030         8     11                Papa Blanca   \n",
              "29      5030         8     11              Papa Amarilla   \n",
              "35      5030         8     11               Azucar Rubia   \n",
              "37      5030         8     11  Huevos a Granel de Gallin   \n",
              "40      5030         8     11  HUEVO DE GALLINA DE CORRA   \n",
              "52      5030         8     11           Pollo Eviscerado   \n",
              "59      5030         8     11        Menudencia de Pollo   \n",
              "\n",
              "   Forma de obtención de producto Frecuencia de compra      Precio  \\\n",
              "1                        Comprado                    2  150.000000   \n",
              "8                        Comprado                    4    0.370000   \n",
              "16                       Comprado                    2    1.000000   \n",
              "28                       Comprado                    3    1.000000   \n",
              "29                       Comprado                    3    0.500000   \n",
              "35                       Comprado                    3    2.000000   \n",
              "37                       Comprado                    3    0.360000   \n",
              "40                           Otro                    4  200.760105   \n",
              "52                       Comprado                   10    0.500000   \n",
              "59                       Comprado                    3    0.250000   \n",
              "\n",
              "   Cantidad comprada (unidad de medida) Lugar de compra  Codigo de producto  \n",
              "1                                     2               6              110091  \n",
              "8                                     9               4              110087  \n",
              "16                                    9               6              110100  \n",
              "28                                    9               6              110915  \n",
              "29                                    9               6              110913  \n",
              "35                                    9               6              111004  \n",
              "37                                    9               6              110526  \n",
              "40                                    2              11              110534  \n",
              "52                                    9               6              110235  \n",
              "59                                    9               6              110237  "
            ]
          },
          "execution_count": 106,
          "metadata": {},
          "output_type": "execute_result"
        }
      ],
      "source": [
        "df_final.head(10)"
      ]
    },
    {
      "cell_type": "code",
      "execution_count": null,
      "id": "532a9d45",
      "metadata": {
        "id": "532a9d45"
      },
      "outputs": [],
      "source": [
        "df_final.to_csv('Dataset/Gastos_final.csv', index=False)"
      ]
    }
  ],
  "metadata": {
    "kernelspec": {
      "display_name": "Python 3 (ipykernel)",
      "language": "python",
      "name": "python3"
    },
    "language_info": {
      "codemirror_mode": {
        "name": "ipython",
        "version": 3
      },
      "file_extension": ".py",
      "mimetype": "text/x-python",
      "name": "python",
      "nbconvert_exporter": "python",
      "pygments_lexer": "ipython3",
      "version": "3.11.4"
    },
    "colab": {
      "provenance": [],
      "include_colab_link": true
    }
  },
  "nbformat": 4,
  "nbformat_minor": 5
}