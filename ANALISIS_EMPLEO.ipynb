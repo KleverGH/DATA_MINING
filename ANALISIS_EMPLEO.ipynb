{
  "cells": [
    {
      "cell_type": "markdown",
      "metadata": {
        "id": "view-in-github",
        "colab_type": "text"
      },
      "source": [
        "<a href=\"https://colab.research.google.com/github/KleverGH/DATA_MINING/blob/main/ANALISIS_EMPLEO.ipynb\" target=\"_parent\"><img src=\"https://colab.research.google.com/assets/colab-badge.svg\" alt=\"Open In Colab\"/></a>"
      ]
    },
    {
      "cell_type": "code",
      "execution_count": 283,
      "metadata": {
        "id": "ftrK1jZtQeQx"
      },
      "outputs": [],
      "source": [
        "import pandas as pd"
      ]
    },
    {
      "cell_type": "code",
      "execution_count": 284,
      "metadata": {
        "id": "pao7ME2YCssm"
      },
      "outputs": [],
      "source": [
        "#filename = \"Enaho01a-2022-500.csv\"\n",
        "#df = pd.read_csv(filename, sep=',', encoding='ISO-8859-1', low_memory=False)\n",
        "#df.head()"
      ]
    },
    {
      "cell_type": "code",
      "source": [
        "#df.shape"
      ],
      "metadata": {
        "id": "J-avViJSnSt8"
      },
      "execution_count": 285,
      "outputs": []
    },
    {
      "cell_type": "code",
      "execution_count": 286,
      "metadata": {
        "id": "XDS2iQ5JG2wG"
      },
      "outputs": [],
      "source": [
        "# Determinar las columnas que se desean modificar\n",
        "#columnas_a_modificar = df.columns[19:-2]  # desde la 18 hasta la trasante-penúltima\n",
        "\n",
        "# Reemplazar en esas columnas los valores no deseados por cadenas en blanco\n",
        "#for col in columnas_a_modificar:\n",
        "    #df[col] = df[col].replace(['.', '?'], '', regex=False)"
      ]
    },
    {
      "cell_type": "code",
      "execution_count": 287,
      "metadata": {
        "id": "Dp2I2BDSIwoh"
      },
      "outputs": [],
      "source": [
        "#df.to_csv('Empleo_e_ingresos.csv', encoding='ISO-8859-1', index=False)\n"
      ]
    },
    {
      "cell_type": "code",
      "execution_count": 288,
      "metadata": {
        "id": "8SVVicZXKO0x",
        "colab": {
          "base_uri": "https://localhost:8080/",
          "height": 392
        },
        "outputId": "95d33606-66e1-4e63-8f76-3395d26aa30d"
      },
      "outputs": [
        {
          "output_type": "execute_result",
          "data": {
            "text/plain": [
              "    AÑO  MES  CONGLOME  VIVIENDA  HOGAR  CODPERSO  UBIGEO  DOMINIO  ESTRATO  \\\n",
              "0  2022    2      5007         3     11         1   10101        4        4   \n",
              "1  2022    2      5007        12     11         1   10101        4        4   \n",
              "2  2022    2      5007        22     11         1   10101        4        4   \n",
              "3  2022    2      5007        22     11         2   10101        4        4   \n",
              "4  2022    2      5007        22     11         3   10101        4        4   \n",
              "5  2022    2      5007        50     11         1   10101        4        4   \n",
              "6  2022    2      5007        50     11         2   10101        4        4   \n",
              "7  2022    2      5007        50     11         3   10101        4        4   \n",
              "8  2022    3      5009        56     11         1   10101        4        4   \n",
              "9  2022    3      5009        56     11         2   10101        4        4   \n",
              "\n",
              "   CODINFOR  ...  I538E1  I5294B  I5404B  I541A  OCU500  OCUPINF  EMPLPSEC  \\\n",
              "0         1  ...                                      1        2             \n",
              "1         1  ...            2270            618       1        1         2   \n",
              "2         1  ...                                      1        2             \n",
              "3         2  ...                                      1        2             \n",
              "4         3  ...                                      1        1         1   \n",
              "5         1  ...                                      4                      \n",
              "6         2  ...                                      4                      \n",
              "7         3  ...                                      2                      \n",
              "8         1  ...                                      1        1         2   \n",
              "9         2  ...                           1673       1        2             \n",
              "\n",
              "   FAC500A  NCONGLOME SUB_CONGLOME  \n",
              "0    48.34       7070            0  \n",
              "1    46.85       7070            0  \n",
              "2    50.01       7070            0  \n",
              "3    26.67       7070            0  \n",
              "4   124.38       7070            0  \n",
              "5    27.31       7070            0  \n",
              "6    13.19       7070            0  \n",
              "7    52.43       7070            0  \n",
              "8   266.62       7076            0  \n",
              "9   245.24       7076            0  \n",
              "\n",
              "[10 rows x 1445 columns]"
            ],
            "text/html": [
              "\n",
              "  <div id=\"df-ad104300-14ff-49e5-9d7b-d6af73bddfd3\" class=\"colab-df-container\">\n",
              "    <div>\n",
              "<style scoped>\n",
              "    .dataframe tbody tr th:only-of-type {\n",
              "        vertical-align: middle;\n",
              "    }\n",
              "\n",
              "    .dataframe tbody tr th {\n",
              "        vertical-align: top;\n",
              "    }\n",
              "\n",
              "    .dataframe thead th {\n",
              "        text-align: right;\n",
              "    }\n",
              "</style>\n",
              "<table border=\"1\" class=\"dataframe\">\n",
              "  <thead>\n",
              "    <tr style=\"text-align: right;\">\n",
              "      <th></th>\n",
              "      <th>AÑO</th>\n",
              "      <th>MES</th>\n",
              "      <th>CONGLOME</th>\n",
              "      <th>VIVIENDA</th>\n",
              "      <th>HOGAR</th>\n",
              "      <th>CODPERSO</th>\n",
              "      <th>UBIGEO</th>\n",
              "      <th>DOMINIO</th>\n",
              "      <th>ESTRATO</th>\n",
              "      <th>CODINFOR</th>\n",
              "      <th>...</th>\n",
              "      <th>I538E1</th>\n",
              "      <th>I5294B</th>\n",
              "      <th>I5404B</th>\n",
              "      <th>I541A</th>\n",
              "      <th>OCU500</th>\n",
              "      <th>OCUPINF</th>\n",
              "      <th>EMPLPSEC</th>\n",
              "      <th>FAC500A</th>\n",
              "      <th>NCONGLOME</th>\n",
              "      <th>SUB_CONGLOME</th>\n",
              "    </tr>\n",
              "  </thead>\n",
              "  <tbody>\n",
              "    <tr>\n",
              "      <th>0</th>\n",
              "      <td>2022</td>\n",
              "      <td>2</td>\n",
              "      <td>5007</td>\n",
              "      <td>3</td>\n",
              "      <td>11</td>\n",
              "      <td>1</td>\n",
              "      <td>10101</td>\n",
              "      <td>4</td>\n",
              "      <td>4</td>\n",
              "      <td>1</td>\n",
              "      <td>...</td>\n",
              "      <td></td>\n",
              "      <td></td>\n",
              "      <td></td>\n",
              "      <td></td>\n",
              "      <td>1</td>\n",
              "      <td>2</td>\n",
              "      <td></td>\n",
              "      <td>48.34</td>\n",
              "      <td>7070</td>\n",
              "      <td>0</td>\n",
              "    </tr>\n",
              "    <tr>\n",
              "      <th>1</th>\n",
              "      <td>2022</td>\n",
              "      <td>2</td>\n",
              "      <td>5007</td>\n",
              "      <td>12</td>\n",
              "      <td>11</td>\n",
              "      <td>1</td>\n",
              "      <td>10101</td>\n",
              "      <td>4</td>\n",
              "      <td>4</td>\n",
              "      <td>1</td>\n",
              "      <td>...</td>\n",
              "      <td></td>\n",
              "      <td>2270</td>\n",
              "      <td></td>\n",
              "      <td>618</td>\n",
              "      <td>1</td>\n",
              "      <td>1</td>\n",
              "      <td>2</td>\n",
              "      <td>46.85</td>\n",
              "      <td>7070</td>\n",
              "      <td>0</td>\n",
              "    </tr>\n",
              "    <tr>\n",
              "      <th>2</th>\n",
              "      <td>2022</td>\n",
              "      <td>2</td>\n",
              "      <td>5007</td>\n",
              "      <td>22</td>\n",
              "      <td>11</td>\n",
              "      <td>1</td>\n",
              "      <td>10101</td>\n",
              "      <td>4</td>\n",
              "      <td>4</td>\n",
              "      <td>1</td>\n",
              "      <td>...</td>\n",
              "      <td></td>\n",
              "      <td></td>\n",
              "      <td></td>\n",
              "      <td></td>\n",
              "      <td>1</td>\n",
              "      <td>2</td>\n",
              "      <td></td>\n",
              "      <td>50.01</td>\n",
              "      <td>7070</td>\n",
              "      <td>0</td>\n",
              "    </tr>\n",
              "    <tr>\n",
              "      <th>3</th>\n",
              "      <td>2022</td>\n",
              "      <td>2</td>\n",
              "      <td>5007</td>\n",
              "      <td>22</td>\n",
              "      <td>11</td>\n",
              "      <td>2</td>\n",
              "      <td>10101</td>\n",
              "      <td>4</td>\n",
              "      <td>4</td>\n",
              "      <td>2</td>\n",
              "      <td>...</td>\n",
              "      <td></td>\n",
              "      <td></td>\n",
              "      <td></td>\n",
              "      <td></td>\n",
              "      <td>1</td>\n",
              "      <td>2</td>\n",
              "      <td></td>\n",
              "      <td>26.67</td>\n",
              "      <td>7070</td>\n",
              "      <td>0</td>\n",
              "    </tr>\n",
              "    <tr>\n",
              "      <th>4</th>\n",
              "      <td>2022</td>\n",
              "      <td>2</td>\n",
              "      <td>5007</td>\n",
              "      <td>22</td>\n",
              "      <td>11</td>\n",
              "      <td>3</td>\n",
              "      <td>10101</td>\n",
              "      <td>4</td>\n",
              "      <td>4</td>\n",
              "      <td>3</td>\n",
              "      <td>...</td>\n",
              "      <td></td>\n",
              "      <td></td>\n",
              "      <td></td>\n",
              "      <td></td>\n",
              "      <td>1</td>\n",
              "      <td>1</td>\n",
              "      <td>1</td>\n",
              "      <td>124.38</td>\n",
              "      <td>7070</td>\n",
              "      <td>0</td>\n",
              "    </tr>\n",
              "    <tr>\n",
              "      <th>5</th>\n",
              "      <td>2022</td>\n",
              "      <td>2</td>\n",
              "      <td>5007</td>\n",
              "      <td>50</td>\n",
              "      <td>11</td>\n",
              "      <td>1</td>\n",
              "      <td>10101</td>\n",
              "      <td>4</td>\n",
              "      <td>4</td>\n",
              "      <td>1</td>\n",
              "      <td>...</td>\n",
              "      <td></td>\n",
              "      <td></td>\n",
              "      <td></td>\n",
              "      <td></td>\n",
              "      <td>4</td>\n",
              "      <td></td>\n",
              "      <td></td>\n",
              "      <td>27.31</td>\n",
              "      <td>7070</td>\n",
              "      <td>0</td>\n",
              "    </tr>\n",
              "    <tr>\n",
              "      <th>6</th>\n",
              "      <td>2022</td>\n",
              "      <td>2</td>\n",
              "      <td>5007</td>\n",
              "      <td>50</td>\n",
              "      <td>11</td>\n",
              "      <td>2</td>\n",
              "      <td>10101</td>\n",
              "      <td>4</td>\n",
              "      <td>4</td>\n",
              "      <td>2</td>\n",
              "      <td>...</td>\n",
              "      <td></td>\n",
              "      <td></td>\n",
              "      <td></td>\n",
              "      <td></td>\n",
              "      <td>4</td>\n",
              "      <td></td>\n",
              "      <td></td>\n",
              "      <td>13.19</td>\n",
              "      <td>7070</td>\n",
              "      <td>0</td>\n",
              "    </tr>\n",
              "    <tr>\n",
              "      <th>7</th>\n",
              "      <td>2022</td>\n",
              "      <td>2</td>\n",
              "      <td>5007</td>\n",
              "      <td>50</td>\n",
              "      <td>11</td>\n",
              "      <td>3</td>\n",
              "      <td>10101</td>\n",
              "      <td>4</td>\n",
              "      <td>4</td>\n",
              "      <td>3</td>\n",
              "      <td>...</td>\n",
              "      <td></td>\n",
              "      <td></td>\n",
              "      <td></td>\n",
              "      <td></td>\n",
              "      <td>2</td>\n",
              "      <td></td>\n",
              "      <td></td>\n",
              "      <td>52.43</td>\n",
              "      <td>7070</td>\n",
              "      <td>0</td>\n",
              "    </tr>\n",
              "    <tr>\n",
              "      <th>8</th>\n",
              "      <td>2022</td>\n",
              "      <td>3</td>\n",
              "      <td>5009</td>\n",
              "      <td>56</td>\n",
              "      <td>11</td>\n",
              "      <td>1</td>\n",
              "      <td>10101</td>\n",
              "      <td>4</td>\n",
              "      <td>4</td>\n",
              "      <td>1</td>\n",
              "      <td>...</td>\n",
              "      <td></td>\n",
              "      <td></td>\n",
              "      <td></td>\n",
              "      <td></td>\n",
              "      <td>1</td>\n",
              "      <td>1</td>\n",
              "      <td>2</td>\n",
              "      <td>266.62</td>\n",
              "      <td>7076</td>\n",
              "      <td>0</td>\n",
              "    </tr>\n",
              "    <tr>\n",
              "      <th>9</th>\n",
              "      <td>2022</td>\n",
              "      <td>3</td>\n",
              "      <td>5009</td>\n",
              "      <td>56</td>\n",
              "      <td>11</td>\n",
              "      <td>2</td>\n",
              "      <td>10101</td>\n",
              "      <td>4</td>\n",
              "      <td>4</td>\n",
              "      <td>2</td>\n",
              "      <td>...</td>\n",
              "      <td></td>\n",
              "      <td></td>\n",
              "      <td></td>\n",
              "      <td>1673</td>\n",
              "      <td>1</td>\n",
              "      <td>2</td>\n",
              "      <td></td>\n",
              "      <td>245.24</td>\n",
              "      <td>7076</td>\n",
              "      <td>0</td>\n",
              "    </tr>\n",
              "  </tbody>\n",
              "</table>\n",
              "<p>10 rows × 1445 columns</p>\n",
              "</div>\n",
              "    <div class=\"colab-df-buttons\">\n",
              "\n",
              "  <div class=\"colab-df-container\">\n",
              "    <button class=\"colab-df-convert\" onclick=\"convertToInteractive('df-ad104300-14ff-49e5-9d7b-d6af73bddfd3')\"\n",
              "            title=\"Convert this dataframe to an interactive table.\"\n",
              "            style=\"display:none;\">\n",
              "\n",
              "  <svg xmlns=\"http://www.w3.org/2000/svg\" height=\"24px\" viewBox=\"0 -960 960 960\">\n",
              "    <path d=\"M120-120v-720h720v720H120Zm60-500h600v-160H180v160Zm220 220h160v-160H400v160Zm0 220h160v-160H400v160ZM180-400h160v-160H180v160Zm440 0h160v-160H620v160ZM180-180h160v-160H180v160Zm440 0h160v-160H620v160Z\"/>\n",
              "  </svg>\n",
              "    </button>\n",
              "\n",
              "  <style>\n",
              "    .colab-df-container {\n",
              "      display:flex;\n",
              "      gap: 12px;\n",
              "    }\n",
              "\n",
              "    .colab-df-convert {\n",
              "      background-color: #E8F0FE;\n",
              "      border: none;\n",
              "      border-radius: 50%;\n",
              "      cursor: pointer;\n",
              "      display: none;\n",
              "      fill: #1967D2;\n",
              "      height: 32px;\n",
              "      padding: 0 0 0 0;\n",
              "      width: 32px;\n",
              "    }\n",
              "\n",
              "    .colab-df-convert:hover {\n",
              "      background-color: #E2EBFA;\n",
              "      box-shadow: 0px 1px 2px rgba(60, 64, 67, 0.3), 0px 1px 3px 1px rgba(60, 64, 67, 0.15);\n",
              "      fill: #174EA6;\n",
              "    }\n",
              "\n",
              "    .colab-df-buttons div {\n",
              "      margin-bottom: 4px;\n",
              "    }\n",
              "\n",
              "    [theme=dark] .colab-df-convert {\n",
              "      background-color: #3B4455;\n",
              "      fill: #D2E3FC;\n",
              "    }\n",
              "\n",
              "    [theme=dark] .colab-df-convert:hover {\n",
              "      background-color: #434B5C;\n",
              "      box-shadow: 0px 1px 3px 1px rgba(0, 0, 0, 0.15);\n",
              "      filter: drop-shadow(0px 1px 2px rgba(0, 0, 0, 0.3));\n",
              "      fill: #FFFFFF;\n",
              "    }\n",
              "  </style>\n",
              "\n",
              "    <script>\n",
              "      const buttonEl =\n",
              "        document.querySelector('#df-ad104300-14ff-49e5-9d7b-d6af73bddfd3 button.colab-df-convert');\n",
              "      buttonEl.style.display =\n",
              "        google.colab.kernel.accessAllowed ? 'block' : 'none';\n",
              "\n",
              "      async function convertToInteractive(key) {\n",
              "        const element = document.querySelector('#df-ad104300-14ff-49e5-9d7b-d6af73bddfd3');\n",
              "        const dataTable =\n",
              "          await google.colab.kernel.invokeFunction('convertToInteractive',\n",
              "                                                    [key], {});\n",
              "        if (!dataTable) return;\n",
              "\n",
              "        const docLinkHtml = 'Like what you see? Visit the ' +\n",
              "          '<a target=\"_blank\" href=https://colab.research.google.com/notebooks/data_table.ipynb>data table notebook</a>'\n",
              "          + ' to learn more about interactive tables.';\n",
              "        element.innerHTML = '';\n",
              "        dataTable['output_type'] = 'display_data';\n",
              "        await google.colab.output.renderOutput(dataTable, element);\n",
              "        const docLink = document.createElement('div');\n",
              "        docLink.innerHTML = docLinkHtml;\n",
              "        element.appendChild(docLink);\n",
              "      }\n",
              "    </script>\n",
              "  </div>\n",
              "\n",
              "\n",
              "<div id=\"df-48db570d-8f42-4f75-b956-ee677d25159c\">\n",
              "  <button class=\"colab-df-quickchart\" onclick=\"quickchart('df-48db570d-8f42-4f75-b956-ee677d25159c')\"\n",
              "            title=\"Suggest charts.\"\n",
              "            style=\"display:none;\">\n",
              "\n",
              "<svg xmlns=\"http://www.w3.org/2000/svg\" height=\"24px\"viewBox=\"0 0 24 24\"\n",
              "     width=\"24px\">\n",
              "    <g>\n",
              "        <path d=\"M19 3H5c-1.1 0-2 .9-2 2v14c0 1.1.9 2 2 2h14c1.1 0 2-.9 2-2V5c0-1.1-.9-2-2-2zM9 17H7v-7h2v7zm4 0h-2V7h2v10zm4 0h-2v-4h2v4z\"/>\n",
              "    </g>\n",
              "</svg>\n",
              "  </button>\n",
              "\n",
              "<style>\n",
              "  .colab-df-quickchart {\n",
              "      --bg-color: #E8F0FE;\n",
              "      --fill-color: #1967D2;\n",
              "      --hover-bg-color: #E2EBFA;\n",
              "      --hover-fill-color: #174EA6;\n",
              "      --disabled-fill-color: #AAA;\n",
              "      --disabled-bg-color: #DDD;\n",
              "  }\n",
              "\n",
              "  [theme=dark] .colab-df-quickchart {\n",
              "      --bg-color: #3B4455;\n",
              "      --fill-color: #D2E3FC;\n",
              "      --hover-bg-color: #434B5C;\n",
              "      --hover-fill-color: #FFFFFF;\n",
              "      --disabled-bg-color: #3B4455;\n",
              "      --disabled-fill-color: #666;\n",
              "  }\n",
              "\n",
              "  .colab-df-quickchart {\n",
              "    background-color: var(--bg-color);\n",
              "    border: none;\n",
              "    border-radius: 50%;\n",
              "    cursor: pointer;\n",
              "    display: none;\n",
              "    fill: var(--fill-color);\n",
              "    height: 32px;\n",
              "    padding: 0;\n",
              "    width: 32px;\n",
              "  }\n",
              "\n",
              "  .colab-df-quickchart:hover {\n",
              "    background-color: var(--hover-bg-color);\n",
              "    box-shadow: 0 1px 2px rgba(60, 64, 67, 0.3), 0 1px 3px 1px rgba(60, 64, 67, 0.15);\n",
              "    fill: var(--button-hover-fill-color);\n",
              "  }\n",
              "\n",
              "  .colab-df-quickchart-complete:disabled,\n",
              "  .colab-df-quickchart-complete:disabled:hover {\n",
              "    background-color: var(--disabled-bg-color);\n",
              "    fill: var(--disabled-fill-color);\n",
              "    box-shadow: none;\n",
              "  }\n",
              "\n",
              "  .colab-df-spinner {\n",
              "    border: 2px solid var(--fill-color);\n",
              "    border-color: transparent;\n",
              "    border-bottom-color: var(--fill-color);\n",
              "    animation:\n",
              "      spin 1s steps(1) infinite;\n",
              "  }\n",
              "\n",
              "  @keyframes spin {\n",
              "    0% {\n",
              "      border-color: transparent;\n",
              "      border-bottom-color: var(--fill-color);\n",
              "      border-left-color: var(--fill-color);\n",
              "    }\n",
              "    20% {\n",
              "      border-color: transparent;\n",
              "      border-left-color: var(--fill-color);\n",
              "      border-top-color: var(--fill-color);\n",
              "    }\n",
              "    30% {\n",
              "      border-color: transparent;\n",
              "      border-left-color: var(--fill-color);\n",
              "      border-top-color: var(--fill-color);\n",
              "      border-right-color: var(--fill-color);\n",
              "    }\n",
              "    40% {\n",
              "      border-color: transparent;\n",
              "      border-right-color: var(--fill-color);\n",
              "      border-top-color: var(--fill-color);\n",
              "    }\n",
              "    60% {\n",
              "      border-color: transparent;\n",
              "      border-right-color: var(--fill-color);\n",
              "    }\n",
              "    80% {\n",
              "      border-color: transparent;\n",
              "      border-right-color: var(--fill-color);\n",
              "      border-bottom-color: var(--fill-color);\n",
              "    }\n",
              "    90% {\n",
              "      border-color: transparent;\n",
              "      border-bottom-color: var(--fill-color);\n",
              "    }\n",
              "  }\n",
              "</style>\n",
              "\n",
              "  <script>\n",
              "    async function quickchart(key) {\n",
              "      const quickchartButtonEl =\n",
              "        document.querySelector('#' + key + ' button');\n",
              "      quickchartButtonEl.disabled = true;  // To prevent multiple clicks.\n",
              "      quickchartButtonEl.classList.add('colab-df-spinner');\n",
              "      try {\n",
              "        const charts = await google.colab.kernel.invokeFunction(\n",
              "            'suggestCharts', [key], {});\n",
              "      } catch (error) {\n",
              "        console.error('Error during call to suggestCharts:', error);\n",
              "      }\n",
              "      quickchartButtonEl.classList.remove('colab-df-spinner');\n",
              "      quickchartButtonEl.classList.add('colab-df-quickchart-complete');\n",
              "    }\n",
              "    (() => {\n",
              "      let quickchartButtonEl =\n",
              "        document.querySelector('#df-48db570d-8f42-4f75-b956-ee677d25159c button');\n",
              "      quickchartButtonEl.style.display =\n",
              "        google.colab.kernel.accessAllowed ? 'block' : 'none';\n",
              "    })();\n",
              "  </script>\n",
              "</div>\n",
              "    </div>\n",
              "  </div>\n"
            ]
          },
          "metadata": {},
          "execution_count": 288
        }
      ],
      "source": [
        "filename = \"Empleo_e_ingresos.csv\"\n",
        "df1 = pd.read_csv(filename, sep=',', encoding='ISO-8859-1', low_memory=False)\n",
        "df1.head(10)\n"
      ]
    },
    {
      "cell_type": "code",
      "source": [
        "df1.shape"
      ],
      "metadata": {
        "colab": {
          "base_uri": "https://localhost:8080/"
        },
        "id": "lO5s-JtmU7ax",
        "outputId": "010336c5-6979-4bc4-b196-19d64f25053f"
      },
      "execution_count": 289,
      "outputs": [
        {
          "output_type": "execute_result",
          "data": {
            "text/plain": [
              "(87661, 1445)"
            ]
          },
          "metadata": {},
          "execution_count": 289
        }
      ]
    },
    {
      "cell_type": "code",
      "source": [
        "columns_to_select = ['AÑO','MES','CONGLOME','VIVIENDA','HOGAR','CODPERSO','UBIGEO','DOMINIO','P501','P502','P504B','P507','P510A1',\n",
        "                     'P511A','P513T','P513A1','P513A2','P514','P521D','P522C','P530A','P536','P555','P207','P208A','P209','P301A',]  # lista de columnas que deseas seleccionar\n",
        "new_df = df1[columns_to_select]\n",
        "new_df.head()\n"
      ],
      "metadata": {
        "id": "ucvP4mzIJCZw",
        "colab": {
          "base_uri": "https://localhost:8080/",
          "height": 236
        },
        "outputId": "d8ce93b2-07f2-4eed-d4a8-5e7ec9b18f5b"
      },
      "execution_count": 290,
      "outputs": [
        {
          "output_type": "execute_result",
          "data": {
            "text/plain": [
              "    AÑO  MES  CONGLOME  VIVIENDA  HOGAR  CODPERSO  UBIGEO  DOMINIO  P501 P502  \\\n",
              "0  2022    2      5007         3     11         1   10101        4     1        \n",
              "1  2022    2      5007        12     11         1   10101        4     1        \n",
              "2  2022    2      5007        22     11         1   10101        4     1        \n",
              "3  2022    2      5007        22     11         2   10101        4     1        \n",
              "4  2022    2      5007        22     11         3   10101        4     1        \n",
              "\n",
              "   ... P514 P521D P522C P530A P536 P555 P207 P208A P209 P301A  \n",
              "0  ...    2           1                    1    57    4    11  \n",
              "1  ...    1           1                    2    22    6     7  \n",
              "2  ...    2           1                    1    63    2    10  \n",
              "3  ...    2           1                    2    62    2    10  \n",
              "4  ...    2              1859              1    30    6     8  \n",
              "\n",
              "[5 rows x 27 columns]"
            ],
            "text/html": [
              "\n",
              "  <div id=\"df-b57838de-f6c1-4215-ba65-68cd69d19804\" class=\"colab-df-container\">\n",
              "    <div>\n",
              "<style scoped>\n",
              "    .dataframe tbody tr th:only-of-type {\n",
              "        vertical-align: middle;\n",
              "    }\n",
              "\n",
              "    .dataframe tbody tr th {\n",
              "        vertical-align: top;\n",
              "    }\n",
              "\n",
              "    .dataframe thead th {\n",
              "        text-align: right;\n",
              "    }\n",
              "</style>\n",
              "<table border=\"1\" class=\"dataframe\">\n",
              "  <thead>\n",
              "    <tr style=\"text-align: right;\">\n",
              "      <th></th>\n",
              "      <th>AÑO</th>\n",
              "      <th>MES</th>\n",
              "      <th>CONGLOME</th>\n",
              "      <th>VIVIENDA</th>\n",
              "      <th>HOGAR</th>\n",
              "      <th>CODPERSO</th>\n",
              "      <th>UBIGEO</th>\n",
              "      <th>DOMINIO</th>\n",
              "      <th>P501</th>\n",
              "      <th>P502</th>\n",
              "      <th>...</th>\n",
              "      <th>P514</th>\n",
              "      <th>P521D</th>\n",
              "      <th>P522C</th>\n",
              "      <th>P530A</th>\n",
              "      <th>P536</th>\n",
              "      <th>P555</th>\n",
              "      <th>P207</th>\n",
              "      <th>P208A</th>\n",
              "      <th>P209</th>\n",
              "      <th>P301A</th>\n",
              "    </tr>\n",
              "  </thead>\n",
              "  <tbody>\n",
              "    <tr>\n",
              "      <th>0</th>\n",
              "      <td>2022</td>\n",
              "      <td>2</td>\n",
              "      <td>5007</td>\n",
              "      <td>3</td>\n",
              "      <td>11</td>\n",
              "      <td>1</td>\n",
              "      <td>10101</td>\n",
              "      <td>4</td>\n",
              "      <td>1</td>\n",
              "      <td></td>\n",
              "      <td>...</td>\n",
              "      <td>2</td>\n",
              "      <td></td>\n",
              "      <td>1</td>\n",
              "      <td></td>\n",
              "      <td></td>\n",
              "      <td></td>\n",
              "      <td>1</td>\n",
              "      <td>57</td>\n",
              "      <td>4</td>\n",
              "      <td>11</td>\n",
              "    </tr>\n",
              "    <tr>\n",
              "      <th>1</th>\n",
              "      <td>2022</td>\n",
              "      <td>2</td>\n",
              "      <td>5007</td>\n",
              "      <td>12</td>\n",
              "      <td>11</td>\n",
              "      <td>1</td>\n",
              "      <td>10101</td>\n",
              "      <td>4</td>\n",
              "      <td>1</td>\n",
              "      <td></td>\n",
              "      <td>...</td>\n",
              "      <td>1</td>\n",
              "      <td></td>\n",
              "      <td>1</td>\n",
              "      <td></td>\n",
              "      <td></td>\n",
              "      <td></td>\n",
              "      <td>2</td>\n",
              "      <td>22</td>\n",
              "      <td>6</td>\n",
              "      <td>7</td>\n",
              "    </tr>\n",
              "    <tr>\n",
              "      <th>2</th>\n",
              "      <td>2022</td>\n",
              "      <td>2</td>\n",
              "      <td>5007</td>\n",
              "      <td>22</td>\n",
              "      <td>11</td>\n",
              "      <td>1</td>\n",
              "      <td>10101</td>\n",
              "      <td>4</td>\n",
              "      <td>1</td>\n",
              "      <td></td>\n",
              "      <td>...</td>\n",
              "      <td>2</td>\n",
              "      <td></td>\n",
              "      <td>1</td>\n",
              "      <td></td>\n",
              "      <td></td>\n",
              "      <td></td>\n",
              "      <td>1</td>\n",
              "      <td>63</td>\n",
              "      <td>2</td>\n",
              "      <td>10</td>\n",
              "    </tr>\n",
              "    <tr>\n",
              "      <th>3</th>\n",
              "      <td>2022</td>\n",
              "      <td>2</td>\n",
              "      <td>5007</td>\n",
              "      <td>22</td>\n",
              "      <td>11</td>\n",
              "      <td>2</td>\n",
              "      <td>10101</td>\n",
              "      <td>4</td>\n",
              "      <td>1</td>\n",
              "      <td></td>\n",
              "      <td>...</td>\n",
              "      <td>2</td>\n",
              "      <td></td>\n",
              "      <td>1</td>\n",
              "      <td></td>\n",
              "      <td></td>\n",
              "      <td></td>\n",
              "      <td>2</td>\n",
              "      <td>62</td>\n",
              "      <td>2</td>\n",
              "      <td>10</td>\n",
              "    </tr>\n",
              "    <tr>\n",
              "      <th>4</th>\n",
              "      <td>2022</td>\n",
              "      <td>2</td>\n",
              "      <td>5007</td>\n",
              "      <td>22</td>\n",
              "      <td>11</td>\n",
              "      <td>3</td>\n",
              "      <td>10101</td>\n",
              "      <td>4</td>\n",
              "      <td>1</td>\n",
              "      <td></td>\n",
              "      <td>...</td>\n",
              "      <td>2</td>\n",
              "      <td></td>\n",
              "      <td></td>\n",
              "      <td>1859</td>\n",
              "      <td></td>\n",
              "      <td></td>\n",
              "      <td>1</td>\n",
              "      <td>30</td>\n",
              "      <td>6</td>\n",
              "      <td>8</td>\n",
              "    </tr>\n",
              "  </tbody>\n",
              "</table>\n",
              "<p>5 rows × 27 columns</p>\n",
              "</div>\n",
              "    <div class=\"colab-df-buttons\">\n",
              "\n",
              "  <div class=\"colab-df-container\">\n",
              "    <button class=\"colab-df-convert\" onclick=\"convertToInteractive('df-b57838de-f6c1-4215-ba65-68cd69d19804')\"\n",
              "            title=\"Convert this dataframe to an interactive table.\"\n",
              "            style=\"display:none;\">\n",
              "\n",
              "  <svg xmlns=\"http://www.w3.org/2000/svg\" height=\"24px\" viewBox=\"0 -960 960 960\">\n",
              "    <path d=\"M120-120v-720h720v720H120Zm60-500h600v-160H180v160Zm220 220h160v-160H400v160Zm0 220h160v-160H400v160ZM180-400h160v-160H180v160Zm440 0h160v-160H620v160ZM180-180h160v-160H180v160Zm440 0h160v-160H620v160Z\"/>\n",
              "  </svg>\n",
              "    </button>\n",
              "\n",
              "  <style>\n",
              "    .colab-df-container {\n",
              "      display:flex;\n",
              "      gap: 12px;\n",
              "    }\n",
              "\n",
              "    .colab-df-convert {\n",
              "      background-color: #E8F0FE;\n",
              "      border: none;\n",
              "      border-radius: 50%;\n",
              "      cursor: pointer;\n",
              "      display: none;\n",
              "      fill: #1967D2;\n",
              "      height: 32px;\n",
              "      padding: 0 0 0 0;\n",
              "      width: 32px;\n",
              "    }\n",
              "\n",
              "    .colab-df-convert:hover {\n",
              "      background-color: #E2EBFA;\n",
              "      box-shadow: 0px 1px 2px rgba(60, 64, 67, 0.3), 0px 1px 3px 1px rgba(60, 64, 67, 0.15);\n",
              "      fill: #174EA6;\n",
              "    }\n",
              "\n",
              "    .colab-df-buttons div {\n",
              "      margin-bottom: 4px;\n",
              "    }\n",
              "\n",
              "    [theme=dark] .colab-df-convert {\n",
              "      background-color: #3B4455;\n",
              "      fill: #D2E3FC;\n",
              "    }\n",
              "\n",
              "    [theme=dark] .colab-df-convert:hover {\n",
              "      background-color: #434B5C;\n",
              "      box-shadow: 0px 1px 3px 1px rgba(0, 0, 0, 0.15);\n",
              "      filter: drop-shadow(0px 1px 2px rgba(0, 0, 0, 0.3));\n",
              "      fill: #FFFFFF;\n",
              "    }\n",
              "  </style>\n",
              "\n",
              "    <script>\n",
              "      const buttonEl =\n",
              "        document.querySelector('#df-b57838de-f6c1-4215-ba65-68cd69d19804 button.colab-df-convert');\n",
              "      buttonEl.style.display =\n",
              "        google.colab.kernel.accessAllowed ? 'block' : 'none';\n",
              "\n",
              "      async function convertToInteractive(key) {\n",
              "        const element = document.querySelector('#df-b57838de-f6c1-4215-ba65-68cd69d19804');\n",
              "        const dataTable =\n",
              "          await google.colab.kernel.invokeFunction('convertToInteractive',\n",
              "                                                    [key], {});\n",
              "        if (!dataTable) return;\n",
              "\n",
              "        const docLinkHtml = 'Like what you see? Visit the ' +\n",
              "          '<a target=\"_blank\" href=https://colab.research.google.com/notebooks/data_table.ipynb>data table notebook</a>'\n",
              "          + ' to learn more about interactive tables.';\n",
              "        element.innerHTML = '';\n",
              "        dataTable['output_type'] = 'display_data';\n",
              "        await google.colab.output.renderOutput(dataTable, element);\n",
              "        const docLink = document.createElement('div');\n",
              "        docLink.innerHTML = docLinkHtml;\n",
              "        element.appendChild(docLink);\n",
              "      }\n",
              "    </script>\n",
              "  </div>\n",
              "\n",
              "\n",
              "<div id=\"df-b6cdd621-1f58-4068-ad87-cb436c61cb46\">\n",
              "  <button class=\"colab-df-quickchart\" onclick=\"quickchart('df-b6cdd621-1f58-4068-ad87-cb436c61cb46')\"\n",
              "            title=\"Suggest charts.\"\n",
              "            style=\"display:none;\">\n",
              "\n",
              "<svg xmlns=\"http://www.w3.org/2000/svg\" height=\"24px\"viewBox=\"0 0 24 24\"\n",
              "     width=\"24px\">\n",
              "    <g>\n",
              "        <path d=\"M19 3H5c-1.1 0-2 .9-2 2v14c0 1.1.9 2 2 2h14c1.1 0 2-.9 2-2V5c0-1.1-.9-2-2-2zM9 17H7v-7h2v7zm4 0h-2V7h2v10zm4 0h-2v-4h2v4z\"/>\n",
              "    </g>\n",
              "</svg>\n",
              "  </button>\n",
              "\n",
              "<style>\n",
              "  .colab-df-quickchart {\n",
              "      --bg-color: #E8F0FE;\n",
              "      --fill-color: #1967D2;\n",
              "      --hover-bg-color: #E2EBFA;\n",
              "      --hover-fill-color: #174EA6;\n",
              "      --disabled-fill-color: #AAA;\n",
              "      --disabled-bg-color: #DDD;\n",
              "  }\n",
              "\n",
              "  [theme=dark] .colab-df-quickchart {\n",
              "      --bg-color: #3B4455;\n",
              "      --fill-color: #D2E3FC;\n",
              "      --hover-bg-color: #434B5C;\n",
              "      --hover-fill-color: #FFFFFF;\n",
              "      --disabled-bg-color: #3B4455;\n",
              "      --disabled-fill-color: #666;\n",
              "  }\n",
              "\n",
              "  .colab-df-quickchart {\n",
              "    background-color: var(--bg-color);\n",
              "    border: none;\n",
              "    border-radius: 50%;\n",
              "    cursor: pointer;\n",
              "    display: none;\n",
              "    fill: var(--fill-color);\n",
              "    height: 32px;\n",
              "    padding: 0;\n",
              "    width: 32px;\n",
              "  }\n",
              "\n",
              "  .colab-df-quickchart:hover {\n",
              "    background-color: var(--hover-bg-color);\n",
              "    box-shadow: 0 1px 2px rgba(60, 64, 67, 0.3), 0 1px 3px 1px rgba(60, 64, 67, 0.15);\n",
              "    fill: var(--button-hover-fill-color);\n",
              "  }\n",
              "\n",
              "  .colab-df-quickchart-complete:disabled,\n",
              "  .colab-df-quickchart-complete:disabled:hover {\n",
              "    background-color: var(--disabled-bg-color);\n",
              "    fill: var(--disabled-fill-color);\n",
              "    box-shadow: none;\n",
              "  }\n",
              "\n",
              "  .colab-df-spinner {\n",
              "    border: 2px solid var(--fill-color);\n",
              "    border-color: transparent;\n",
              "    border-bottom-color: var(--fill-color);\n",
              "    animation:\n",
              "      spin 1s steps(1) infinite;\n",
              "  }\n",
              "\n",
              "  @keyframes spin {\n",
              "    0% {\n",
              "      border-color: transparent;\n",
              "      border-bottom-color: var(--fill-color);\n",
              "      border-left-color: var(--fill-color);\n",
              "    }\n",
              "    20% {\n",
              "      border-color: transparent;\n",
              "      border-left-color: var(--fill-color);\n",
              "      border-top-color: var(--fill-color);\n",
              "    }\n",
              "    30% {\n",
              "      border-color: transparent;\n",
              "      border-left-color: var(--fill-color);\n",
              "      border-top-color: var(--fill-color);\n",
              "      border-right-color: var(--fill-color);\n",
              "    }\n",
              "    40% {\n",
              "      border-color: transparent;\n",
              "      border-right-color: var(--fill-color);\n",
              "      border-top-color: var(--fill-color);\n",
              "    }\n",
              "    60% {\n",
              "      border-color: transparent;\n",
              "      border-right-color: var(--fill-color);\n",
              "    }\n",
              "    80% {\n",
              "      border-color: transparent;\n",
              "      border-right-color: var(--fill-color);\n",
              "      border-bottom-color: var(--fill-color);\n",
              "    }\n",
              "    90% {\n",
              "      border-color: transparent;\n",
              "      border-bottom-color: var(--fill-color);\n",
              "    }\n",
              "  }\n",
              "</style>\n",
              "\n",
              "  <script>\n",
              "    async function quickchart(key) {\n",
              "      const quickchartButtonEl =\n",
              "        document.querySelector('#' + key + ' button');\n",
              "      quickchartButtonEl.disabled = true;  // To prevent multiple clicks.\n",
              "      quickchartButtonEl.classList.add('colab-df-spinner');\n",
              "      try {\n",
              "        const charts = await google.colab.kernel.invokeFunction(\n",
              "            'suggestCharts', [key], {});\n",
              "      } catch (error) {\n",
              "        console.error('Error during call to suggestCharts:', error);\n",
              "      }\n",
              "      quickchartButtonEl.classList.remove('colab-df-spinner');\n",
              "      quickchartButtonEl.classList.add('colab-df-quickchart-complete');\n",
              "    }\n",
              "    (() => {\n",
              "      let quickchartButtonEl =\n",
              "        document.querySelector('#df-b6cdd621-1f58-4068-ad87-cb436c61cb46 button');\n",
              "      quickchartButtonEl.style.display =\n",
              "        google.colab.kernel.accessAllowed ? 'block' : 'none';\n",
              "    })();\n",
              "  </script>\n",
              "</div>\n",
              "    </div>\n",
              "  </div>\n"
            ]
          },
          "metadata": {},
          "execution_count": 290
        }
      ]
    },
    {
      "cell_type": "code",
      "source": [
        "new_df.shape"
      ],
      "metadata": {
        "colab": {
          "base_uri": "https://localhost:8080/"
        },
        "id": "jyCLo_lIMSH2",
        "outputId": "d633a5f4-283f-4d6d-f18d-1efe985e7eb2"
      },
      "execution_count": 291,
      "outputs": [
        {
          "output_type": "execute_result",
          "data": {
            "text/plain": [
              "(87661, 27)"
            ]
          },
          "metadata": {},
          "execution_count": 291
        }
      ]
    },
    {
      "cell_type": "code",
      "source": [
        "##new_df.to_csv('Empleo_e_ingresos_filtrado.csv', encoding='ISO-8859-1', index=False)"
      ],
      "metadata": {
        "id": "I6CqNnpUL1aq"
      },
      "execution_count": 292,
      "outputs": []
    },
    {
      "cell_type": "code",
      "source": [
        "df4 = new_df.copy()\n",
        "df4.head()"
      ],
      "metadata": {
        "id": "l9avcmq-R4eC",
        "colab": {
          "base_uri": "https://localhost:8080/",
          "height": 236
        },
        "outputId": "d979a862-50c5-41e2-8c49-d1d98d514ff7"
      },
      "execution_count": 293,
      "outputs": [
        {
          "output_type": "execute_result",
          "data": {
            "text/plain": [
              "    AÑO  MES  CONGLOME  VIVIENDA  HOGAR  CODPERSO  UBIGEO  DOMINIO  P501 P502  \\\n",
              "0  2022    2      5007         3     11         1   10101        4     1        \n",
              "1  2022    2      5007        12     11         1   10101        4     1        \n",
              "2  2022    2      5007        22     11         1   10101        4     1        \n",
              "3  2022    2      5007        22     11         2   10101        4     1        \n",
              "4  2022    2      5007        22     11         3   10101        4     1        \n",
              "\n",
              "   ... P514 P521D P522C P530A P536 P555 P207 P208A P209 P301A  \n",
              "0  ...    2           1                    1    57    4    11  \n",
              "1  ...    1           1                    2    22    6     7  \n",
              "2  ...    2           1                    1    63    2    10  \n",
              "3  ...    2           1                    2    62    2    10  \n",
              "4  ...    2              1859              1    30    6     8  \n",
              "\n",
              "[5 rows x 27 columns]"
            ],
            "text/html": [
              "\n",
              "  <div id=\"df-1079ce78-53f2-4027-bd32-4b82e8096e5c\" class=\"colab-df-container\">\n",
              "    <div>\n",
              "<style scoped>\n",
              "    .dataframe tbody tr th:only-of-type {\n",
              "        vertical-align: middle;\n",
              "    }\n",
              "\n",
              "    .dataframe tbody tr th {\n",
              "        vertical-align: top;\n",
              "    }\n",
              "\n",
              "    .dataframe thead th {\n",
              "        text-align: right;\n",
              "    }\n",
              "</style>\n",
              "<table border=\"1\" class=\"dataframe\">\n",
              "  <thead>\n",
              "    <tr style=\"text-align: right;\">\n",
              "      <th></th>\n",
              "      <th>AÑO</th>\n",
              "      <th>MES</th>\n",
              "      <th>CONGLOME</th>\n",
              "      <th>VIVIENDA</th>\n",
              "      <th>HOGAR</th>\n",
              "      <th>CODPERSO</th>\n",
              "      <th>UBIGEO</th>\n",
              "      <th>DOMINIO</th>\n",
              "      <th>P501</th>\n",
              "      <th>P502</th>\n",
              "      <th>...</th>\n",
              "      <th>P514</th>\n",
              "      <th>P521D</th>\n",
              "      <th>P522C</th>\n",
              "      <th>P530A</th>\n",
              "      <th>P536</th>\n",
              "      <th>P555</th>\n",
              "      <th>P207</th>\n",
              "      <th>P208A</th>\n",
              "      <th>P209</th>\n",
              "      <th>P301A</th>\n",
              "    </tr>\n",
              "  </thead>\n",
              "  <tbody>\n",
              "    <tr>\n",
              "      <th>0</th>\n",
              "      <td>2022</td>\n",
              "      <td>2</td>\n",
              "      <td>5007</td>\n",
              "      <td>3</td>\n",
              "      <td>11</td>\n",
              "      <td>1</td>\n",
              "      <td>10101</td>\n",
              "      <td>4</td>\n",
              "      <td>1</td>\n",
              "      <td></td>\n",
              "      <td>...</td>\n",
              "      <td>2</td>\n",
              "      <td></td>\n",
              "      <td>1</td>\n",
              "      <td></td>\n",
              "      <td></td>\n",
              "      <td></td>\n",
              "      <td>1</td>\n",
              "      <td>57</td>\n",
              "      <td>4</td>\n",
              "      <td>11</td>\n",
              "    </tr>\n",
              "    <tr>\n",
              "      <th>1</th>\n",
              "      <td>2022</td>\n",
              "      <td>2</td>\n",
              "      <td>5007</td>\n",
              "      <td>12</td>\n",
              "      <td>11</td>\n",
              "      <td>1</td>\n",
              "      <td>10101</td>\n",
              "      <td>4</td>\n",
              "      <td>1</td>\n",
              "      <td></td>\n",
              "      <td>...</td>\n",
              "      <td>1</td>\n",
              "      <td></td>\n",
              "      <td>1</td>\n",
              "      <td></td>\n",
              "      <td></td>\n",
              "      <td></td>\n",
              "      <td>2</td>\n",
              "      <td>22</td>\n",
              "      <td>6</td>\n",
              "      <td>7</td>\n",
              "    </tr>\n",
              "    <tr>\n",
              "      <th>2</th>\n",
              "      <td>2022</td>\n",
              "      <td>2</td>\n",
              "      <td>5007</td>\n",
              "      <td>22</td>\n",
              "      <td>11</td>\n",
              "      <td>1</td>\n",
              "      <td>10101</td>\n",
              "      <td>4</td>\n",
              "      <td>1</td>\n",
              "      <td></td>\n",
              "      <td>...</td>\n",
              "      <td>2</td>\n",
              "      <td></td>\n",
              "      <td>1</td>\n",
              "      <td></td>\n",
              "      <td></td>\n",
              "      <td></td>\n",
              "      <td>1</td>\n",
              "      <td>63</td>\n",
              "      <td>2</td>\n",
              "      <td>10</td>\n",
              "    </tr>\n",
              "    <tr>\n",
              "      <th>3</th>\n",
              "      <td>2022</td>\n",
              "      <td>2</td>\n",
              "      <td>5007</td>\n",
              "      <td>22</td>\n",
              "      <td>11</td>\n",
              "      <td>2</td>\n",
              "      <td>10101</td>\n",
              "      <td>4</td>\n",
              "      <td>1</td>\n",
              "      <td></td>\n",
              "      <td>...</td>\n",
              "      <td>2</td>\n",
              "      <td></td>\n",
              "      <td>1</td>\n",
              "      <td></td>\n",
              "      <td></td>\n",
              "      <td></td>\n",
              "      <td>2</td>\n",
              "      <td>62</td>\n",
              "      <td>2</td>\n",
              "      <td>10</td>\n",
              "    </tr>\n",
              "    <tr>\n",
              "      <th>4</th>\n",
              "      <td>2022</td>\n",
              "      <td>2</td>\n",
              "      <td>5007</td>\n",
              "      <td>22</td>\n",
              "      <td>11</td>\n",
              "      <td>3</td>\n",
              "      <td>10101</td>\n",
              "      <td>4</td>\n",
              "      <td>1</td>\n",
              "      <td></td>\n",
              "      <td>...</td>\n",
              "      <td>2</td>\n",
              "      <td></td>\n",
              "      <td></td>\n",
              "      <td>1859</td>\n",
              "      <td></td>\n",
              "      <td></td>\n",
              "      <td>1</td>\n",
              "      <td>30</td>\n",
              "      <td>6</td>\n",
              "      <td>8</td>\n",
              "    </tr>\n",
              "  </tbody>\n",
              "</table>\n",
              "<p>5 rows × 27 columns</p>\n",
              "</div>\n",
              "    <div class=\"colab-df-buttons\">\n",
              "\n",
              "  <div class=\"colab-df-container\">\n",
              "    <button class=\"colab-df-convert\" onclick=\"convertToInteractive('df-1079ce78-53f2-4027-bd32-4b82e8096e5c')\"\n",
              "            title=\"Convert this dataframe to an interactive table.\"\n",
              "            style=\"display:none;\">\n",
              "\n",
              "  <svg xmlns=\"http://www.w3.org/2000/svg\" height=\"24px\" viewBox=\"0 -960 960 960\">\n",
              "    <path d=\"M120-120v-720h720v720H120Zm60-500h600v-160H180v160Zm220 220h160v-160H400v160Zm0 220h160v-160H400v160ZM180-400h160v-160H180v160Zm440 0h160v-160H620v160ZM180-180h160v-160H180v160Zm440 0h160v-160H620v160Z\"/>\n",
              "  </svg>\n",
              "    </button>\n",
              "\n",
              "  <style>\n",
              "    .colab-df-container {\n",
              "      display:flex;\n",
              "      gap: 12px;\n",
              "    }\n",
              "\n",
              "    .colab-df-convert {\n",
              "      background-color: #E8F0FE;\n",
              "      border: none;\n",
              "      border-radius: 50%;\n",
              "      cursor: pointer;\n",
              "      display: none;\n",
              "      fill: #1967D2;\n",
              "      height: 32px;\n",
              "      padding: 0 0 0 0;\n",
              "      width: 32px;\n",
              "    }\n",
              "\n",
              "    .colab-df-convert:hover {\n",
              "      background-color: #E2EBFA;\n",
              "      box-shadow: 0px 1px 2px rgba(60, 64, 67, 0.3), 0px 1px 3px 1px rgba(60, 64, 67, 0.15);\n",
              "      fill: #174EA6;\n",
              "    }\n",
              "\n",
              "    .colab-df-buttons div {\n",
              "      margin-bottom: 4px;\n",
              "    }\n",
              "\n",
              "    [theme=dark] .colab-df-convert {\n",
              "      background-color: #3B4455;\n",
              "      fill: #D2E3FC;\n",
              "    }\n",
              "\n",
              "    [theme=dark] .colab-df-convert:hover {\n",
              "      background-color: #434B5C;\n",
              "      box-shadow: 0px 1px 3px 1px rgba(0, 0, 0, 0.15);\n",
              "      filter: drop-shadow(0px 1px 2px rgba(0, 0, 0, 0.3));\n",
              "      fill: #FFFFFF;\n",
              "    }\n",
              "  </style>\n",
              "\n",
              "    <script>\n",
              "      const buttonEl =\n",
              "        document.querySelector('#df-1079ce78-53f2-4027-bd32-4b82e8096e5c button.colab-df-convert');\n",
              "      buttonEl.style.display =\n",
              "        google.colab.kernel.accessAllowed ? 'block' : 'none';\n",
              "\n",
              "      async function convertToInteractive(key) {\n",
              "        const element = document.querySelector('#df-1079ce78-53f2-4027-bd32-4b82e8096e5c');\n",
              "        const dataTable =\n",
              "          await google.colab.kernel.invokeFunction('convertToInteractive',\n",
              "                                                    [key], {});\n",
              "        if (!dataTable) return;\n",
              "\n",
              "        const docLinkHtml = 'Like what you see? Visit the ' +\n",
              "          '<a target=\"_blank\" href=https://colab.research.google.com/notebooks/data_table.ipynb>data table notebook</a>'\n",
              "          + ' to learn more about interactive tables.';\n",
              "        element.innerHTML = '';\n",
              "        dataTable['output_type'] = 'display_data';\n",
              "        await google.colab.output.renderOutput(dataTable, element);\n",
              "        const docLink = document.createElement('div');\n",
              "        docLink.innerHTML = docLinkHtml;\n",
              "        element.appendChild(docLink);\n",
              "      }\n",
              "    </script>\n",
              "  </div>\n",
              "\n",
              "\n",
              "<div id=\"df-13e72b6d-6d39-438c-8dec-a3c22040058a\">\n",
              "  <button class=\"colab-df-quickchart\" onclick=\"quickchart('df-13e72b6d-6d39-438c-8dec-a3c22040058a')\"\n",
              "            title=\"Suggest charts.\"\n",
              "            style=\"display:none;\">\n",
              "\n",
              "<svg xmlns=\"http://www.w3.org/2000/svg\" height=\"24px\"viewBox=\"0 0 24 24\"\n",
              "     width=\"24px\">\n",
              "    <g>\n",
              "        <path d=\"M19 3H5c-1.1 0-2 .9-2 2v14c0 1.1.9 2 2 2h14c1.1 0 2-.9 2-2V5c0-1.1-.9-2-2-2zM9 17H7v-7h2v7zm4 0h-2V7h2v10zm4 0h-2v-4h2v4z\"/>\n",
              "    </g>\n",
              "</svg>\n",
              "  </button>\n",
              "\n",
              "<style>\n",
              "  .colab-df-quickchart {\n",
              "      --bg-color: #E8F0FE;\n",
              "      --fill-color: #1967D2;\n",
              "      --hover-bg-color: #E2EBFA;\n",
              "      --hover-fill-color: #174EA6;\n",
              "      --disabled-fill-color: #AAA;\n",
              "      --disabled-bg-color: #DDD;\n",
              "  }\n",
              "\n",
              "  [theme=dark] .colab-df-quickchart {\n",
              "      --bg-color: #3B4455;\n",
              "      --fill-color: #D2E3FC;\n",
              "      --hover-bg-color: #434B5C;\n",
              "      --hover-fill-color: #FFFFFF;\n",
              "      --disabled-bg-color: #3B4455;\n",
              "      --disabled-fill-color: #666;\n",
              "  }\n",
              "\n",
              "  .colab-df-quickchart {\n",
              "    background-color: var(--bg-color);\n",
              "    border: none;\n",
              "    border-radius: 50%;\n",
              "    cursor: pointer;\n",
              "    display: none;\n",
              "    fill: var(--fill-color);\n",
              "    height: 32px;\n",
              "    padding: 0;\n",
              "    width: 32px;\n",
              "  }\n",
              "\n",
              "  .colab-df-quickchart:hover {\n",
              "    background-color: var(--hover-bg-color);\n",
              "    box-shadow: 0 1px 2px rgba(60, 64, 67, 0.3), 0 1px 3px 1px rgba(60, 64, 67, 0.15);\n",
              "    fill: var(--button-hover-fill-color);\n",
              "  }\n",
              "\n",
              "  .colab-df-quickchart-complete:disabled,\n",
              "  .colab-df-quickchart-complete:disabled:hover {\n",
              "    background-color: var(--disabled-bg-color);\n",
              "    fill: var(--disabled-fill-color);\n",
              "    box-shadow: none;\n",
              "  }\n",
              "\n",
              "  .colab-df-spinner {\n",
              "    border: 2px solid var(--fill-color);\n",
              "    border-color: transparent;\n",
              "    border-bottom-color: var(--fill-color);\n",
              "    animation:\n",
              "      spin 1s steps(1) infinite;\n",
              "  }\n",
              "\n",
              "  @keyframes spin {\n",
              "    0% {\n",
              "      border-color: transparent;\n",
              "      border-bottom-color: var(--fill-color);\n",
              "      border-left-color: var(--fill-color);\n",
              "    }\n",
              "    20% {\n",
              "      border-color: transparent;\n",
              "      border-left-color: var(--fill-color);\n",
              "      border-top-color: var(--fill-color);\n",
              "    }\n",
              "    30% {\n",
              "      border-color: transparent;\n",
              "      border-left-color: var(--fill-color);\n",
              "      border-top-color: var(--fill-color);\n",
              "      border-right-color: var(--fill-color);\n",
              "    }\n",
              "    40% {\n",
              "      border-color: transparent;\n",
              "      border-right-color: var(--fill-color);\n",
              "      border-top-color: var(--fill-color);\n",
              "    }\n",
              "    60% {\n",
              "      border-color: transparent;\n",
              "      border-right-color: var(--fill-color);\n",
              "    }\n",
              "    80% {\n",
              "      border-color: transparent;\n",
              "      border-right-color: var(--fill-color);\n",
              "      border-bottom-color: var(--fill-color);\n",
              "    }\n",
              "    90% {\n",
              "      border-color: transparent;\n",
              "      border-bottom-color: var(--fill-color);\n",
              "    }\n",
              "  }\n",
              "</style>\n",
              "\n",
              "  <script>\n",
              "    async function quickchart(key) {\n",
              "      const quickchartButtonEl =\n",
              "        document.querySelector('#' + key + ' button');\n",
              "      quickchartButtonEl.disabled = true;  // To prevent multiple clicks.\n",
              "      quickchartButtonEl.classList.add('colab-df-spinner');\n",
              "      try {\n",
              "        const charts = await google.colab.kernel.invokeFunction(\n",
              "            'suggestCharts', [key], {});\n",
              "      } catch (error) {\n",
              "        console.error('Error during call to suggestCharts:', error);\n",
              "      }\n",
              "      quickchartButtonEl.classList.remove('colab-df-spinner');\n",
              "      quickchartButtonEl.classList.add('colab-df-quickchart-complete');\n",
              "    }\n",
              "    (() => {\n",
              "      let quickchartButtonEl =\n",
              "        document.querySelector('#df-13e72b6d-6d39-438c-8dec-a3c22040058a button');\n",
              "      quickchartButtonEl.style.display =\n",
              "        google.colab.kernel.accessAllowed ? 'block' : 'none';\n",
              "    })();\n",
              "  </script>\n",
              "</div>\n",
              "    </div>\n",
              "  </div>\n"
            ]
          },
          "metadata": {},
          "execution_count": 293
        }
      ]
    },
    {
      "cell_type": "code",
      "source": [
        "df4.shape"
      ],
      "metadata": {
        "colab": {
          "base_uri": "https://localhost:8080/"
        },
        "id": "9xMdnyCVZb4B",
        "outputId": "38efaefb-0428-4b3f-9015-fb2442165931"
      },
      "execution_count": 294,
      "outputs": [
        {
          "output_type": "execute_result",
          "data": {
            "text/plain": [
              "(87661, 27)"
            ]
          },
          "metadata": {},
          "execution_count": 294
        }
      ]
    },
    {
      "cell_type": "markdown",
      "source": [
        "# **PARA** **DOMINIO**"
      ],
      "metadata": {
        "id": "3aNeq-akZmsZ"
      }
    },
    {
      "cell_type": "code",
      "source": [
        "print(df4['DOMINIO'].dtype)"
      ],
      "metadata": {
        "colab": {
          "base_uri": "https://localhost:8080/"
        },
        "id": "bJLQYtUOZppW",
        "outputId": "2736dccc-267a-4ed1-e1bf-ce49e05a0744"
      },
      "execution_count": 295,
      "outputs": [
        {
          "output_type": "stream",
          "name": "stdout",
          "text": [
            "int64\n"
          ]
        }
      ]
    },
    {
      "cell_type": "code",
      "source": [
        "valores_unicos = df4['DOMINIO'].unique()\n",
        "print(valores_unicos)"
      ],
      "metadata": {
        "colab": {
          "base_uri": "https://localhost:8080/"
        },
        "id": "0Up-ISTBZyXb",
        "outputId": "51e6916e-0367-4cb0-dc9e-a83e8a73f7a5"
      },
      "execution_count": 296,
      "outputs": [
        {
          "output_type": "stream",
          "name": "stdout",
          "text": [
            "[4 7 2 5 6 3 8 1]\n"
          ]
        }
      ]
    },
    {
      "cell_type": "code",
      "source": [
        "## Reemplazamos por valores categóricos\n",
        "\n",
        "mapeo_str12 = {\n",
        "    1: \"Costa Norte\",\n",
        "    2: \"Costa Centro\",\n",
        "    3: \"Costa Sur\",\n",
        "    4: \"Sierra Norte\",\n",
        "    5: \"Sierra Centro\",\n",
        "    6: \"Sierra Sur\",\n",
        "    7: \"Selva\",\n",
        "    8: \"Lima Metropolitana\"\n",
        "}\n",
        "\n",
        "df4['DOMINIO'] = df4['DOMINIO'].map(mapeo_str12)"
      ],
      "metadata": {
        "id": "CxZnPmJeZ-0B"
      },
      "execution_count": 297,
      "outputs": []
    },
    {
      "cell_type": "code",
      "source": [
        "valores_unicos = df4['DOMINIO'].unique()\n",
        "print(valores_unicos)"
      ],
      "metadata": {
        "colab": {
          "base_uri": "https://localhost:8080/"
        },
        "id": "dnjOInf8ayQ4",
        "outputId": "dc790463-1140-4b81-9e5b-4679dbf42042"
      },
      "execution_count": 298,
      "outputs": [
        {
          "output_type": "stream",
          "name": "stdout",
          "text": [
            "['Sierra Norte' 'Selva' 'Costa Centro' 'Sierra Centro' 'Sierra Sur'\n",
            " 'Costa Sur' 'Lima Metropolitana' 'Costa Norte']\n"
          ]
        }
      ]
    },
    {
      "cell_type": "markdown",
      "source": [
        "# **PARA** **P501**"
      ],
      "metadata": {
        "id": "jq7WB4KOi9xW"
      }
    },
    {
      "cell_type": "code",
      "source": [
        "## Cambiamos el nombre de la columna\n",
        "df4.rename(columns={'P501': 'TRABAJÓ_SEM_ANTERIOR'}, inplace=True)"
      ],
      "metadata": {
        "id": "oRRH4XZC2BtA"
      },
      "execution_count": 299,
      "outputs": []
    },
    {
      "cell_type": "code",
      "source": [
        "print(df4['TRABAJÓ_SEM_ANTERIOR'].dtype)"
      ],
      "metadata": {
        "colab": {
          "base_uri": "https://localhost:8080/"
        },
        "id": "zGDNzGtBlDnm",
        "outputId": "7a6e098f-c24b-4ec8-a2a5-cbe9e62a4a79"
      },
      "execution_count": 300,
      "outputs": [
        {
          "output_type": "stream",
          "name": "stdout",
          "text": [
            "int64\n"
          ]
        }
      ]
    },
    {
      "cell_type": "code",
      "source": [
        "valores_unicos = df4['TRABAJÓ_SEM_ANTERIOR'].unique()\n",
        "print(valores_unicos)"
      ],
      "metadata": {
        "colab": {
          "base_uri": "https://localhost:8080/"
        },
        "id": "pLF2M-KTjGd6",
        "outputId": "e52665d3-c837-4386-84cf-11dcd0b0116c"
      },
      "execution_count": 301,
      "outputs": [
        {
          "output_type": "stream",
          "name": "stdout",
          "text": [
            "[1 2 9]\n"
          ]
        }
      ]
    },
    {
      "cell_type": "code",
      "source": [
        "## Reemplazamos por valores categóricos\n",
        "\n",
        "mapeo_str12 = {\n",
        "    1: \"Si\",\n",
        "    2: \"No\",\n",
        "    9: \"\"\n",
        "}\n",
        "\n",
        "df4['TRABAJÓ_SEM_ANTERIOR'] = df4['TRABAJÓ_SEM_ANTERIOR'].map(mapeo_str12)\n"
      ],
      "metadata": {
        "id": "PtPCKVgPjThE"
      },
      "execution_count": 302,
      "outputs": []
    },
    {
      "cell_type": "code",
      "source": [
        "valores_unicos = df4['TRABAJÓ_SEM_ANTERIOR'].unique()\n",
        "print(valores_unicos)"
      ],
      "metadata": {
        "colab": {
          "base_uri": "https://localhost:8080/"
        },
        "id": "H-GtEvvqkGuf",
        "outputId": "b2ba0506-09bb-496a-a00f-3ce87dbdf5bb"
      },
      "execution_count": 303,
      "outputs": [
        {
          "output_type": "stream",
          "name": "stdout",
          "text": [
            "['Si' 'No' '']\n"
          ]
        }
      ]
    },
    {
      "cell_type": "code",
      "source": [
        "conteo = df4['TRABAJÓ_SEM_ANTERIOR'].value_counts()\n",
        "print(conteo)\n"
      ],
      "metadata": {
        "colab": {
          "base_uri": "https://localhost:8080/"
        },
        "id": "oCyKVKXtmMjE",
        "outputId": "d5faedc8-47a3-4f28-9028-3c71e2155cfd"
      },
      "execution_count": 304,
      "outputs": [
        {
          "output_type": "stream",
          "name": "stdout",
          "text": [
            "Si    59061\n",
            "No    28473\n",
            "        127\n",
            "Name: TRABAJÓ_SEM_ANTERIOR, dtype: int64\n"
          ]
        }
      ]
    },
    {
      "cell_type": "code",
      "source": [
        "## Imputamos campos vacios\n",
        "\n",
        "##df4['P501'].fillna(df4['P501'].mode().iloc[0], inplace=True)\n",
        "df4['TRABAJÓ_SEM_ANTERIOR'] = df4['TRABAJÓ_SEM_ANTERIOR'].replace(\"\", df4['TRABAJÓ_SEM_ANTERIOR'].mode().iloc[0])\n",
        "\n"
      ],
      "metadata": {
        "id": "6wYxuCQYoNem"
      },
      "execution_count": 305,
      "outputs": []
    },
    {
      "cell_type": "code",
      "source": [
        "valores_unicos = df4['TRABAJÓ_SEM_ANTERIOR'].unique()\n",
        "print(valores_unicos)"
      ],
      "metadata": {
        "colab": {
          "base_uri": "https://localhost:8080/"
        },
        "id": "pV0Vp7qm1yze",
        "outputId": "3ae25e1e-7526-4230-83d5-b8ac93f0e432"
      },
      "execution_count": 306,
      "outputs": [
        {
          "output_type": "stream",
          "name": "stdout",
          "text": [
            "['Si' 'No']\n"
          ]
        }
      ]
    },
    {
      "cell_type": "code",
      "source": [
        "conteo = df4['TRABAJÓ_SEM_ANTERIOR'].value_counts()\n",
        "print(conteo)\n"
      ],
      "metadata": {
        "colab": {
          "base_uri": "https://localhost:8080/"
        },
        "id": "l_PBmB2B0AeE",
        "outputId": "8f0ef2be-9bbd-4b6b-8778-c3c63d6b6731"
      },
      "execution_count": 307,
      "outputs": [
        {
          "output_type": "stream",
          "name": "stdout",
          "text": [
            "Si    59188\n",
            "No    28473\n",
            "Name: TRABAJÓ_SEM_ANTERIOR, dtype: int64\n"
          ]
        }
      ]
    },
    {
      "cell_type": "code",
      "source": [
        "nan_in_column = df4['TRABAJÓ_SEM_ANTERIOR'].isna().sum()\n",
        "print(f\"NaN values in P501: {nan_in_column}\")"
      ],
      "metadata": {
        "colab": {
          "base_uri": "https://localhost:8080/"
        },
        "id": "Rlc1rqljyc0y",
        "outputId": "325170f6-bdcb-4db5-a9df-1c972b0fe006"
      },
      "execution_count": 308,
      "outputs": [
        {
          "output_type": "stream",
          "name": "stdout",
          "text": [
            "NaN values in P501: 0\n"
          ]
        }
      ]
    },
    {
      "cell_type": "code",
      "source": [
        "empty_strings_in_column = (df4['TRABAJÓ_SEM_ANTERIOR'] == \"\").sum()\n",
        "print(f\"Empty string values in TRABAJÓ_SEM_ANTERIOR: {empty_strings_in_column}\")"
      ],
      "metadata": {
        "colab": {
          "base_uri": "https://localhost:8080/"
        },
        "id": "t5TXFilCyp-S",
        "outputId": "b44dfed1-4b90-4efa-c037-81aa0160c185"
      },
      "execution_count": 309,
      "outputs": [
        {
          "output_type": "stream",
          "name": "stdout",
          "text": [
            "Empty string values in TRABAJÓ_SEM_ANTERIOR: 0\n"
          ]
        }
      ]
    },
    {
      "cell_type": "markdown",
      "source": [
        "# **PARA** **P502**"
      ],
      "metadata": {
        "id": "KUeaExiHwhzy"
      }
    },
    {
      "cell_type": "code",
      "source": [
        "## Cambiamos el nombre de la columna\n",
        "df4.rename(columns={'P502': 'EMPLEO_FIJO_A_VOLVER'}, inplace=True)"
      ],
      "metadata": {
        "id": "u8Zxi3Tk2gMc"
      },
      "execution_count": 310,
      "outputs": []
    },
    {
      "cell_type": "code",
      "source": [
        "print(df4['EMPLEO_FIJO_A_VOLVER'].dtype)"
      ],
      "metadata": {
        "colab": {
          "base_uri": "https://localhost:8080/"
        },
        "id": "96E4kxQFwlMF",
        "outputId": "bd18067c-d7d1-4f15-b235-34de517efddc"
      },
      "execution_count": 311,
      "outputs": [
        {
          "output_type": "stream",
          "name": "stdout",
          "text": [
            "object\n"
          ]
        }
      ]
    },
    {
      "cell_type": "code",
      "source": [
        "valores_unicos = df4['EMPLEO_FIJO_A_VOLVER'].unique()\n",
        "print(valores_unicos)"
      ],
      "metadata": {
        "colab": {
          "base_uri": "https://localhost:8080/"
        },
        "id": "xroRK31vwsi3",
        "outputId": "ba0f19b9-c2ab-4966-9ea1-8db931c84d44"
      },
      "execution_count": 312,
      "outputs": [
        {
          "output_type": "stream",
          "name": "stdout",
          "text": [
            "[' ' '2' '1']\n"
          ]
        }
      ]
    },
    {
      "cell_type": "code",
      "source": [
        "conteo = df4['EMPLEO_FIJO_A_VOLVER'].value_counts()\n",
        "print(conteo)"
      ],
      "metadata": {
        "colab": {
          "base_uri": "https://localhost:8080/"
        },
        "id": "9RRx0ORTTehb",
        "outputId": "6165bffe-8652-4e59-ee3f-f3afb51c67e4"
      },
      "execution_count": 313,
      "outputs": [
        {
          "output_type": "stream",
          "name": "stdout",
          "text": [
            "     59188\n",
            "2    27774\n",
            "1      699\n",
            "Name: EMPLEO_FIJO_A_VOLVER, dtype: int64\n"
          ]
        }
      ]
    },
    {
      "cell_type": "code",
      "source": [
        "# Reemplazamos por valores categóricos\n",
        "\n",
        "mapeo_str123 = {\n",
        "    '1': \"Si\",\n",
        "    '2': \"No\",\n",
        "    ' ': np.nan  # Usando directamente NaN en lugar de un string vacío\n",
        "}\n",
        "\n",
        "df4['EMPLEO_FIJO_A_VOLVER'] = df4['EMPLEO_FIJO_A_VOLVER'].map(mapeo_str123)\n"
      ],
      "metadata": {
        "id": "GboBsj0pxCMB"
      },
      "execution_count": 314,
      "outputs": []
    },
    {
      "cell_type": "code",
      "source": [
        "valores_unicos = df4['EMPLEO_FIJO_A_VOLVER'].unique()\n",
        "print(valores_unicos)"
      ],
      "metadata": {
        "colab": {
          "base_uri": "https://localhost:8080/"
        },
        "id": "I6sIR8zTxKLj",
        "outputId": "b45bcad9-2fb0-4459-a886-e59e38d9a2a8"
      },
      "execution_count": 315,
      "outputs": [
        {
          "output_type": "stream",
          "name": "stdout",
          "text": [
            "[nan 'No' 'Si']\n"
          ]
        }
      ]
    },
    {
      "cell_type": "code",
      "source": [
        "conteo = df4['EMPLEO_FIJO_A_VOLVER'].value_counts()\n",
        "print(conteo)"
      ],
      "metadata": {
        "colab": {
          "base_uri": "https://localhost:8080/"
        },
        "id": "n_Fxtw1FTY6O",
        "outputId": "76920efb-ceec-40d8-987f-9522401d6fd6"
      },
      "execution_count": 316,
      "outputs": [
        {
          "output_type": "stream",
          "name": "stdout",
          "text": [
            "No    27774\n",
            "Si      699\n",
            "Name: EMPLEO_FIJO_A_VOLVER, dtype: int64\n"
          ]
        }
      ]
    },
    {
      "cell_type": "code",
      "source": [
        "## Imputamos campos vacios\n",
        "\n",
        "##df4['EMPLEO_FIJO_A_VOLVER'].fillna(df4['EMPLEO_FIJO_A_VOLVER'].mode().iloc[0], inplace=True)"
      ],
      "metadata": {
        "id": "ULgzhzoLxUdS"
      },
      "execution_count": 317,
      "outputs": []
    },
    {
      "cell_type": "code",
      "source": [
        "import numpy as np\n",
        "\n",
        "# Identificar la cantidad de valores NaN en la columna\n",
        "num_nans = df4['EMPLEO_FIJO_A_VOLVER'].isna().sum()\n",
        "\n",
        "# Rellenar los valores NaN con \"Sí\" o \"No\" aleatoriamente\n",
        "df4.loc[df4['EMPLEO_FIJO_A_VOLVER'].isna(), 'EMPLEO_FIJO_A_VOLVER'] = np.random.choice(['Si', 'No'], size=num_nans)\n"
      ],
      "metadata": {
        "id": "0e5ovFXEUpPb"
      },
      "execution_count": 318,
      "outputs": []
    },
    {
      "cell_type": "code",
      "source": [
        "valores_unicos = df4['EMPLEO_FIJO_A_VOLVER'].unique()\n",
        "print(valores_unicos)"
      ],
      "metadata": {
        "colab": {
          "base_uri": "https://localhost:8080/"
        },
        "id": "AFoN9v7bxjTF",
        "outputId": "ce289509-26e5-44c2-bcae-49b3a02e05dc"
      },
      "execution_count": 319,
      "outputs": [
        {
          "output_type": "stream",
          "name": "stdout",
          "text": [
            "['No' 'Si']\n"
          ]
        }
      ]
    },
    {
      "cell_type": "code",
      "source": [
        "conteo = df4['EMPLEO_FIJO_A_VOLVER'].value_counts()\n",
        "print(conteo)"
      ],
      "metadata": {
        "colab": {
          "base_uri": "https://localhost:8080/"
        },
        "id": "RO5iA9sETRKv",
        "outputId": "b4f737a9-d91d-4241-8c62-fbfff41ef934"
      },
      "execution_count": 320,
      "outputs": [
        {
          "output_type": "stream",
          "name": "stdout",
          "text": [
            "No    57342\n",
            "Si    30319\n",
            "Name: EMPLEO_FIJO_A_VOLVER, dtype: int64\n"
          ]
        }
      ]
    },
    {
      "cell_type": "code",
      "source": [
        "nan_in_column = df4['EMPLEO_FIJO_A_VOLVER'].isna().sum()\n",
        "print(f\"NaN values in EMPLEO_FIJO_A_VOLVER: {nan_in_column}\")"
      ],
      "metadata": {
        "colab": {
          "base_uri": "https://localhost:8080/"
        },
        "id": "btgGq4mIzOWa",
        "outputId": "fb98f1e5-1431-4cd5-9580-bf4e9bc78b34"
      },
      "execution_count": 321,
      "outputs": [
        {
          "output_type": "stream",
          "name": "stdout",
          "text": [
            "NaN values in EMPLEO_FIJO_A_VOLVER: 0\n"
          ]
        }
      ]
    },
    {
      "cell_type": "code",
      "source": [
        "empty_strings_in_column = (df4['EMPLEO_FIJO_A_VOLVER'] == \"\").sum()\n",
        "print(f\"Empty string values in EMPLEO_FIJO_A_VOLVER: {empty_strings_in_column}\")"
      ],
      "metadata": {
        "colab": {
          "base_uri": "https://localhost:8080/"
        },
        "id": "quBrbNhXzSnf",
        "outputId": "bb8b1987-666e-4bfd-c55c-748713fe9806"
      },
      "execution_count": 322,
      "outputs": [
        {
          "output_type": "stream",
          "name": "stdout",
          "text": [
            "Empty string values in EMPLEO_FIJO_A_VOLVER: 0\n"
          ]
        }
      ]
    },
    {
      "cell_type": "markdown",
      "source": [
        "# **PARA** **P504B**"
      ],
      "metadata": {
        "id": "9D7kCxreiuBE"
      }
    },
    {
      "cell_type": "code",
      "source": [
        "## Cambiamos el nombre de la columna\n",
        "df4.rename(columns={'P504B': 'RAZÓN_NO_TRABAJÓ'}, inplace=True)"
      ],
      "metadata": {
        "id": "ni04yk4p3OIx"
      },
      "execution_count": 323,
      "outputs": []
    },
    {
      "cell_type": "code",
      "source": [
        "print(df4['RAZÓN_NO_TRABAJÓ'].dtype)\n"
      ],
      "metadata": {
        "colab": {
          "base_uri": "https://localhost:8080/"
        },
        "id": "4y2yMEUdS_IT",
        "outputId": "140b91e7-37b8-4029-ce28-11389aae1c47"
      },
      "execution_count": 324,
      "outputs": [
        {
          "output_type": "stream",
          "name": "stdout",
          "text": [
            "object\n"
          ]
        }
      ]
    },
    {
      "cell_type": "code",
      "source": [
        "valores_unicos = df4['RAZÓN_NO_TRABAJÓ'].unique()\n",
        "print(valores_unicos)"
      ],
      "metadata": {
        "colab": {
          "base_uri": "https://localhost:8080/"
        },
        "id": "iBTbgrrRSTPk",
        "outputId": "816b7b58-9215-4cbf-fdf0-b89091c6d736"
      },
      "execution_count": 325,
      "outputs": [
        {
          "output_type": "stream",
          "name": "stdout",
          "text": [
            "[' ' '8' '9' '5' '12' '4' '11' '1' '10' '2' '6' '7']\n"
          ]
        }
      ]
    },
    {
      "cell_type": "code",
      "source": [
        "mapeo_str = {\n",
        "    '1': \"Fue despedido por cierre de la empresa por el Coronavirus\",\n",
        "    '2': \"Fue despedido por reducción de personal de la empresa, por el Coronavirus\",\n",
        "    '4': \"Renunció voluntariamente por temor a contagiarse del coronavirus\",\n",
        "    '5': \"Término de contrato/trabajo temporal\",\n",
        "    '6': \"No renovaron su contrato por suspensión de labores de la empresa\",\n",
        "    '7': \"Fue despedido por presentar síntomas de coronavirus\",\n",
        "    '8': \"Cierre del negocio familiar por coronavirus\",\n",
        "    '9': \"Por cierre de negocio propio, por aislamiento social obligatorio\",\n",
        "    '10': \"No pudo continuar prestando sus servicios de forma independiente por el aislamiento social\",\n",
        "    '11': \"Por desabastecimiento del negocio propio por falta de transporte\",\n",
        "    '12': \"Otra razón\",\n",
        "    ' ': np.nan\n",
        "}\n",
        "\n",
        "df4['RAZÓN_NO_TRABAJÓ'] = df4['RAZÓN_NO_TRABAJÓ'].map(mapeo_str)\n",
        "\n"
      ],
      "metadata": {
        "id": "SQbewbNoRNrF"
      },
      "execution_count": 326,
      "outputs": []
    },
    {
      "cell_type": "code",
      "source": [
        "print(df4['RAZÓN_NO_TRABAJÓ'].sample(10))\n"
      ],
      "metadata": {
        "id": "aopsHQU6ThFF",
        "colab": {
          "base_uri": "https://localhost:8080/"
        },
        "outputId": "f5966222-6e29-4039-b633-42f044e37fb8"
      },
      "execution_count": 327,
      "outputs": [
        {
          "output_type": "stream",
          "name": "stdout",
          "text": [
            "38429    NaN\n",
            "87395    NaN\n",
            "29740    NaN\n",
            "69496    NaN\n",
            "78530    NaN\n",
            "31670    NaN\n",
            "86289    NaN\n",
            "3515     NaN\n",
            "55308    NaN\n",
            "75140    NaN\n",
            "Name: RAZÓN_NO_TRABAJÓ, dtype: object\n"
          ]
        }
      ]
    },
    {
      "cell_type": "code",
      "source": [
        "conteo = df4['RAZÓN_NO_TRABAJÓ'].value_counts()\n",
        "print(conteo)"
      ],
      "metadata": {
        "colab": {
          "base_uri": "https://localhost:8080/"
        },
        "id": "vDmWMEqvXueK",
        "outputId": "613a70e0-51d2-4a63-be3e-176b808adbad"
      },
      "execution_count": 328,
      "outputs": [
        {
          "output_type": "stream",
          "name": "stdout",
          "text": [
            "Otra razón                                                                                    617\n",
            "Término de contrato/trabajo temporal                                                          359\n",
            "No pudo continuar prestando sus servicios de forma independiente por el aislamiento social    288\n",
            "Renunció voluntariamente por temor a contagiarse del coronavirus                              207\n",
            "Por cierre de negocio propio, por aislamiento social obligatorio                              199\n",
            "Cierre del negocio familiar por coronavirus                                                   148\n",
            "Fue despedido por cierre de la empresa por el Coronavirus                                     145\n",
            "Fue despedido por reducción de personal de la empresa, por el Coronavirus                     121\n",
            "No renovaron su contrato por suspensión de labores de la empresa                               23\n",
            "Por desabastecimiento del negocio propio por falta de transporte                               16\n",
            "Fue despedido por presentar síntomas de coronavirus                                            11\n",
            "Name: RAZÓN_NO_TRABAJÓ, dtype: int64\n"
          ]
        }
      ]
    },
    {
      "cell_type": "code",
      "source": [
        "# Identificar la cantidad de valores NaN en la columna\n",
        "num_nans = df4['RAZÓN_NO_TRABAJÓ'].isna().sum()\n",
        "\n",
        "# Rellenar los valores NaN con \"Sí\" o \"No\" aleatoriamente\n",
        "df4.loc[df4['RAZÓN_NO_TRABAJÓ'].isna(), 'RAZÓN_NO_TRABAJÓ'] = np.random.choice([\n",
        " 'Cierre del negocio familiar por coronavirus',\n",
        " 'Por cierre de negocio propio, por aislamiento social obligatorio',\n",
        " 'Término de contrato/trabajo temporal',\n",
        " 'Otra razón',\n",
        " 'Renunció voluntariamente por temor a contagiarse del coronavirus',\n",
        " 'Por desabastecimiento del negocio propio por falta de transporte',\n",
        " 'Fue despedido por cierre de la empresa por el Coronavirus',\n",
        " 'No pudo continuar prestando sus servicios de forma independiente por el aislamiento social',\n",
        " 'Fue despedido por reducción de personal de la empresa, por el Coronavirus',\n",
        " 'No renovaron su contrato por suspensión de labores de la empresa'], size=num_nans)"
      ],
      "metadata": {
        "id": "mBvOdnaXYMNx"
      },
      "execution_count": 329,
      "outputs": []
    },
    {
      "cell_type": "code",
      "source": [
        "conteo = df4['RAZÓN_NO_TRABAJÓ'].value_counts()\n",
        "print(conteo)"
      ],
      "metadata": {
        "colab": {
          "base_uri": "https://localhost:8080/"
        },
        "id": "qVq4WNMzZB0o",
        "outputId": "0942e1e8-79fe-4cc9-b3a8-8b687515cb7e"
      },
      "execution_count": 330,
      "outputs": [
        {
          "output_type": "stream",
          "name": "stdout",
          "text": [
            "Otra razón                                                                                    9238\n",
            "Término de contrato/trabajo temporal                                                          8983\n",
            "Por cierre de negocio propio, por aislamiento social obligatorio                              8769\n",
            "Renunció voluntariamente por temor a contagiarse del coronavirus                              8758\n",
            "Cierre del negocio familiar por coronavirus                                                   8743\n",
            "Fue despedido por cierre de la empresa por el Coronavirus                                     8731\n",
            "No pudo continuar prestando sus servicios de forma independiente por el aislamiento social    8689\n",
            "Fue despedido por reducción de personal de la empresa, por el Coronavirus                     8634\n",
            "No renovaron su contrato por suspensión de labores de la empresa                              8572\n",
            "Por desabastecimiento del negocio propio por falta de transporte                              8533\n",
            "Fue despedido por presentar síntomas de coronavirus                                             11\n",
            "Name: RAZÓN_NO_TRABAJÓ, dtype: int64\n"
          ]
        }
      ]
    },
    {
      "cell_type": "code",
      "source": [
        "valores_unicos = df4['RAZÓN_NO_TRABAJÓ'].unique()\n",
        "print(valores_unicos)\n"
      ],
      "metadata": {
        "colab": {
          "base_uri": "https://localhost:8080/"
        },
        "id": "LngBTHBRRvFy",
        "outputId": "add7c5a6-60ab-4b9a-894b-ad3793a29f47"
      },
      "execution_count": 331,
      "outputs": [
        {
          "output_type": "stream",
          "name": "stdout",
          "text": [
            "['Por cierre de negocio propio, por aislamiento social obligatorio'\n",
            " 'Fue despedido por reducción de personal de la empresa, por el Coronavirus'\n",
            " 'Fue despedido por cierre de la empresa por el Coronavirus'\n",
            " 'No renovaron su contrato por suspensión de labores de la empresa'\n",
            " 'No pudo continuar prestando sus servicios de forma independiente por el aislamiento social'\n",
            " 'Por desabastecimiento del negocio propio por falta de transporte'\n",
            " 'Otra razón'\n",
            " 'Renunció voluntariamente por temor a contagiarse del coronavirus'\n",
            " 'Término de contrato/trabajo temporal'\n",
            " 'Cierre del negocio familiar por coronavirus'\n",
            " 'Fue despedido por presentar síntomas de coronavirus']\n"
          ]
        }
      ]
    },
    {
      "cell_type": "code",
      "source": [
        "empty_strings_in_column = (df4['RAZÓN_NO_TRABAJÓ'] == \"\").sum()\n",
        "print(f\"Empty string values in RAZÓN_NO_TRABAJÓ: {empty_strings_in_column}\")\n",
        "\n",
        "nan_in_column = df4['RAZÓN_NO_TRABAJÓ'].isna().sum()\n",
        "print(f\"NaN values in RAZÓN_NO_TRABAJÓ: {nan_in_column}\")"
      ],
      "metadata": {
        "colab": {
          "base_uri": "https://localhost:8080/"
        },
        "id": "RPFByMOVzd6t",
        "outputId": "64efe349-86d0-4fe5-dfbc-7f4511a22d2c"
      },
      "execution_count": 332,
      "outputs": [
        {
          "output_type": "stream",
          "name": "stdout",
          "text": [
            "Empty string values in RAZÓN_NO_TRABAJÓ: 0\n",
            "NaN values in RAZÓN_NO_TRABAJÓ: 0\n"
          ]
        }
      ]
    },
    {
      "cell_type": "code",
      "source": [
        "print(df4['RAZÓN_NO_TRABAJÓ'].sample(10))"
      ],
      "metadata": {
        "id": "VQspQeJY4tvz",
        "colab": {
          "base_uri": "https://localhost:8080/"
        },
        "outputId": "fc713550-33d2-4d97-9460-84e15dfef8b1"
      },
      "execution_count": 333,
      "outputs": [
        {
          "output_type": "stream",
          "name": "stdout",
          "text": [
            "42928    No renovaron su contrato por suspensión de lab...\n",
            "22680          Cierre del negocio familiar por coronavirus\n",
            "66201    No pudo continuar prestando sus servicios de f...\n",
            "66963    No pudo continuar prestando sus servicios de f...\n",
            "33818    Renunció voluntariamente por temor a contagiar...\n",
            "36559          Cierre del negocio familiar por coronavirus\n",
            "27060                                           Otra razón\n",
            "46006    Renunció voluntariamente por temor a contagiar...\n",
            "60399    Fue despedido por reducción de personal de la ...\n",
            "48323    Por cierre de negocio propio, por aislamiento ...\n",
            "Name: RAZÓN_NO_TRABAJÓ, dtype: object\n"
          ]
        }
      ]
    },
    {
      "cell_type": "markdown",
      "source": [
        "##  **PARA** **P507**"
      ],
      "metadata": {
        "id": "rvFH3X7aHV5x"
      }
    },
    {
      "cell_type": "code",
      "source": [
        "## Cambiamos el nombre de la columna\n",
        "df4.rename(columns={'P507': 'LABOR_QUE_DESEMPEÑA'}, inplace=True)"
      ],
      "metadata": {
        "id": "UwEfkRJjVzWd"
      },
      "execution_count": 334,
      "outputs": []
    },
    {
      "cell_type": "code",
      "source": [
        "print(df4['LABOR_QUE_DESEMPEÑA'].dtype)"
      ],
      "metadata": {
        "colab": {
          "base_uri": "https://localhost:8080/"
        },
        "id": "jyQwpXtXHZ3g",
        "outputId": "624221d7-f388-4604-c37e-8fb790819aa1"
      },
      "execution_count": 335,
      "outputs": [
        {
          "output_type": "stream",
          "name": "stdout",
          "text": [
            "object\n"
          ]
        }
      ]
    },
    {
      "cell_type": "code",
      "source": [
        "valores_unicos = df4['LABOR_QUE_DESEMPEÑA'].unique()\n",
        "print(valores_unicos)"
      ],
      "metadata": {
        "colab": {
          "base_uri": "https://localhost:8080/"
        },
        "id": "gKp9dy8sHvHc",
        "outputId": "57b2cd97-ea56-4ce2-fc75-81b84a9a51cc"
      },
      "execution_count": 336,
      "outputs": [
        {
          "output_type": "stream",
          "name": "stdout",
          "text": [
            "['3' '4' '2' ' ' '5' '6' '1' '7']\n"
          ]
        }
      ]
    },
    {
      "cell_type": "code",
      "source": [
        "conteo = df4['LABOR_QUE_DESEMPEÑA'].value_counts()\n",
        "print(conteo)"
      ],
      "metadata": {
        "colab": {
          "base_uri": "https://localhost:8080/"
        },
        "id": "YfwJxQwXfkWw",
        "outputId": "ee2548b2-6b69-4cb9-fff6-f4fcd0117f44"
      },
      "execution_count": 337,
      "outputs": [
        {
          "output_type": "stream",
          "name": "stdout",
          "text": [
            "2    25254\n",
            "     22421\n",
            "4    12697\n",
            "3    12042\n",
            "5    11628\n",
            "1     2208\n",
            "6     1100\n",
            "7      311\n",
            "Name: LABOR_QUE_DESEMPEÑA, dtype: int64\n"
          ]
        }
      ]
    },
    {
      "cell_type": "code",
      "source": [
        "mapeo_str1 = {\n",
        "    '1': \"Empleador o patrono\",\n",
        "    '2': \"Trabajador Independiente\",\n",
        "    '3': \"Empleado\",\n",
        "    '4': \"Obrero\",\n",
        "    '5': \"Trabajador Familiar No Remunerado\",\n",
        "    '6': \"Trabajador del Hogar\",\n",
        "    '7': \"Otro\",\n",
        "    ' ': np.nan\n",
        "}\n",
        "\n",
        "df4['LABOR_QUE_DESEMPEÑA'] = df4['LABOR_QUE_DESEMPEÑA'].map(mapeo_str1)"
      ],
      "metadata": {
        "id": "IrIsUebmH57l"
      },
      "execution_count": 338,
      "outputs": []
    },
    {
      "cell_type": "code",
      "source": [
        "valores_unicos = df4['LABOR_QUE_DESEMPEÑA'].unique()\n",
        "print(valores_unicos)"
      ],
      "metadata": {
        "colab": {
          "base_uri": "https://localhost:8080/"
        },
        "id": "7qivf8xqJOko",
        "outputId": "6501b64d-b198-4fa3-f8be-b09c46c18424"
      },
      "execution_count": 339,
      "outputs": [
        {
          "output_type": "stream",
          "name": "stdout",
          "text": [
            "['Empleado' 'Obrero' 'Trabajador Independiente' nan\n",
            " 'Trabajador Familiar No Remunerado' 'Trabajador del Hogar'\n",
            " 'Empleador o patrono' 'Otro']\n"
          ]
        }
      ]
    },
    {
      "cell_type": "code",
      "source": [
        "conteo = df4['LABOR_QUE_DESEMPEÑA'].value_counts()\n",
        "print(conteo)"
      ],
      "metadata": {
        "colab": {
          "base_uri": "https://localhost:8080/"
        },
        "id": "DDDGQoRcf7Fd",
        "outputId": "c46d74b4-3bc3-49b9-b42d-50e68649c749"
      },
      "execution_count": 340,
      "outputs": [
        {
          "output_type": "stream",
          "name": "stdout",
          "text": [
            "Trabajador Independiente             25254\n",
            "Obrero                               12697\n",
            "Empleado                             12042\n",
            "Trabajador Familiar No Remunerado    11628\n",
            "Empleador o patrono                   2208\n",
            "Trabajador del Hogar                  1100\n",
            "Otro                                   311\n",
            "Name: LABOR_QUE_DESEMPEÑA, dtype: int64\n"
          ]
        }
      ]
    },
    {
      "cell_type": "code",
      "source": [
        "## Imputamos campos vacios\n",
        "\n",
        "# Identificar la cantidad de valores NaN en la columna\n",
        "num_nans = df4['LABOR_QUE_DESEMPEÑA'].isna().sum()\n",
        "\n",
        "# Rellenar los valores NaN con \"Sí\" o \"No\" aleatoriamente\n",
        "df4.loc[df4['LABOR_QUE_DESEMPEÑA'].isna(), 'LABOR_QUE_DESEMPEÑA'] = np.random.choice([\n",
        "    'Empleado',\n",
        "    'Obrero',\n",
        "    'Trabajador Independiente',\n",
        "    'Trabajador Familiar No Remunerado',\n",
        "    'Trabajador del Hogar',\n",
        "    'Empleador o patrono',\n",
        "    'Otro'\n",
        " ], size=num_nans)"
      ],
      "metadata": {
        "id": "kd6KRPkrWOwU"
      },
      "execution_count": 341,
      "outputs": []
    },
    {
      "cell_type": "code",
      "source": [
        "valores_unicos = df4['LABOR_QUE_DESEMPEÑA'].unique()\n",
        "print(valores_unicos)"
      ],
      "metadata": {
        "id": "20mTjMfBWbZJ",
        "colab": {
          "base_uri": "https://localhost:8080/"
        },
        "outputId": "b5b50d39-5d7a-402a-df80-84315045a4cc"
      },
      "execution_count": 342,
      "outputs": [
        {
          "output_type": "stream",
          "name": "stdout",
          "text": [
            "['Empleado' 'Obrero' 'Trabajador Independiente' 'Otro'\n",
            " 'Empleador o patrono' 'Trabajador Familiar No Remunerado'\n",
            " 'Trabajador del Hogar']\n"
          ]
        }
      ]
    },
    {
      "cell_type": "code",
      "source": [
        "conteo = df4['LABOR_QUE_DESEMPEÑA'].value_counts()\n",
        "print(conteo)"
      ],
      "metadata": {
        "colab": {
          "base_uri": "https://localhost:8080/"
        },
        "id": "hE41la_Bgw7G",
        "outputId": "484151b5-b727-4cfc-db6a-be8055ec557c"
      },
      "execution_count": 343,
      "outputs": [
        {
          "output_type": "stream",
          "name": "stdout",
          "text": [
            "Trabajador Independiente             28467\n",
            "Obrero                               15945\n",
            "Empleado                             15337\n",
            "Trabajador Familiar No Remunerado    14842\n",
            "Empleador o patrono                   5400\n",
            "Trabajador del Hogar                  4206\n",
            "Otro                                  3464\n",
            "Name: LABOR_QUE_DESEMPEÑA, dtype: int64\n"
          ]
        }
      ]
    },
    {
      "cell_type": "code",
      "source": [
        "empty_strings_in_column = (df4['LABOR_QUE_DESEMPEÑA'] == \"\").sum()\n",
        "print(f\"Empty string values in LABOR_QUE_DESEMPEÑA: {empty_strings_in_column}\")\n",
        "\n",
        "nan_in_column = df4['LABOR_QUE_DESEMPEÑA'].isna().sum()\n",
        "print(f\"NaN values in LABOR_QUE_DESEMPEÑA: {nan_in_column}\")"
      ],
      "metadata": {
        "id": "jIMa8oW-Wbnz",
        "colab": {
          "base_uri": "https://localhost:8080/"
        },
        "outputId": "86bfb445-3966-4e10-f015-598f98f3783f"
      },
      "execution_count": 344,
      "outputs": [
        {
          "output_type": "stream",
          "name": "stdout",
          "text": [
            "Empty string values in LABOR_QUE_DESEMPEÑA: 0\n",
            "NaN values in LABOR_QUE_DESEMPEÑA: 0\n"
          ]
        }
      ]
    },
    {
      "cell_type": "markdown",
      "source": [
        "# **PARA** **P510A1**"
      ],
      "metadata": {
        "id": "HhqJc79LN6eK"
      }
    },
    {
      "cell_type": "code",
      "source": [
        "## Cambiamos el nombre de la columna\n",
        "df4.rename(columns={'P510A1': 'REGISTRO_EMPRESA'}, inplace=True)"
      ],
      "metadata": {
        "id": "vv92mH6bXe0y"
      },
      "execution_count": 345,
      "outputs": []
    },
    {
      "cell_type": "code",
      "source": [
        "print(df4['REGISTRO_EMPRESA'].dtype)"
      ],
      "metadata": {
        "colab": {
          "base_uri": "https://localhost:8080/"
        },
        "id": "cdFftDPiN_yx",
        "outputId": "d01505ed-81c8-4aea-df44-aa29a57dec56"
      },
      "execution_count": 346,
      "outputs": [
        {
          "output_type": "stream",
          "name": "stdout",
          "text": [
            "object\n"
          ]
        }
      ]
    },
    {
      "cell_type": "code",
      "source": [
        "valores_unicos = df4['REGISTRO_EMPRESA'].unique()\n",
        "print(valores_unicos)"
      ],
      "metadata": {
        "colab": {
          "base_uri": "https://localhost:8080/"
        },
        "id": "hNl9yqL7OQdz",
        "outputId": "0ff98d2d-afa8-455c-8608-b53bf4214d39"
      },
      "execution_count": 347,
      "outputs": [
        {
          "output_type": "stream",
          "name": "stdout",
          "text": [
            "[' ' '2' '3' '1']\n"
          ]
        }
      ]
    },
    {
      "cell_type": "code",
      "source": [
        "conteo = df4['REGISTRO_EMPRESA'].value_counts()\n",
        "print(conteo)"
      ],
      "metadata": {
        "colab": {
          "base_uri": "https://localhost:8080/"
        },
        "id": "lR8Se4f2iXOD",
        "outputId": "2464b79b-efd6-4e4b-901b-d3611e2df0ef"
      },
      "execution_count": 348,
      "outputs": [
        {
          "output_type": "stream",
          "name": "stdout",
          "text": [
            "3    43786\n",
            "     28941\n",
            "1     8336\n",
            "2     6598\n",
            "Name: REGISTRO_EMPRESA, dtype: int64\n"
          ]
        }
      ]
    },
    {
      "cell_type": "code",
      "source": [
        "mapeo_str3 = {\n",
        "    '1': \"Persona Jurídica (Sociedad Anónima; SRL; Sociedad Civil; EIRL; Fundación ó Asociación, etc.)\",\n",
        "    '2': \"Persona Natural (con RUC, RUS, RER, u otro régimen)\",\n",
        "    '3': \"No esta registrado (no tiene RUC)\",\n",
        "    ' ': np.nan\n",
        "}\n",
        "\n",
        "\n",
        "df4['REGISTRO_EMPRESA'] = df4['REGISTRO_EMPRESA'].map(mapeo_str3)"
      ],
      "metadata": {
        "id": "Kty93zWnOUgk"
      },
      "execution_count": 349,
      "outputs": []
    },
    {
      "cell_type": "code",
      "source": [
        "valores_unicos = df4['REGISTRO_EMPRESA'].unique()\n",
        "print(valores_unicos)"
      ],
      "metadata": {
        "colab": {
          "base_uri": "https://localhost:8080/"
        },
        "id": "arDIdS8eOqgf",
        "outputId": "eebf5686-709c-4db3-9854-0a782098931b"
      },
      "execution_count": 350,
      "outputs": [
        {
          "output_type": "stream",
          "name": "stdout",
          "text": [
            "[nan 'Persona Natural (con RUC, RUS, RER, u otro régimen)'\n",
            " 'No esta registrado (no tiene RUC)'\n",
            " 'Persona Jurídica (Sociedad Anónima; SRL; Sociedad Civil; EIRL; Fundación ó Asociación, etc.)']\n"
          ]
        }
      ]
    },
    {
      "cell_type": "code",
      "source": [
        "## Imputamos campos vacios\n",
        "\n",
        "# Identificar la cantidad de valores NaN en la columna\n",
        "num_nans = df4['REGISTRO_EMPRESA'].isna().sum()\n",
        "\n",
        "# Rellenar los valores NaN con \"Sí\" o \"No\" aleatoriamente\n",
        "df4.loc[df4['REGISTRO_EMPRESA'].isna(), 'REGISTRO_EMPRESA'] = np.random.choice([\n",
        "    'Persona Natural (con RUC, RUS, RER, u otro régimen)',\n",
        "    'No esta registrado (no tiene RUC)',\n",
        "    'Persona Jurídica (Sociedad Anónima; SRL; Sociedad Civil; EIRL; Fundación ó Asociación, etc.)'\n",
        " ], size=num_nans)"
      ],
      "metadata": {
        "id": "cq7EZeZPXvxm"
      },
      "execution_count": 351,
      "outputs": []
    },
    {
      "cell_type": "code",
      "source": [
        "valores_unicos = df4['REGISTRO_EMPRESA'].unique()\n",
        "print(valores_unicos)"
      ],
      "metadata": {
        "id": "ZtRtZURsXw_V",
        "colab": {
          "base_uri": "https://localhost:8080/"
        },
        "outputId": "972c7f18-34ba-4d8e-8857-48c8cebd3dcd"
      },
      "execution_count": 352,
      "outputs": [
        {
          "output_type": "stream",
          "name": "stdout",
          "text": [
            "['Persona Jurídica (Sociedad Anónima; SRL; Sociedad Civil; EIRL; Fundación ó Asociación, etc.)'\n",
            " 'Persona Natural (con RUC, RUS, RER, u otro régimen)'\n",
            " 'No esta registrado (no tiene RUC)']\n"
          ]
        }
      ]
    },
    {
      "cell_type": "code",
      "source": [
        "conteo = df4['REGISTRO_EMPRESA'].value_counts()\n",
        "print(conteo)"
      ],
      "metadata": {
        "colab": {
          "base_uri": "https://localhost:8080/"
        },
        "id": "oC3kVYsjjQ14",
        "outputId": "23bf3e5d-f7b6-4363-c1aa-254721cd2057"
      },
      "execution_count": 353,
      "outputs": [
        {
          "output_type": "stream",
          "name": "stdout",
          "text": [
            "No esta registrado (no tiene RUC)                                                               53528\n",
            "Persona Jurídica (Sociedad Anónima; SRL; Sociedad Civil; EIRL; Fundación ó Asociación, etc.)    17851\n",
            "Persona Natural (con RUC, RUS, RER, u otro régimen)                                             16282\n",
            "Name: REGISTRO_EMPRESA, dtype: int64\n"
          ]
        }
      ]
    },
    {
      "cell_type": "code",
      "source": [
        "empty_strings_in_column = (df4['REGISTRO_EMPRESA'] == \"\").sum()\n",
        "print(f\"Empty string values in REGISTRO_EMPRESA: {empty_strings_in_column}\")\n",
        "\n",
        "nan_in_column = df4['REGISTRO_EMPRESA'].isna().sum()\n",
        "print(f\"NaN values in REGISTRO_EMPRESA: {nan_in_column}\")"
      ],
      "metadata": {
        "id": "5olx64csX0p-",
        "colab": {
          "base_uri": "https://localhost:8080/"
        },
        "outputId": "3bce0964-c453-458b-f730-9f4ef1ff44e1"
      },
      "execution_count": 354,
      "outputs": [
        {
          "output_type": "stream",
          "name": "stdout",
          "text": [
            "Empty string values in REGISTRO_EMPRESA: 0\n",
            "NaN values in REGISTRO_EMPRESA: 0\n"
          ]
        }
      ]
    },
    {
      "cell_type": "markdown",
      "source": [
        "# **PARA** **P511A**\n",
        "\n",
        "\n"
      ],
      "metadata": {
        "id": "-wC44P06PhC8"
      }
    },
    {
      "cell_type": "code",
      "source": [
        "## Cambiamos el nombre de la columna\n",
        "df4.rename(columns={'P511A': 'TIPO_CONTRATO'}, inplace=True)"
      ],
      "metadata": {
        "id": "DHEvcPHdYPz3"
      },
      "execution_count": 355,
      "outputs": []
    },
    {
      "cell_type": "code",
      "source": [
        "valores_unicos = df4['TIPO_CONTRATO'].unique()\n",
        "print(valores_unicos)"
      ],
      "metadata": {
        "colab": {
          "base_uri": "https://localhost:8080/"
        },
        "id": "N1sje3oxUV34",
        "outputId": "d18f1359-6573-4b83-8723-7c6e914aa373"
      },
      "execution_count": 356,
      "outputs": [
        {
          "output_type": "stream",
          "name": "stdout",
          "text": [
            "['1' '7' ' ' '5' '2' '6' '4' '3' '8']\n"
          ]
        }
      ]
    },
    {
      "cell_type": "code",
      "source": [
        "conteo = df4['TIPO_CONTRATO'].value_counts()\n",
        "print(conteo)"
      ],
      "metadata": {
        "colab": {
          "base_uri": "https://localhost:8080/"
        },
        "id": "NVP4LAXnjgUA",
        "outputId": "db8ddd71-61f5-44b8-a4ba-80ce7dcbc702"
      },
      "execution_count": 357,
      "outputs": [
        {
          "output_type": "stream",
          "name": "stdout",
          "text": [
            "     50150\n",
            "7    25320\n",
            "2     6123\n",
            "1     3753\n",
            "5     1435\n",
            "6      689\n",
            "4      142\n",
            "3       48\n",
            "8        1\n",
            "Name: TIPO_CONTRATO, dtype: int64\n"
          ]
        }
      ]
    },
    {
      "cell_type": "code",
      "source": [
        "mapeo_str4 = {\n",
        "    '1': \"Contrato indefinido, nombrado, permanente\",\n",
        "    '2': \"Contrato a plazo fijo (sujeto a modalidad)\",\n",
        "    '3': \"Está en período de prueba\",\n",
        "    '4': \"Convenios de Formación Laboral Juvenil /Prácticas Pre-profesioanles\",\n",
        "    '5': \"Contrato por locación de servicios (Honorarios profesionales, RUC), SNP\",\n",
        "    '6': \"Regimen Especial de Contratación Administrativa (CAS)\",\n",
        "    '7': \"Sin contrato\",\n",
        "    '8': \"Otro\",\n",
        "    ' ': np.nan\n",
        "}\n",
        "\n",
        "\n",
        "df4['TIPO_CONTRATO'] = df4['TIPO_CONTRATO'].map(mapeo_str4)"
      ],
      "metadata": {
        "id": "5kHAWtvTUbtr"
      },
      "execution_count": 358,
      "outputs": []
    },
    {
      "cell_type": "code",
      "source": [
        "valores_unicos = df4['TIPO_CONTRATO'].unique()\n",
        "print(valores_unicos)"
      ],
      "metadata": {
        "colab": {
          "base_uri": "https://localhost:8080/"
        },
        "id": "Zx8r7chaVZ8A",
        "outputId": "d48a6aab-c3e0-470b-c882-1f4756808f86"
      },
      "execution_count": 359,
      "outputs": [
        {
          "output_type": "stream",
          "name": "stdout",
          "text": [
            "['Contrato indefinido, nombrado, permanente' 'Sin contrato' nan\n",
            " 'Contrato por locación de servicios (Honorarios profesionales, RUC), SNP'\n",
            " 'Contrato a plazo fijo (sujeto a modalidad)'\n",
            " 'Regimen Especial de Contratación Administrativa (CAS)'\n",
            " 'Convenios de Formación Laboral Juvenil /Prácticas Pre-profesioanles'\n",
            " 'Está en período de prueba' 'Otro']\n"
          ]
        }
      ]
    },
    {
      "cell_type": "code",
      "source": [
        "## Imputamos campos vacios\n",
        "\n",
        "# Identificar la cantidad de valores NaN en la columna\n",
        "num_nans = df4['TIPO_CONTRATO'].isna().sum()\n",
        "\n",
        "# Rellenar los valores NaN con \"Sí\" o \"No\" aleatoriamente\n",
        "df4.loc[df4['TIPO_CONTRATO'].isna(), 'TIPO_CONTRATO'] = np.random.choice([\n",
        "    'Contrato indefinido, nombrado, permanente',\n",
        "    'Sin contrato',\n",
        "    \"Está en período de prueba\",\n",
        "    'Contrato por locación de servicios (Honorarios profesionales, RUC), SNP',\n",
        "    'Contrato a plazo fijo (sujeto a modalidad)',\n",
        "    'Regimen Especial de Contratación Administrativa (CAS)',\n",
        "    'Convenios de Formación Laboral Juvenil /Prácticas Pre-profesioanles'\n",
        " ], size=num_nans)"
      ],
      "metadata": {
        "id": "Mbb_DfP6ZBTE"
      },
      "execution_count": 360,
      "outputs": []
    },
    {
      "cell_type": "code",
      "source": [
        "valores_unicos = df4['TIPO_CONTRATO'].unique()\n",
        "print(valores_unicos)"
      ],
      "metadata": {
        "id": "9gz5DjUcZG8S",
        "colab": {
          "base_uri": "https://localhost:8080/"
        },
        "outputId": "e810023f-241c-4ade-c0b6-2a141ca93ce3"
      },
      "execution_count": 361,
      "outputs": [
        {
          "output_type": "stream",
          "name": "stdout",
          "text": [
            "['Contrato indefinido, nombrado, permanente' 'Sin contrato'\n",
            " 'Está en período de prueba'\n",
            " 'Convenios de Formación Laboral Juvenil /Prácticas Pre-profesioanles'\n",
            " 'Regimen Especial de Contratación Administrativa (CAS)'\n",
            " 'Contrato por locación de servicios (Honorarios profesionales, RUC), SNP'\n",
            " 'Contrato a plazo fijo (sujeto a modalidad)' 'Otro']\n"
          ]
        }
      ]
    },
    {
      "cell_type": "code",
      "source": [
        "conteo = df4['TIPO_CONTRATO'].value_counts()\n",
        "print(conteo)"
      ],
      "metadata": {
        "colab": {
          "base_uri": "https://localhost:8080/"
        },
        "id": "8n75eKm0kq2p",
        "outputId": "64767f64-ed06-4df8-f1f6-4c8f99ca68e5"
      },
      "execution_count": 362,
      "outputs": [
        {
          "output_type": "stream",
          "name": "stdout",
          "text": [
            "Sin contrato                                                               32382\n",
            "Contrato a plazo fijo (sujeto a modalidad)                                 13206\n",
            "Contrato indefinido, nombrado, permanente                                  11038\n",
            "Contrato por locación de servicios (Honorarios profesionales, RUC), SNP     8630\n",
            "Regimen Especial de Contratación Administrativa (CAS)                       7750\n",
            "Está en período de prueba                                                   7335\n",
            "Convenios de Formación Laboral Juvenil /Prácticas Pre-profesioanles         7319\n",
            "Otro                                                                           1\n",
            "Name: TIPO_CONTRATO, dtype: int64\n"
          ]
        }
      ]
    },
    {
      "cell_type": "code",
      "source": [
        "empty_strings_in_column = (df4['TIPO_CONTRATO'] == \"\").sum()\n",
        "print(f\"Empty string values in TIPO_CONTRATO: {empty_strings_in_column}\")\n",
        "\n",
        "nan_in_column = df4['TIPO_CONTRATO'].isna().sum()\n",
        "print(f\"NaN values in TIPO_CONTRATO: {nan_in_column}\")"
      ],
      "metadata": {
        "id": "2D_MPv0xZHEb",
        "colab": {
          "base_uri": "https://localhost:8080/"
        },
        "outputId": "acb7d19e-723d-49a9-d067-c6dc7ea598d0"
      },
      "execution_count": 363,
      "outputs": [
        {
          "output_type": "stream",
          "name": "stdout",
          "text": [
            "Empty string values in TIPO_CONTRATO: 0\n",
            "NaN values in TIPO_CONTRATO: 0\n"
          ]
        }
      ]
    },
    {
      "cell_type": "markdown",
      "source": [
        "# **PARA** **P513T**"
      ],
      "metadata": {
        "id": "Jsx6N803ZpkX"
      }
    },
    {
      "cell_type": "code",
      "source": [
        "## Cambiamos el nombre de la columna\n",
        "df4.rename(columns={'P513T': 'HORAS_TRABAJO_SEM_ANTERIOR'}, inplace=True)"
      ],
      "metadata": {
        "id": "svn7viXcZvHD"
      },
      "execution_count": 364,
      "outputs": []
    },
    {
      "cell_type": "code",
      "source": [
        "valores_unicos = df4['HORAS_TRABAJO_SEM_ANTERIOR'].unique()\n",
        "print(valores_unicos)"
      ],
      "metadata": {
        "id": "BCY9nZRvZ5B1",
        "colab": {
          "base_uri": "https://localhost:8080/"
        },
        "outputId": "63d5309f-be3a-4d7e-bdda-5f548ff94e89"
      },
      "execution_count": 365,
      "outputs": [
        {
          "output_type": "stream",
          "name": "stdout",
          "text": [
            "['40' '73' '44' '35' ' ' '24' '7' '14' '42' '30' '84' '32' '76' '25' '0'\n",
            " '45' '56' '28' '9' '77' '63' '21' '70' '49' '48' '20' '18' '54' '34' '60'\n",
            " '36' '38' '39' '17' '13' '50' '26' '10' '31' '22' '47' '6' '19' '43' '23'\n",
            " '46' '27' '2' '16' '8' '66' '29' '12' '55' '72' '98' '3' '80' '68' '4'\n",
            " '41' '51' '33' '52' '67' '95' '15' '1' '11' '64' '59' '58' '53' '82' '88'\n",
            " '37' '57' '93' '5' '79' '62' '74' '71' '69' '91' '65' '81' '61' '96' '85'\n",
            " '75' '78' '97' '90' '87' '89' '83' '86' '94' '92']\n"
          ]
        }
      ]
    },
    {
      "cell_type": "code",
      "source": [
        "# Convertir la columna a numérico, colocando NaN donde no pueda convertirse a número\n",
        "df4['HORAS_TRABAJO_SEM_ANTERIOR'] = pd.to_numeric(df4['HORAS_TRABAJO_SEM_ANTERIOR'], errors='coerce')"
      ],
      "metadata": {
        "id": "whwOjtWgm3Va"
      },
      "execution_count": 366,
      "outputs": []
    },
    {
      "cell_type": "code",
      "source": [
        "valores_unicos = df4['HORAS_TRABAJO_SEM_ANTERIOR'].unique()\n",
        "print(valores_unicos)"
      ],
      "metadata": {
        "colab": {
          "base_uri": "https://localhost:8080/"
        },
        "id": "x9ZupvRKm8M-",
        "outputId": "3b74ea49-e270-40a9-998c-af4118e59abc"
      },
      "execution_count": 367,
      "outputs": [
        {
          "output_type": "stream",
          "name": "stdout",
          "text": [
            "[40. 73. 44. 35. nan 24.  7. 14. 42. 30. 84. 32. 76. 25.  0. 45. 56. 28.\n",
            "  9. 77. 63. 21. 70. 49. 48. 20. 18. 54. 34. 60. 36. 38. 39. 17. 13. 50.\n",
            " 26. 10. 31. 22. 47.  6. 19. 43. 23. 46. 27.  2. 16.  8. 66. 29. 12. 55.\n",
            " 72. 98.  3. 80. 68.  4. 41. 51. 33. 52. 67. 95. 15.  1. 11. 64. 59. 58.\n",
            " 53. 82. 88. 37. 57. 93.  5. 79. 62. 74. 71. 69. 91. 65. 81. 61. 96. 85.\n",
            " 75. 78. 97. 90. 87. 89. 83. 86. 94. 92.]\n"
          ]
        }
      ]
    },
    {
      "cell_type": "code",
      "source": [
        "## Imputamos campos vacios-- en este caso por el promedio de horas\n",
        "\n",
        "# Calcular la media\n",
        "media_entero = int(round(df4['HORAS_TRABAJO_SEM_ANTERIOR'].mean()))\n",
        "\n",
        "# Imputar los valores NaN en la columna 'ORAS_TRABAJO_SEM_ANTERIOR' con la media entera\n",
        "df4['HORAS_TRABAJO_SEM_ANTERIOR'].fillna(media_entero, inplace=True)\n"
      ],
      "metadata": {
        "id": "v6ZbtiUJZvQU"
      },
      "execution_count": 368,
      "outputs": []
    },
    {
      "cell_type": "code",
      "source": [
        "valores_unicos = df4['HORAS_TRABAJO_SEM_ANTERIOR'].unique()\n",
        "print(valores_unicos)"
      ],
      "metadata": {
        "id": "G_PlLta3ZvVk",
        "colab": {
          "base_uri": "https://localhost:8080/"
        },
        "outputId": "9efc7ec5-5414-4c44-f531-7638ce3d4149"
      },
      "execution_count": 369,
      "outputs": [
        {
          "output_type": "stream",
          "name": "stdout",
          "text": [
            "[40. 73. 44. 35. 36. 24.  7. 14. 42. 30. 84. 32. 76. 25.  0. 45. 56. 28.\n",
            "  9. 77. 63. 21. 70. 49. 48. 20. 18. 54. 34. 60. 38. 39. 17. 13. 50. 26.\n",
            " 10. 31. 22. 47.  6. 19. 43. 23. 46. 27.  2. 16.  8. 66. 29. 12. 55. 72.\n",
            " 98.  3. 80. 68.  4. 41. 51. 33. 52. 67. 95. 15.  1. 11. 64. 59. 58. 53.\n",
            " 82. 88. 37. 57. 93.  5. 79. 62. 74. 71. 69. 91. 65. 81. 61. 96. 85. 75.\n",
            " 78. 97. 90. 87. 89. 83. 86. 94. 92.]\n"
          ]
        }
      ]
    },
    {
      "cell_type": "code",
      "source": [
        "conteo = df4['HORAS_TRABAJO_SEM_ANTERIOR'].value_counts()\n",
        "print(conteo)"
      ],
      "metadata": {
        "colab": {
          "base_uri": "https://localhost:8080/"
        },
        "id": "nALDQTXglX8-",
        "outputId": "2909466b-a0db-4b6c-80bc-b3fd37186b0a"
      },
      "execution_count": 370,
      "outputs": [
        {
          "output_type": "stream",
          "name": "stdout",
          "text": [
            "36.00    24284\n",
            "48.00     6574\n",
            "40.00     3670\n",
            "30.00     2288\n",
            "24.00     2212\n",
            "         ...  \n",
            "93.00       14\n",
            "89.00       14\n",
            "97.00       11\n",
            "95.00       10\n",
            "92.00       10\n",
            "Name: HORAS_TRABAJO_SEM_ANTERIOR, Length: 99, dtype: int64\n"
          ]
        }
      ]
    },
    {
      "cell_type": "code",
      "source": [
        "empty_strings_in_column = (df4['HORAS_TRABAJO_SEM_ANTERIOR'] == \"\").sum()\n",
        "print(f\"Empty string values in HORAS_TRABAJO_SEM_ANTERIOR': {empty_strings_in_column}\")\n",
        "\n",
        "nan_in_column = df4['HORAS_TRABAJO_SEM_ANTERIOR'].isna().sum()\n",
        "print(f\"NaN values in HORAS_TRABAJO_SEM_ANTERIOR': {nan_in_column}\")"
      ],
      "metadata": {
        "id": "gbZ_ZJ_PZvYo",
        "colab": {
          "base_uri": "https://localhost:8080/"
        },
        "outputId": "6db9169a-4517-4ebc-897a-bfe432ec27f6"
      },
      "execution_count": 371,
      "outputs": [
        {
          "output_type": "stream",
          "name": "stdout",
          "text": [
            "Empty string values in HORAS_TRABAJO_SEM_ANTERIOR': 0\n",
            "NaN values in HORAS_TRABAJO_SEM_ANTERIOR': 0\n"
          ]
        }
      ]
    },
    {
      "cell_type": "markdown",
      "source": [
        "###  **PARA** **P513A1** **Y** **P513A2**"
      ],
      "metadata": {
        "id": "bxWoiC3YeC46"
      }
    },
    {
      "cell_type": "code",
      "source": [
        "## Cambiamos el nombre de la columna\n",
        "df4.rename(columns={'P513A1': 'TIEMPO_TRABAJO_AÑOS'}, inplace=True)"
      ],
      "metadata": {
        "id": "EsuchbP3etXk"
      },
      "execution_count": 372,
      "outputs": []
    },
    {
      "cell_type": "code",
      "source": [
        "valores_unicos = df4['TIEMPO_TRABAJO_AÑOS'].unique()\n",
        "print(valores_unicos)"
      ],
      "metadata": {
        "colab": {
          "base_uri": "https://localhost:8080/"
        },
        "id": "u0jNSn9LnWcr",
        "outputId": "2b7e940c-2014-495f-bfc9-37c83bcdb8e4"
      },
      "execution_count": 373,
      "outputs": [
        {
          "output_type": "stream",
          "name": "stdout",
          "text": [
            "['18' '0' '15' '40' ' ' '1' '2' '31' '5' '8' '10' '3' '30' '16' '9' '25'\n",
            " '32' '6' '20' '14' '52' '17' '7' '34' '12' '35' '4' '49' '28' '27' '36'\n",
            " '11' '23' '13' '45' '24' '19' '44' '56' '21' '48' '33' '22' '54' '42'\n",
            " '55' '50' '26' '38' '37' '53' '39' '41' '58' '64' '29' '47' '59' '65'\n",
            " '51' '60' '43' '62' '57' '46' '70' '61' '99' '75' '63' '67' '69' '68'\n",
            " '66' '72' '77']\n"
          ]
        }
      ]
    },
    {
      "cell_type": "code",
      "source": [
        "# Convertir la columna a numérico, colocando NaN donde no pueda convertirse a número\n",
        "df4['TIEMPO_TRABAJO_AÑOS'] = pd.to_numeric(df4['TIEMPO_TRABAJO_AÑOS'], errors='coerce')"
      ],
      "metadata": {
        "id": "PUF9DN-NoOu7"
      },
      "execution_count": 374,
      "outputs": []
    },
    {
      "cell_type": "code",
      "source": [
        "valores_unicos = df4['TIEMPO_TRABAJO_AÑOS'].unique()\n",
        "print(valores_unicos)"
      ],
      "metadata": {
        "colab": {
          "base_uri": "https://localhost:8080/"
        },
        "id": "0E40Fur9o4I-",
        "outputId": "938ccb04-18a3-424e-97a0-37e44dc9aa2c"
      },
      "execution_count": 375,
      "outputs": [
        {
          "output_type": "stream",
          "name": "stdout",
          "text": [
            "[18.  0. 15. 40. nan  1.  2. 31.  5.  8. 10.  3. 30. 16.  9. 25. 32.  6.\n",
            " 20. 14. 52. 17.  7. 34. 12. 35.  4. 49. 28. 27. 36. 11. 23. 13. 45. 24.\n",
            " 19. 44. 56. 21. 48. 33. 22. 54. 42. 55. 50. 26. 38. 37. 53. 39. 41. 58.\n",
            " 64. 29. 47. 59. 65. 51. 60. 43. 62. 57. 46. 70. 61. 99. 75. 63. 67. 69.\n",
            " 68. 66. 72. 77.]\n"
          ]
        }
      ]
    },
    {
      "cell_type": "code",
      "source": [
        "## Cambiamos el nombre de la columna\n",
        "df4.rename(columns={'P513A2': 'TIEMPO_TRABAJO_MESES'}, inplace=True)"
      ],
      "metadata": {
        "id": "diPj5NO9jfuu"
      },
      "execution_count": 376,
      "outputs": []
    },
    {
      "cell_type": "code",
      "source": [
        "valores_unicos = df4['TIEMPO_TRABAJO_MESES'].unique()\n",
        "print(valores_unicos)"
      ],
      "metadata": {
        "colab": {
          "base_uri": "https://localhost:8080/"
        },
        "id": "gqoFB65zna4k",
        "outputId": "a22142eb-da08-4620-9d24-970078617114"
      },
      "execution_count": 377,
      "outputs": [
        {
          "output_type": "stream",
          "name": "stdout",
          "text": [
            "['11' '3' '5' '4' ' ' '0' '6' '1' '2' '7' '10' '8' '9' '99']\n"
          ]
        }
      ]
    },
    {
      "cell_type": "code",
      "source": [
        "# Convertir la columna a numérico, colocando NaN donde no pueda convertirse a número\n",
        "df4['TIEMPO_TRABAJO_MESES'] = pd.to_numeric(df4['TIEMPO_TRABAJO_MESES'], errors='coerce')"
      ],
      "metadata": {
        "id": "d094pTEvoYvB"
      },
      "execution_count": 378,
      "outputs": []
    },
    {
      "cell_type": "code",
      "source": [
        "valores_unicos = df4['TIEMPO_TRABAJO_MESES'].unique()\n",
        "print(valores_unicos)"
      ],
      "metadata": {
        "colab": {
          "base_uri": "https://localhost:8080/"
        },
        "id": "NeS56TpQowg7",
        "outputId": "d7e9d605-f6e5-495b-ea2a-37f1e693b254"
      },
      "execution_count": 379,
      "outputs": [
        {
          "output_type": "stream",
          "name": "stdout",
          "text": [
            "[11.  3.  5.  4. nan  0.  6.  1.  2.  7. 10.  8.  9. 99.]\n"
          ]
        }
      ]
    },
    {
      "cell_type": "code",
      "source": [
        "import numpy as np\n",
        "\n",
        "# Convertir los meses a años solo para los registros donde TIEMPO_TRABAJO_AÑOS es 0\n",
        "df4['TIEMPO_TRABAJO_MESES'] = np.where(df4['TIEMPO_TRABAJO_AÑOS'] == 0, df4['TIEMPO_TRABAJO_MESES'] / 12, df4['TIEMPO_TRABAJO_MESES'])\n",
        "\n",
        "# Sumar esos valores convertidos a 'TIEMPO_TRABAJO_AÑOS' solo si TIEMPO_TRABAJO_AÑOS es 0\n",
        "df4['TIEMPO_TRABAJO_AÑOS'] = np.where(df4['TIEMPO_TRABAJO_AÑOS'] == 0, df4['TIEMPO_TRABAJO_AÑOS'] + df4['TIEMPO_TRABAJO_MESES'], df4['TIEMPO_TRABAJO_AÑOS'])\n",
        "\n",
        "# Redondear 'TIEMPO_TRABAJO_AÑOS' a dos decimales\n",
        "df4['TIEMPO_TRABAJO_AÑOS'] = df4['TIEMPO_TRABAJO_AÑOS'].round(2)\n",
        "\n",
        "# Eliminar la columna 'TIEMPO_TRABAJO_MESES'\n",
        "df4.drop(columns=['TIEMPO_TRABAJO_MESES'], inplace=True)\n",
        "\n",
        "\n"
      ],
      "metadata": {
        "id": "TZvQgPvhi9or"
      },
      "execution_count": 380,
      "outputs": []
    },
    {
      "cell_type": "code",
      "source": [
        "print(df4['TIEMPO_TRABAJO_AÑOS'].dtype)"
      ],
      "metadata": {
        "colab": {
          "base_uri": "https://localhost:8080/"
        },
        "id": "5T2B0cirtIPO",
        "outputId": "98461412-a3cf-47fa-82fc-dff23a4d8541"
      },
      "execution_count": 381,
      "outputs": [
        {
          "output_type": "stream",
          "name": "stdout",
          "text": [
            "float64\n"
          ]
        }
      ]
    },
    {
      "cell_type": "code",
      "source": [
        "import pandas as pd\n",
        "\n",
        "pd.set_option('display.float_format', '{:.2f}'.format)\n"
      ],
      "metadata": {
        "id": "x9FIP3UztYPx"
      },
      "execution_count": 382,
      "outputs": []
    },
    {
      "cell_type": "code",
      "source": [
        "valores_unicos = df4['TIEMPO_TRABAJO_AÑOS'].unique()\n",
        "\n",
        "for valor in valores_unicos:\n",
        "    if not pd.isnull(valor):  # Esto se asegura de no formatear valores NaN\n",
        "        print('{:.2f}'.format(valor))\n",
        "    else:\n",
        "        print(valor)\n"
      ],
      "metadata": {
        "colab": {
          "base_uri": "https://localhost:8080/"
        },
        "id": "DLXwtUkAvrRK",
        "outputId": "89665433-5481-42f0-a556-74f6d945ba9e"
      },
      "execution_count": 383,
      "outputs": [
        {
          "output_type": "stream",
          "name": "stdout",
          "text": [
            "18.00\n",
            "0.25\n",
            "15.00\n",
            "40.00\n",
            "0.92\n",
            "nan\n",
            "1.00\n",
            "0.08\n",
            "0.42\n",
            "0.17\n",
            "2.00\n",
            "31.00\n",
            "5.00\n",
            "8.00\n",
            "10.00\n",
            "3.00\n",
            "30.00\n",
            "16.00\n",
            "9.00\n",
            "0.58\n",
            "25.00\n",
            "32.00\n",
            "6.00\n",
            "20.00\n",
            "14.00\n",
            "0.50\n",
            "52.00\n",
            "17.00\n",
            "7.00\n",
            "34.00\n",
            "12.00\n",
            "35.00\n",
            "4.00\n",
            "49.00\n",
            "28.00\n",
            "27.00\n",
            "36.00\n",
            "11.00\n",
            "23.00\n",
            "13.00\n",
            "0.67\n",
            "45.00\n",
            "24.00\n",
            "19.00\n",
            "44.00\n",
            "56.00\n",
            "21.00\n",
            "48.00\n",
            "0.83\n",
            "0.33\n",
            "33.00\n",
            "22.00\n",
            "54.00\n",
            "42.00\n",
            "55.00\n",
            "0.75\n",
            "50.00\n",
            "26.00\n",
            "38.00\n",
            "37.00\n",
            "53.00\n",
            "39.00\n",
            "41.00\n",
            "58.00\n",
            "64.00\n",
            "29.00\n",
            "47.00\n",
            "59.00\n",
            "65.00\n",
            "51.00\n",
            "60.00\n",
            "43.00\n",
            "62.00\n",
            "57.00\n",
            "46.00\n",
            "70.00\n",
            "61.00\n",
            "99.00\n",
            "75.00\n",
            "63.00\n",
            "67.00\n",
            "69.00\n",
            "68.00\n",
            "66.00\n",
            "72.00\n",
            "77.00\n"
          ]
        }
      ]
    },
    {
      "cell_type": "code",
      "source": [
        "valores_unicos = df4['TIEMPO_TRABAJO_AÑOS'].unique()\n",
        "print(valores_unicos)\n"
      ],
      "metadata": {
        "colab": {
          "base_uri": "https://localhost:8080/"
        },
        "id": "HKXIsO9yj8rc",
        "outputId": "fddba5de-263e-4127-9933-c776e6b4a283"
      },
      "execution_count": 384,
      "outputs": [
        {
          "output_type": "stream",
          "name": "stdout",
          "text": [
            "[1.8e+01 2.5e-01 1.5e+01 4.0e+01 9.2e-01     nan 1.0e+00 8.0e-02 4.2e-01\n",
            " 1.7e-01 2.0e+00 3.1e+01 5.0e+00 8.0e+00 1.0e+01 3.0e+00 3.0e+01 1.6e+01\n",
            " 9.0e+00 5.8e-01 2.5e+01 3.2e+01 6.0e+00 2.0e+01 1.4e+01 5.0e-01 5.2e+01\n",
            " 1.7e+01 7.0e+00 3.4e+01 1.2e+01 3.5e+01 4.0e+00 4.9e+01 2.8e+01 2.7e+01\n",
            " 3.6e+01 1.1e+01 2.3e+01 1.3e+01 6.7e-01 4.5e+01 2.4e+01 1.9e+01 4.4e+01\n",
            " 5.6e+01 2.1e+01 4.8e+01 8.3e-01 3.3e-01 3.3e+01 2.2e+01 5.4e+01 4.2e+01\n",
            " 5.5e+01 7.5e-01 5.0e+01 2.6e+01 3.8e+01 3.7e+01 5.3e+01 3.9e+01 4.1e+01\n",
            " 5.8e+01 6.4e+01 2.9e+01 4.7e+01 5.9e+01 6.5e+01 5.1e+01 6.0e+01 4.3e+01\n",
            " 6.2e+01 5.7e+01 4.6e+01 7.0e+01 6.1e+01 9.9e+01 7.5e+01 6.3e+01 6.7e+01\n",
            " 6.9e+01 6.8e+01 6.6e+01 7.2e+01 7.7e+01]\n"
          ]
        }
      ]
    },
    {
      "cell_type": "code",
      "source": [
        "## Imputamos campos vacios\n",
        "\n",
        "df4['TIEMPO_TRABAJO_AÑOS'].fillna(df4['TIEMPO_TRABAJO_AÑOS'].mean(), inplace=True)"
      ],
      "metadata": {
        "id": "Z2x9d2rkkK-Q"
      },
      "execution_count": 385,
      "outputs": []
    },
    {
      "cell_type": "code",
      "source": [
        "valores_unicos = df4['TIEMPO_TRABAJO_AÑOS'].unique()\n",
        "print(valores_unicos)"
      ],
      "metadata": {
        "colab": {
          "base_uri": "https://localhost:8080/"
        },
        "id": "Tq2hs5YrxInb",
        "outputId": "36d835ac-6305-459c-9995-812b14fec7d5"
      },
      "execution_count": 386,
      "outputs": [
        {
          "output_type": "stream",
          "name": "stdout",
          "text": [
            "[1.80000000e+01 2.50000000e-01 1.50000000e+01 4.00000000e+01\n",
            " 9.20000000e-01 8.43973145e+00 1.00000000e+00 8.00000000e-02\n",
            " 4.20000000e-01 1.70000000e-01 2.00000000e+00 3.10000000e+01\n",
            " 5.00000000e+00 8.00000000e+00 1.00000000e+01 3.00000000e+00\n",
            " 3.00000000e+01 1.60000000e+01 9.00000000e+00 5.80000000e-01\n",
            " 2.50000000e+01 3.20000000e+01 6.00000000e+00 2.00000000e+01\n",
            " 1.40000000e+01 5.00000000e-01 5.20000000e+01 1.70000000e+01\n",
            " 7.00000000e+00 3.40000000e+01 1.20000000e+01 3.50000000e+01\n",
            " 4.00000000e+00 4.90000000e+01 2.80000000e+01 2.70000000e+01\n",
            " 3.60000000e+01 1.10000000e+01 2.30000000e+01 1.30000000e+01\n",
            " 6.70000000e-01 4.50000000e+01 2.40000000e+01 1.90000000e+01\n",
            " 4.40000000e+01 5.60000000e+01 2.10000000e+01 4.80000000e+01\n",
            " 8.30000000e-01 3.30000000e-01 3.30000000e+01 2.20000000e+01\n",
            " 5.40000000e+01 4.20000000e+01 5.50000000e+01 7.50000000e-01\n",
            " 5.00000000e+01 2.60000000e+01 3.80000000e+01 3.70000000e+01\n",
            " 5.30000000e+01 3.90000000e+01 4.10000000e+01 5.80000000e+01\n",
            " 6.40000000e+01 2.90000000e+01 4.70000000e+01 5.90000000e+01\n",
            " 6.50000000e+01 5.10000000e+01 6.00000000e+01 4.30000000e+01\n",
            " 6.20000000e+01 5.70000000e+01 4.60000000e+01 7.00000000e+01\n",
            " 6.10000000e+01 9.90000000e+01 7.50000000e+01 6.30000000e+01\n",
            " 6.70000000e+01 6.90000000e+01 6.80000000e+01 6.60000000e+01\n",
            " 7.20000000e+01 7.70000000e+01]\n"
          ]
        }
      ]
    },
    {
      "cell_type": "code",
      "source": [
        "conteo = df4['TIEMPO_TRABAJO_AÑOS'].value_counts()\n",
        "print(conteo)"
      ],
      "metadata": {
        "colab": {
          "base_uri": "https://localhost:8080/"
        },
        "id": "udPiIC5-l606",
        "outputId": "7d666a55-f791-488a-f8e6-ce6065d5b785"
      },
      "execution_count": 387,
      "outputs": [
        {
          "output_type": "stream",
          "name": "stdout",
          "text": [
            "8.44     22421\n",
            "0.08      8808\n",
            "1.00      6759\n",
            "2.00      5119\n",
            "3.00      3455\n",
            "         ...  \n",
            "68.00        3\n",
            "69.00        2\n",
            "75.00        1\n",
            "72.00        1\n",
            "77.00        1\n",
            "Name: TIEMPO_TRABAJO_AÑOS, Length: 86, dtype: int64\n"
          ]
        }
      ]
    },
    {
      "cell_type": "code",
      "source": [
        "empty_strings_in_column = (df4['TIEMPO_TRABAJO_AÑOS'] == \"\").sum()\n",
        "print(f\"Empty string values in TIEMPO_TRABAJO_AÑOS': {empty_strings_in_column}\")\n",
        "\n",
        "nan_in_column = df4['TIEMPO_TRABAJO_AÑOS'].isna().sum()\n",
        "print(f\"NaN values in TIEMPO_TRABAJO_AÑOS': {nan_in_column}\")"
      ],
      "metadata": {
        "colab": {
          "base_uri": "https://localhost:8080/"
        },
        "id": "cSEbb8MCkaLO",
        "outputId": "50f3e197-63e3-4f8a-d650-12854e5cc039"
      },
      "execution_count": 388,
      "outputs": [
        {
          "output_type": "stream",
          "name": "stdout",
          "text": [
            "Empty string values in TIEMPO_TRABAJO_AÑOS': 0\n",
            "NaN values in TIEMPO_TRABAJO_AÑOS': 0\n"
          ]
        }
      ]
    },
    {
      "cell_type": "markdown",
      "source": [
        "# **PARA** **P514**"
      ],
      "metadata": {
        "id": "fB_b1jKMpYmr"
      }
    },
    {
      "cell_type": "code",
      "source": [
        "## Cambiamos el nombre de la columna\n",
        "df4.rename(columns={'P514': 'TUVO_OTRO_TRABAJO'}, inplace=True)"
      ],
      "metadata": {
        "id": "ND4SnJmNppv2"
      },
      "execution_count": 389,
      "outputs": []
    },
    {
      "cell_type": "code",
      "source": [
        "print(df4['TUVO_OTRO_TRABAJO'].dtype)"
      ],
      "metadata": {
        "colab": {
          "base_uri": "https://localhost:8080/"
        },
        "id": "XSYG1pT1pp51",
        "outputId": "a1f8f8ea-59d5-4603-8305-63e4fec2181f"
      },
      "execution_count": 390,
      "outputs": [
        {
          "output_type": "stream",
          "name": "stdout",
          "text": [
            "object\n"
          ]
        }
      ]
    },
    {
      "cell_type": "code",
      "source": [
        "valores_unicos = df4['TUVO_OTRO_TRABAJO'].unique()\n",
        "print(valores_unicos)"
      ],
      "metadata": {
        "colab": {
          "base_uri": "https://localhost:8080/"
        },
        "id": "RLB029mUpp-S",
        "outputId": "94357d47-09b9-4120-c0bc-b12c429145ac"
      },
      "execution_count": 391,
      "outputs": [
        {
          "output_type": "stream",
          "name": "stdout",
          "text": [
            "['2' '1' ' ']\n"
          ]
        }
      ]
    },
    {
      "cell_type": "code",
      "source": [
        "conteo = df4['TUVO_OTRO_TRABAJO'].value_counts()\n",
        "print(conteo)"
      ],
      "metadata": {
        "colab": {
          "base_uri": "https://localhost:8080/"
        },
        "id": "rtlkarYTpqEg",
        "outputId": "36be76e3-849f-4b91-fdb8-230d382535dc"
      },
      "execution_count": 392,
      "outputs": [
        {
          "output_type": "stream",
          "name": "stdout",
          "text": [
            "2    52032\n",
            "     22421\n",
            "1    13208\n",
            "Name: TUVO_OTRO_TRABAJO, dtype: int64\n"
          ]
        }
      ]
    },
    {
      "cell_type": "code",
      "source": [
        "## Reemplazamos por valores categóricos\n",
        "\n",
        "mapeo_str12 = {\n",
        "    '1': \"Si\",\n",
        "    '2': \"No\",\n",
        "    ' ': np.nan\n",
        "}\n",
        "\n",
        "df4['TUVO_OTRO_TRABAJO'] = df4['TUVO_OTRO_TRABAJO'].map(mapeo_str12)"
      ],
      "metadata": {
        "id": "h_iI-FSSrRTh"
      },
      "execution_count": 393,
      "outputs": []
    },
    {
      "cell_type": "code",
      "source": [
        "valores_unicos = df4['TUVO_OTRO_TRABAJO'].unique()\n",
        "print(valores_unicos)"
      ],
      "metadata": {
        "colab": {
          "base_uri": "https://localhost:8080/"
        },
        "id": "HUdBeQVrsKaj",
        "outputId": "765f2a2b-92f1-453b-d5a9-54a609e08c01"
      },
      "execution_count": 394,
      "outputs": [
        {
          "output_type": "stream",
          "name": "stdout",
          "text": [
            "['No' 'Si' nan]\n"
          ]
        }
      ]
    },
    {
      "cell_type": "code",
      "source": [
        "conteo = df4['TUVO_OTRO_TRABAJO'].value_counts()\n",
        "print(conteo)"
      ],
      "metadata": {
        "colab": {
          "base_uri": "https://localhost:8080/"
        },
        "id": "qheUxgMOrove",
        "outputId": "d1b62976-74e7-4053-d382-20651a66c5b5"
      },
      "execution_count": 395,
      "outputs": [
        {
          "output_type": "stream",
          "name": "stdout",
          "text": [
            "No    52032\n",
            "Si    13208\n",
            "Name: TUVO_OTRO_TRABAJO, dtype: int64\n"
          ]
        }
      ]
    },
    {
      "cell_type": "code",
      "source": [
        "# Identificar la cantidad de valores NaN en la columna\n",
        "num_nans = df4['TUVO_OTRO_TRABAJO'].isna().sum()\n",
        "\n",
        "# Rellenar los valores NaN con \"Sí\" o \"No\" aleatoriamente\n",
        "df4.loc[df4['TUVO_OTRO_TRABAJO'].isna(), 'TUVO_OTRO_TRABAJO'] = np.random.choice(['Si', 'No'], size=num_nans)"
      ],
      "metadata": {
        "id": "decLeiQxsIyx"
      },
      "execution_count": 396,
      "outputs": []
    },
    {
      "cell_type": "code",
      "source": [
        "conteo = df4['TUVO_OTRO_TRABAJO'].value_counts()\n",
        "print(conteo)"
      ],
      "metadata": {
        "colab": {
          "base_uri": "https://localhost:8080/"
        },
        "id": "Yn_fJyhqsVqa",
        "outputId": "ccfda3c7-16cc-42f8-9aa4-f8b0e4492510"
      },
      "execution_count": 397,
      "outputs": [
        {
          "output_type": "stream",
          "name": "stdout",
          "text": [
            "No    63163\n",
            "Si    24498\n",
            "Name: TUVO_OTRO_TRABAJO, dtype: int64\n"
          ]
        }
      ]
    },
    {
      "cell_type": "markdown",
      "source": [
        "# **PARA** **P521D**"
      ],
      "metadata": {
        "id": "ymYPLpk9UqrG"
      }
    },
    {
      "cell_type": "code",
      "source": [
        "## Cambiamos el nombre de la columna\n",
        "df4.rename(columns={'P521D': 'BUSCA_TRABAJO'}, inplace=True)"
      ],
      "metadata": {
        "id": "Bk3xiaq0udUq"
      },
      "execution_count": 398,
      "outputs": []
    },
    {
      "cell_type": "code",
      "source": [
        "valores_unicos = df4['BUSCA_TRABAJO'].unique()\n",
        "print(valores_unicos)"
      ],
      "metadata": {
        "colab": {
          "base_uri": "https://localhost:8080/"
        },
        "id": "gj-M6rs-U0k-",
        "outputId": "cba08d5d-7852-4e4d-c6bb-315e158212b2"
      },
      "execution_count": 399,
      "outputs": [
        {
          "output_type": "stream",
          "name": "stdout",
          "text": [
            "[' ' '1' '4' '5' '2' '6' '3']\n"
          ]
        }
      ]
    },
    {
      "cell_type": "code",
      "source": [
        "conteo = df4['BUSCA_TRABAJO'].value_counts()\n",
        "print(conteo)"
      ],
      "metadata": {
        "colab": {
          "base_uri": "https://localhost:8080/"
        },
        "id": "r__BPz5Ou_fu",
        "outputId": "68e87123-2b39-4dfa-abab-f68dd4fcb502"
      },
      "execution_count": 400,
      "outputs": [
        {
          "output_type": "stream",
          "name": "stdout",
          "text": [
            "     84038\n",
            "1     2485\n",
            "4      456\n",
            "5      385\n",
            "3      154\n",
            "2       93\n",
            "6       50\n",
            "Name: BUSCA_TRABAJO, dtype: int64\n"
          ]
        }
      ]
    },
    {
      "cell_type": "code",
      "source": [
        "mapeo_str5 = {\n",
        "    '1': \"Porque desea un trabajo mejor pagado (mejor ingreso) sin trabajar más horas\",\n",
        "    '2': \"Por temor o certeza de perder el trabajo actual\",\n",
        "    '3': \"Porque desea un trabajo no riesgoso (seguro) y que no afecte su salud\",\n",
        "    '4': \"Porque busca trabajar más (en una segunda actividad o en un empleo con más horas)\",\n",
        "    '5': \"Porque desea trabajar en la carrera u oficio aprendido\",\n",
        "    '6': \"Otro\",\n",
        "    ' ': \"No busco otro trabajo\"\n",
        "}\n",
        "\n",
        "\n",
        "df4['BUSCA_TRABAJO'] = df4['BUSCA_TRABAJO'].map(mapeo_str5)"
      ],
      "metadata": {
        "id": "Io4LS0xTVqXp"
      },
      "execution_count": 401,
      "outputs": []
    },
    {
      "cell_type": "code",
      "source": [
        "valores_unicos = df4['BUSCA_TRABAJO'].unique()\n",
        "print(valores_unicos)"
      ],
      "metadata": {
        "colab": {
          "base_uri": "https://localhost:8080/"
        },
        "id": "ElqNH9YXWUVu",
        "outputId": "9f717f4e-b2c4-44b7-9035-4b56ae3e09c9"
      },
      "execution_count": 402,
      "outputs": [
        {
          "output_type": "stream",
          "name": "stdout",
          "text": [
            "['No busco otro trabajo'\n",
            " 'Porque desea un trabajo mejor pagado (mejor ingreso) sin trabajar más horas'\n",
            " 'Porque busca trabajar más (en una segunda actividad o en un empleo con más horas)'\n",
            " 'Porque desea trabajar en la carrera u oficio aprendido'\n",
            " 'Por temor o certeza de perder el trabajo actual' 'Otro'\n",
            " 'Porque desea un trabajo no riesgoso (seguro) y que no afecte su salud']\n"
          ]
        }
      ]
    },
    {
      "cell_type": "code",
      "source": [
        "conteo = df4['BUSCA_TRABAJO'].value_counts()\n",
        "print(conteo)"
      ],
      "metadata": {
        "colab": {
          "base_uri": "https://localhost:8080/"
        },
        "id": "akPaUzFUvjdM",
        "outputId": "82c2b504-1a7e-400f-dcc6-af48c03a45dd"
      },
      "execution_count": 403,
      "outputs": [
        {
          "output_type": "stream",
          "name": "stdout",
          "text": [
            "No busco otro trabajo                                                                84038\n",
            "Porque desea un trabajo mejor pagado (mejor ingreso) sin trabajar más horas           2485\n",
            "Porque busca trabajar más (en una segunda actividad o en un empleo con más horas)      456\n",
            "Porque desea trabajar en la carrera u oficio aprendido                                 385\n",
            "Porque desea un trabajo no riesgoso (seguro) y que no afecte su salud                  154\n",
            "Por temor o certeza de perder el trabajo actual                                         93\n",
            "Otro                                                                                    50\n",
            "Name: BUSCA_TRABAJO, dtype: int64\n"
          ]
        }
      ]
    },
    {
      "cell_type": "code",
      "source": [
        "empty_strings_in_column = (df4['BUSCA_TRABAJO'] == \"\").sum()\n",
        "print(f\"Empty string values in BUSCA_TRABAJO: {empty_strings_in_column}\")\n",
        "\n",
        "nan_in_column = df4['BUSCA_TRABAJO'].isna().sum()\n",
        "print(f\"NaN values in BUSCA_TRABAJO: {nan_in_column}\")"
      ],
      "metadata": {
        "colab": {
          "base_uri": "https://localhost:8080/"
        },
        "id": "89Y7xZ-lvpjZ",
        "outputId": "3e91e807-6516-48e4-97ee-8ddbae1c3117"
      },
      "execution_count": 404,
      "outputs": [
        {
          "output_type": "stream",
          "name": "stdout",
          "text": [
            "Empty string values in BUSCA_TRABAJO: 0\n",
            "NaN values in BUSCA_TRABAJO: 0\n"
          ]
        }
      ]
    },
    {
      "cell_type": "markdown",
      "source": [
        "# **PARA** **522C**"
      ],
      "metadata": {
        "id": "wXjICxZSWo9Z"
      }
    },
    {
      "cell_type": "code",
      "source": [
        "## Cambiamos el nombre de la columna\n",
        "df4.rename(columns={'P522C': 'FRECUENCIA_PAGO'}, inplace=True)"
      ],
      "metadata": {
        "id": "b17GWWJN5r9b"
      },
      "execution_count": 405,
      "outputs": []
    },
    {
      "cell_type": "code",
      "source": [
        "valores_unicos = df4['FRECUENCIA_PAGO'].unique()\n",
        "print(valores_unicos)"
      ],
      "metadata": {
        "colab": {
          "base_uri": "https://localhost:8080/"
        },
        "id": "v2N4747mWtZe",
        "outputId": "1c53073a-dbd9-43fb-8c2e-c0e2ae5ae96c"
      },
      "execution_count": 406,
      "outputs": [
        {
          "output_type": "stream",
          "name": "stdout",
          "text": [
            "['1' ' ' '5' '3' '2' '6' '4']\n"
          ]
        }
      ]
    },
    {
      "cell_type": "code",
      "source": [
        "conteo = df4['FRECUENCIA_PAGO'].value_counts()\n",
        "print(conteo)"
      ],
      "metadata": {
        "colab": {
          "base_uri": "https://localhost:8080/"
        },
        "id": "xTHyzFuY58qB",
        "outputId": "7d72378d-8a25-46e8-99b0-544a94ed1726"
      },
      "execution_count": 407,
      "outputs": [
        {
          "output_type": "stream",
          "name": "stdout",
          "text": [
            "     74980\n",
            "1    11698\n",
            "2      514\n",
            "5      332\n",
            "3      107\n",
            "6       25\n",
            "4        5\n",
            "Name: FRECUENCIA_PAGO, dtype: int64\n"
          ]
        }
      ]
    },
    {
      "cell_type": "code",
      "source": [
        "mapeo_str6 = {\n",
        "    '1': \"¿Pago mensual completo?\",\n",
        "    '2': \"¿Pago parcial?\",\n",
        "    '3': \"¿Aún no le pagan, pero le van a pagar?\",\n",
        "    '4': \"¿No sabe si le van a pagar?\",\n",
        "    '5': \"¿Otro?\",\n",
        "    '6': \"No recibió pago\"\n",
        "\n",
        "}\n",
        "\n",
        "\n",
        "df4['FRECUENCIA_PAGO'] = df4['FRECUENCIA_PAGO'].map(mapeo_str6)"
      ],
      "metadata": {
        "id": "gVd7-ymXWxrZ"
      },
      "execution_count": 408,
      "outputs": []
    },
    {
      "cell_type": "code",
      "source": [
        "valores_unicos = df4['FRECUENCIA_PAGO'].unique()\n",
        "print(valores_unicos)"
      ],
      "metadata": {
        "colab": {
          "base_uri": "https://localhost:8080/"
        },
        "id": "lKo4O37dXZ_5",
        "outputId": "63971f61-651c-46f3-d1d5-ca3cba037f8c"
      },
      "execution_count": 409,
      "outputs": [
        {
          "output_type": "stream",
          "name": "stdout",
          "text": [
            "['¿Pago mensual completo?' nan '¿Otro?'\n",
            " '¿Aún no le pagan, pero le van a pagar?' '¿Pago parcial?'\n",
            " 'No recibió pago' '¿No sabe si le van a pagar?']\n"
          ]
        }
      ]
    },
    {
      "cell_type": "code",
      "source": [
        "conteo = df4['FRECUENCIA_PAGO'].value_counts()\n",
        "print(conteo)"
      ],
      "metadata": {
        "colab": {
          "base_uri": "https://localhost:8080/"
        },
        "id": "o1JBH9RA6c7R",
        "outputId": "14fb2a62-b0f3-4626-e53c-c53168e9a315"
      },
      "execution_count": 410,
      "outputs": [
        {
          "output_type": "stream",
          "name": "stdout",
          "text": [
            "¿Pago mensual completo?                   11698\n",
            "¿Pago parcial?                              514\n",
            "¿Otro?                                      332\n",
            "¿Aún no le pagan, pero le van a pagar?      107\n",
            "No recibió pago                              25\n",
            "¿No sabe si le van a pagar?                   5\n",
            "Name: FRECUENCIA_PAGO, dtype: int64\n"
          ]
        }
      ]
    },
    {
      "cell_type": "code",
      "source": [
        "# Identificar la cantidad de valores NaN en la columna\n",
        "num_nans = df4['FRECUENCIA_PAGO'].isna().sum()\n",
        "\n",
        "# Rellenar los valores NaN con \"Sí\" o \"No\" aleatoriamente\n",
        "df4.loc[df4['FRECUENCIA_PAGO'].isna(), 'FRECUENCIA_PAGO'] = np.random.choice([\n",
        "    '¿Pago mensual completo?',\n",
        "    '¿Pago parcial?',\n",
        "    '¿Aún no le pagan, pero le van a pagar?',\n",
        "    '¿No sabe si le van a pagar?',\n",
        "    '¿Otro?',\n",
        "    'No recibió pago'\n",
        "    ], size=num_nans)"
      ],
      "metadata": {
        "id": "YxDAcKAx6fwe"
      },
      "execution_count": 411,
      "outputs": []
    },
    {
      "cell_type": "code",
      "source": [
        "conteo = df4['FRECUENCIA_PAGO'].value_counts()\n",
        "print(conteo)"
      ],
      "metadata": {
        "colab": {
          "base_uri": "https://localhost:8080/"
        },
        "id": "x57M5BHX7IGh",
        "outputId": "687ff3a5-fcaa-4269-903d-447a3c882105"
      },
      "execution_count": 412,
      "outputs": [
        {
          "output_type": "stream",
          "name": "stdout",
          "text": [
            "¿Pago mensual completo?                   24416\n",
            "¿Pago parcial?                            13015\n",
            "¿Otro?                                    12854\n",
            "¿No sabe si le van a pagar?               12527\n",
            "No recibió pago                           12485\n",
            "¿Aún no le pagan, pero le van a pagar?    12364\n",
            "Name: FRECUENCIA_PAGO, dtype: int64\n"
          ]
        }
      ]
    },
    {
      "cell_type": "markdown",
      "source": [
        "# **PARA** **P530A**"
      ],
      "metadata": {
        "id": "2g2-egkV7ZFc"
      }
    },
    {
      "cell_type": "code",
      "source": [
        "## Cambiamos el nombre de la columna\n",
        "df4.rename(columns={'P530A': 'GANANCIA_NETA'}, inplace=True)"
      ],
      "metadata": {
        "id": "dRhmZ6cw7cwJ"
      },
      "execution_count": 413,
      "outputs": []
    },
    {
      "cell_type": "code",
      "source": [
        "print(df4['GANANCIA_NETA'].dtype)"
      ],
      "metadata": {
        "colab": {
          "base_uri": "https://localhost:8080/"
        },
        "id": "SyCVoM0t7ld-",
        "outputId": "4ebe8bf8-65b0-47c9-d01b-a8b592fd443a"
      },
      "execution_count": 414,
      "outputs": [
        {
          "output_type": "stream",
          "name": "stdout",
          "text": [
            "object\n"
          ]
        }
      ]
    },
    {
      "cell_type": "code",
      "source": [
        "valores_unicos = df4['GANANCIA_NETA'].unique()\n",
        "print(valores_unicos)"
      ],
      "metadata": {
        "colab": {
          "base_uri": "https://localhost:8080/"
        },
        "id": "4tncIHea7vF8",
        "outputId": "f6f9fdd5-8278-476e-d309-18f53187aeb6"
      },
      "execution_count": 415,
      "outputs": [
        {
          "output_type": "stream",
          "name": "stdout",
          "text": [
            "[' ' '1859' '250' ... '4248' '10028' '2106']\n"
          ]
        }
      ]
    },
    {
      "cell_type": "code",
      "source": [
        "# 1. Eliminar caracteres no deseados.\n",
        "df4['GANANCIA_NETA'] = df4['GANANCIA_NETA'].str.replace('$', '', regex=False)\n",
        "\n",
        "# 2. Reemplazar separador de miles (si aplica).\n",
        "df4['GANANCIA_NETA'] = df4['GANANCIA_NETA'].str.replace(',', '', regex=False)\n",
        "\n",
        "import numpy as np\n",
        "\n",
        "# Reemplazar espacios en blanco por NaN\n",
        "df4['GANANCIA_NETA'].replace(' ', np.nan, inplace=True)\n",
        "\n",
        "# 3. Convertir la columna a tipo float.\n",
        "df4['GANANCIA_NETA'] = df4['GANANCIA_NETA'].astype(float)\n",
        "\n",
        "df4['GANANCIA_NETA'] = df4['GANANCIA_NETA'].round(2)\n"
      ],
      "metadata": {
        "id": "fRmz1CDQ8j_o"
      },
      "execution_count": 416,
      "outputs": []
    },
    {
      "cell_type": "code",
      "source": [
        "valores_unicos = df4['GANANCIA_NETA'].unique()\n",
        "print(valores_unicos)"
      ],
      "metadata": {
        "colab": {
          "base_uri": "https://localhost:8080/"
        },
        "id": "EdijNL5s9D6n",
        "outputId": "58410db3-00c2-4c88-8ac7-f987e97cccc2"
      },
      "execution_count": 417,
      "outputs": [
        {
          "output_type": "stream",
          "name": "stdout",
          "text": [
            "[   nan  1859.   250. ...  4248. 10028.  2106.]\n"
          ]
        }
      ]
    },
    {
      "cell_type": "code",
      "source": [
        "conteo = df4['GANANCIA_NETA'].value_counts()\n",
        "print(conteo)"
      ],
      "metadata": {
        "colab": {
          "base_uri": "https://localhost:8080/"
        },
        "id": "R9c1-8qp93gB",
        "outputId": "dad4e862-905d-4600-dc3f-8b148e4a513c"
      },
      "execution_count": 418,
      "outputs": [
        {
          "output_type": "stream",
          "name": "stdout",
          "text": [
            "999999.00    3998\n",
            "1000.00       159\n",
            "200.00        142\n",
            "1.00          127\n",
            "50.00         127\n",
            "             ... \n",
            "3473.00         1\n",
            "3848.00         1\n",
            "3567.00         1\n",
            "3345.00         1\n",
            "2106.00         1\n",
            "Name: GANANCIA_NETA, Length: 3117, dtype: int64\n"
          ]
        }
      ]
    },
    {
      "cell_type": "code",
      "source": [
        "empty_strings_in_column = (df4['GANANCIA_NETA'] == \"\").sum()\n",
        "print(f\"Empty string values in GANANCIA_NETA: {empty_strings_in_column}\")\n",
        "\n",
        "nan_in_column = df4['GANANCIA_NETA'].isna().sum()\n",
        "print(f\"NaN values in GANANCIA_NETA: {nan_in_column}\")"
      ],
      "metadata": {
        "colab": {
          "base_uri": "https://localhost:8080/"
        },
        "id": "Bkszhi9E-bTC",
        "outputId": "3c4f23d7-1cb6-4e14-b0b0-c4d73768b624"
      },
      "execution_count": 419,
      "outputs": [
        {
          "output_type": "stream",
          "name": "stdout",
          "text": [
            "Empty string values in GANANCIA_NETA: 0\n",
            "NaN values in GANANCIA_NETA: 60199\n"
          ]
        }
      ]
    },
    {
      "cell_type": "code",
      "source": [
        "## Imputamos campos vacios\n",
        "\n",
        "df4['GANANCIA_NETA'].fillna(df4['GANANCIA_NETA'].mean(), inplace=True)\n",
        "##df4['TRABAJÓ_SEM_ANTERIOR'] = df4['TRABAJÓ_SEM_ANTERIOR'].replace(\"\", df4['TRABAJÓ_SEM_ANTERIOR'].mode().iloc[0])"
      ],
      "metadata": {
        "id": "8_bNgoJQ-HDO"
      },
      "execution_count": 420,
      "outputs": []
    },
    {
      "cell_type": "code",
      "source": [
        "conteo = df4['GANANCIA_NETA'].value_counts()\n",
        "print(conteo)"
      ],
      "metadata": {
        "colab": {
          "base_uri": "https://localhost:8080/"
        },
        "id": "OJt5l88m-XnI",
        "outputId": "ba397ade-f956-44bf-eb87-c45919b3f008"
      },
      "execution_count": 421,
      "outputs": [
        {
          "output_type": "stream",
          "name": "stdout",
          "text": [
            "146314.82    60199\n",
            "999999.00     3998\n",
            "1000.00        159\n",
            "200.00         142\n",
            "50.00          127\n",
            "             ...  \n",
            "1837.00          1\n",
            "3900.00          1\n",
            "2234.00          1\n",
            "4353.00          1\n",
            "2106.00          1\n",
            "Name: GANANCIA_NETA, Length: 3118, dtype: int64\n"
          ]
        }
      ]
    },
    {
      "cell_type": "code",
      "source": [
        "nan_in_column = df4['GANANCIA_NETA'].isna().sum()\n",
        "print(f\"NaN values in GANANCIA_NETA: {nan_in_column}\")"
      ],
      "metadata": {
        "colab": {
          "base_uri": "https://localhost:8080/"
        },
        "id": "kj_JotXO-9u_",
        "outputId": "bc27104c-bef8-40b2-8165-75a342c9f0c6"
      },
      "execution_count": 422,
      "outputs": [
        {
          "output_type": "stream",
          "name": "stdout",
          "text": [
            "NaN values in GANANCIA_NETA: 0\n"
          ]
        }
      ]
    },
    {
      "cell_type": "markdown",
      "source": [
        "# **PARA** **P536**"
      ],
      "metadata": {
        "id": "h3IsnCXf_E4B"
      }
    },
    {
      "cell_type": "code",
      "source": [
        "## Cambiamos el nombre de la columna\n",
        "df4.rename(columns={'P536': 'GASTO_EN_ PRODUCTOS'}, inplace=True)"
      ],
      "metadata": {
        "id": "ZoxuBt02_Jvp"
      },
      "execution_count": 423,
      "outputs": []
    },
    {
      "cell_type": "code",
      "source": [
        "print(df4['GASTO_EN_ PRODUCTOS'].dtype)"
      ],
      "metadata": {
        "colab": {
          "base_uri": "https://localhost:8080/"
        },
        "id": "zE38uka0_J6F",
        "outputId": "2c07c574-eaea-48b3-959c-e5ae0f34d1e7"
      },
      "execution_count": 424,
      "outputs": [
        {
          "output_type": "stream",
          "name": "stdout",
          "text": [
            "object\n"
          ]
        }
      ]
    },
    {
      "cell_type": "code",
      "source": [
        "valores_unicos = df4['GASTO_EN_ PRODUCTOS'].unique()\n",
        "print(valores_unicos)"
      ],
      "metadata": {
        "colab": {
          "base_uri": "https://localhost:8080/"
        },
        "id": "DUVH0rfX_KEd",
        "outputId": "455e7fe9-a663-468e-adf2-52ae54a41f79"
      },
      "execution_count": 425,
      "outputs": [
        {
          "output_type": "stream",
          "name": "stdout",
          "text": [
            "[' ' '30' '20' '22' '13' '402' '52' '61' '166' '139' '235' '346' '38'\n",
            " '197' '352' '69' '228' '350' '10' '43' '85' '110' '463' '306' '326' '257'\n",
            " '533' '208' '270' '128' '237' '379' '321' '687' '142' '91' '274' '48'\n",
            " '188' '35' '224' '132' '999999' '95' '192' '74' '109' '209' '92' '137'\n",
            " '195' '246' '87' '143' '901' '72' '7' '322' '123' '125' '73' '310' '156'\n",
            " '114' '303' '130' '158' '44' '207' '104' '4' '244' '147' '16' '178' '301'\n",
            " '360' '26' '126' '113' '171' '384' '198' '530' '333' '400' '190' '285'\n",
            " '330' '742' '251' '50' '65' '11' '56' '60' '500' '1' '308' '135' '206'\n",
            " '83' '46' '5' '1464' '149' '468' '200' '33' '2' '86' '456' '250' '138'\n",
            " '415' '140' '366' '275' '339' '505' '82' '231' '266' '185' '215' '264'\n",
            " '112' '706' '336' '328' '449' '242' '508' '446' '541' '702' '523' '391'\n",
            " '371' '165' '122' '268' '81' '57' '29' '8' '474' '276' '486' '259' '316'\n",
            " '458' '144' '356' '176' '90' '6' '84' '103' '660' '191' '169' '689' '829'\n",
            " '632' '220' '70' '514' '309' '548' '62' '367' '152' '115' '184' '153'\n",
            " '213' '174' '77' '243' '603' '183' '129' '131' '107' '98' '283' '299'\n",
            " '241' '225' '161' '47' '189' '238' '55' '27' '157' '430' '284' '170' '58'\n",
            " '136' '222' '40' '204' '435' '12' '51' '319' '100' '281' '94' '17' '300'\n",
            " '364' '167' '187' '31' '253' '101' '78' '212' '267' '327' '173' '416'\n",
            " '650' '24' '758' '1083' '1935' '163' '45' '3' '1299' '1100' '335' '440'\n",
            " '9' '311' '404' '256' '1305' '14' '28' '42' '97' '293' '49' '34' '19'\n",
            " '378' '150' '75' '227' '254' '186' '219' '134' '217' '39' '41' '334'\n",
            " '105' '239' '71' '181' '93' '160' '79' '89' '386' '265' '233' '25' '108'\n",
            " '433' '260' '201' '331' '106' '196' '211' '148' '146' '348' '349' '387'\n",
            " '411' '36' '68' '18' '127' '21' '203' '230' '120' '236' '154' '388' '76'\n",
            " '298' '111' '476' '66' '63' '15' '88' '37' '32' '159' '390' '511' '290'\n",
            " '520' '280' '684' '182' '54' '168' '467' '406' '133' '99' '124' '263'\n",
            " '714' '314' '423' '389' '23' '175' '216' '116' '96' '775' '240' '323'\n",
            " '441' '141' '226' '294' '368' '118' '262' '273' '162' '53' '145' '210'\n",
            " '205' '202' '155' '119' '909' '1050' '325' '247' '353' '289' '151' '457'\n",
            " '232' '121' '193' '565' '614' '180' '117' '234' '636' '355' '709' '361'\n",
            " '613' '693' '1516' '1212' '1321' '1018' '606' '875' '444' '525' '64'\n",
            " '453' '179' '420' '586' '582' '804' '295' '1667' '564' '1247' '485' '80'\n",
            " '673' '258' '67' '288' '373' '341' '664' '252' '269' '312' '1039' '1250'\n",
            " '857' '675' '625' '866' '324' '750' '1000' '297' '392' '550' '794' '532'\n",
            " '410' '443' '498' '59' '1091' '722' '223' '454' '546' '480' '624' '888'\n",
            " '272' '199' '218' '1500' '591' '589' '358' '307' '302' '424' '292' '825'\n",
            " '800' '431' '471' '338' '519' '214' '164' '940' '296' '1374' '102' '277'\n",
            " '663' '527' '332' '344' '315' '543' '451' '261' '575' '318' '671' '2800'\n",
            " '862' '1125' '408' '177' '569' '504' '715' '229' '399' '398' '375' '455'\n",
            " '600' '221' '953' '359' '445' '526' '407' '570' '403' '291' '279' '482'\n",
            " '637' '497' '640' '549' '412' '644' '997' '313' '464' '700' '470' '447'\n",
            " '374' '448' '426' '287' '978' '286' '787' '792' '351' '425' '342' '347'\n",
            " '317' '354' '494' '377' '345' '282' '626' '1273' '450' '849' '2059' '477'\n",
            " '248' '394' '694' '418' '405' '488' '172' '553' '422' '516' '363' '343'\n",
            " '383' '1350' '305' '413' '255' '718' '370' '461' '397' '619' '1875' '620'\n",
            " '717' '521' '623' '691' '376' '568' '1167' '795' '1194' '490' '524' '515'\n",
            " '865' '2125' '1335' '1080' '578' '1637' '396' '935' '576' '438' '492'\n",
            " '320' '573' '1106' '598' '271' '465' '380' '428' '382' '439' '672' '840'\n",
            " '340' '462' '475' '538' '395' '278' '563' '680' '547' '574' '419' '304'\n",
            " '833' '910' '648' '577' '931' '512' '329' '827' '740' '707' '337' '878'\n",
            " '887' '602' '592' '897' '976' '831' '245' '369' '820' '630' '509' '883'\n",
            " '1716' '1133' '605' '365' '479' '741' '2185' '566' '609' '657' '539'\n",
            " '432' '701' '442' '491' '713' '579' '594' '401' '719' '506' '385' '194'\n",
            " '507' '877' '429' '249' '923' '2352' '1172' '1547' '917' '649' '1023'\n",
            " '559' '819' '601' '535' '1118' '517' '913' '427' '1027' '658' '1003'\n",
            " '814' '381' '596' '812' '977' '1139' '556' '696' '459' '499' '1351' '999'\n",
            " '503' '478' '522' '542' '487' '434' '973' '362' '779' '761' '1086' '501'\n",
            " '409' '808' '654' '571' '510' '1143' '1663' '1949' '900' '801' '678'\n",
            " '469' '674' '773' '1800' '647' '502' '737' '788' '414' '372' '643' '357'\n",
            " '585' '745' '452' '554' '518' '735' '1347' '749' '748' '809' '534' '659'\n",
            " '2182' '629' '1184' '393' '767' '955' '495' '1475' '688' '924' '437'\n",
            " '950' '1072' '798' '599' '528' '727' '1400' '1061' '496' '662' '848'\n",
            " '845' '874' '661' '683' '545' '638' '466' '929' '1093' '1043' '1529'\n",
            " '952' '513' '922' '1105' '628' '1383' '918' '2570' '914' '493' '1510'\n",
            " '588' '1235' '529' '1038' '790' '3637' '421' '867' '1790' '762' '823'\n",
            " '743' '1002' '938' '489' '1200' '587' '2022' '720' '610' '1793' '864'\n",
            " '1256' '880' '631' '1313' '1157' '1285' '537' '1830' '756' '734' '736'\n",
            " '912' '703' '970' '1697' '850' '607' '1650' '853' '1600' '821' '1638'\n",
            " '1414' '1103' '436' '1217' '1546' '872' '669' '540' '721' '1136' '1211'\n",
            " '1436' '615' '634' '1081' '417' '481' '1398' '484' '1030' '665' '930'\n",
            " '670' '729' '2110' '828' '822' '925' '651' '472' '987' '3000' '752'\n",
            " '1243' '555' '768' '975' '1169']\n"
          ]
        }
      ]
    },
    {
      "cell_type": "code",
      "source": [
        "# 1. Eliminar caracteres no deseados.\n",
        "df4['GASTO_EN_ PRODUCTOS'] = df4['GASTO_EN_ PRODUCTOS'].str.replace('$', '', regex=False)\n",
        "\n",
        "# 2. Reemplazar separador de miles (si aplica).\n",
        "df4['GASTO_EN_ PRODUCTOS'] = df4['GASTO_EN_ PRODUCTOS'].str.replace(',', '', regex=False)\n",
        "\n",
        "import numpy as np\n",
        "\n",
        "# Reemplazar espacios en blanco por NaN\n",
        "df4['GASTO_EN_ PRODUCTOS'].replace(' ', np.nan, inplace=True)\n",
        "\n",
        "# 3. Convertir la columna a tipo float.\n",
        "df4['GASTO_EN_ PRODUCTOS'] = df4['GASTO_EN_ PRODUCTOS'].astype(float)\n",
        "\n",
        "df4['GASTO_EN_ PRODUCTOS'] = df4['GASTO_EN_ PRODUCTOS'].round(2)"
      ],
      "metadata": {
        "id": "fmS_X4lp_6P2"
      },
      "execution_count": 426,
      "outputs": []
    },
    {
      "cell_type": "code",
      "source": [
        "valores_unicos = df4['GASTO_EN_ PRODUCTOS'].unique()\n",
        "print(valores_unicos)"
      ],
      "metadata": {
        "colab": {
          "base_uri": "https://localhost:8080/"
        },
        "id": "ZWfmxXO7_6Zy",
        "outputId": "9829e283-efa0-4590-ece8-4828279ca2fc"
      },
      "execution_count": 427,
      "outputs": [
        {
          "output_type": "stream",
          "name": "stdout",
          "text": [
            "[        nan 3.00000e+01 2.00000e+01 2.20000e+01 1.30000e+01 4.02000e+02\n",
            " 5.20000e+01 6.10000e+01 1.66000e+02 1.39000e+02 2.35000e+02 3.46000e+02\n",
            " 3.80000e+01 1.97000e+02 3.52000e+02 6.90000e+01 2.28000e+02 3.50000e+02\n",
            " 1.00000e+01 4.30000e+01 8.50000e+01 1.10000e+02 4.63000e+02 3.06000e+02\n",
            " 3.26000e+02 2.57000e+02 5.33000e+02 2.08000e+02 2.70000e+02 1.28000e+02\n",
            " 2.37000e+02 3.79000e+02 3.21000e+02 6.87000e+02 1.42000e+02 9.10000e+01\n",
            " 2.74000e+02 4.80000e+01 1.88000e+02 3.50000e+01 2.24000e+02 1.32000e+02\n",
            " 9.99999e+05 9.50000e+01 1.92000e+02 7.40000e+01 1.09000e+02 2.09000e+02\n",
            " 9.20000e+01 1.37000e+02 1.95000e+02 2.46000e+02 8.70000e+01 1.43000e+02\n",
            " 9.01000e+02 7.20000e+01 7.00000e+00 3.22000e+02 1.23000e+02 1.25000e+02\n",
            " 7.30000e+01 3.10000e+02 1.56000e+02 1.14000e+02 3.03000e+02 1.30000e+02\n",
            " 1.58000e+02 4.40000e+01 2.07000e+02 1.04000e+02 4.00000e+00 2.44000e+02\n",
            " 1.47000e+02 1.60000e+01 1.78000e+02 3.01000e+02 3.60000e+02 2.60000e+01\n",
            " 1.26000e+02 1.13000e+02 1.71000e+02 3.84000e+02 1.98000e+02 5.30000e+02\n",
            " 3.33000e+02 4.00000e+02 1.90000e+02 2.85000e+02 3.30000e+02 7.42000e+02\n",
            " 2.51000e+02 5.00000e+01 6.50000e+01 1.10000e+01 5.60000e+01 6.00000e+01\n",
            " 5.00000e+02 1.00000e+00 3.08000e+02 1.35000e+02 2.06000e+02 8.30000e+01\n",
            " 4.60000e+01 5.00000e+00 1.46400e+03 1.49000e+02 4.68000e+02 2.00000e+02\n",
            " 3.30000e+01 2.00000e+00 8.60000e+01 4.56000e+02 2.50000e+02 1.38000e+02\n",
            " 4.15000e+02 1.40000e+02 3.66000e+02 2.75000e+02 3.39000e+02 5.05000e+02\n",
            " 8.20000e+01 2.31000e+02 2.66000e+02 1.85000e+02 2.15000e+02 2.64000e+02\n",
            " 1.12000e+02 7.06000e+02 3.36000e+02 3.28000e+02 4.49000e+02 2.42000e+02\n",
            " 5.08000e+02 4.46000e+02 5.41000e+02 7.02000e+02 5.23000e+02 3.91000e+02\n",
            " 3.71000e+02 1.65000e+02 1.22000e+02 2.68000e+02 8.10000e+01 5.70000e+01\n",
            " 2.90000e+01 8.00000e+00 4.74000e+02 2.76000e+02 4.86000e+02 2.59000e+02\n",
            " 3.16000e+02 4.58000e+02 1.44000e+02 3.56000e+02 1.76000e+02 9.00000e+01\n",
            " 6.00000e+00 8.40000e+01 1.03000e+02 6.60000e+02 1.91000e+02 1.69000e+02\n",
            " 6.89000e+02 8.29000e+02 6.32000e+02 2.20000e+02 7.00000e+01 5.14000e+02\n",
            " 3.09000e+02 5.48000e+02 6.20000e+01 3.67000e+02 1.52000e+02 1.15000e+02\n",
            " 1.84000e+02 1.53000e+02 2.13000e+02 1.74000e+02 7.70000e+01 2.43000e+02\n",
            " 6.03000e+02 1.83000e+02 1.29000e+02 1.31000e+02 1.07000e+02 9.80000e+01\n",
            " 2.83000e+02 2.99000e+02 2.41000e+02 2.25000e+02 1.61000e+02 4.70000e+01\n",
            " 1.89000e+02 2.38000e+02 5.50000e+01 2.70000e+01 1.57000e+02 4.30000e+02\n",
            " 2.84000e+02 1.70000e+02 5.80000e+01 1.36000e+02 2.22000e+02 4.00000e+01\n",
            " 2.04000e+02 4.35000e+02 1.20000e+01 5.10000e+01 3.19000e+02 1.00000e+02\n",
            " 2.81000e+02 9.40000e+01 1.70000e+01 3.00000e+02 3.64000e+02 1.67000e+02\n",
            " 1.87000e+02 3.10000e+01 2.53000e+02 1.01000e+02 7.80000e+01 2.12000e+02\n",
            " 2.67000e+02 3.27000e+02 1.73000e+02 4.16000e+02 6.50000e+02 2.40000e+01\n",
            " 7.58000e+02 1.08300e+03 1.93500e+03 1.63000e+02 4.50000e+01 3.00000e+00\n",
            " 1.29900e+03 1.10000e+03 3.35000e+02 4.40000e+02 9.00000e+00 3.11000e+02\n",
            " 4.04000e+02 2.56000e+02 1.30500e+03 1.40000e+01 2.80000e+01 4.20000e+01\n",
            " 9.70000e+01 2.93000e+02 4.90000e+01 3.40000e+01 1.90000e+01 3.78000e+02\n",
            " 1.50000e+02 7.50000e+01 2.27000e+02 2.54000e+02 1.86000e+02 2.19000e+02\n",
            " 1.34000e+02 2.17000e+02 3.90000e+01 4.10000e+01 3.34000e+02 1.05000e+02\n",
            " 2.39000e+02 7.10000e+01 1.81000e+02 9.30000e+01 1.60000e+02 7.90000e+01\n",
            " 8.90000e+01 3.86000e+02 2.65000e+02 2.33000e+02 2.50000e+01 1.08000e+02\n",
            " 4.33000e+02 2.60000e+02 2.01000e+02 3.31000e+02 1.06000e+02 1.96000e+02\n",
            " 2.11000e+02 1.48000e+02 1.46000e+02 3.48000e+02 3.49000e+02 3.87000e+02\n",
            " 4.11000e+02 3.60000e+01 6.80000e+01 1.80000e+01 1.27000e+02 2.10000e+01\n",
            " 2.03000e+02 2.30000e+02 1.20000e+02 2.36000e+02 1.54000e+02 3.88000e+02\n",
            " 7.60000e+01 2.98000e+02 1.11000e+02 4.76000e+02 6.60000e+01 6.30000e+01\n",
            " 1.50000e+01 8.80000e+01 3.70000e+01 3.20000e+01 1.59000e+02 3.90000e+02\n",
            " 5.11000e+02 2.90000e+02 5.20000e+02 2.80000e+02 6.84000e+02 1.82000e+02\n",
            " 5.40000e+01 1.68000e+02 4.67000e+02 4.06000e+02 1.33000e+02 9.90000e+01\n",
            " 1.24000e+02 2.63000e+02 7.14000e+02 3.14000e+02 4.23000e+02 3.89000e+02\n",
            " 2.30000e+01 1.75000e+02 2.16000e+02 1.16000e+02 9.60000e+01 7.75000e+02\n",
            " 2.40000e+02 3.23000e+02 4.41000e+02 1.41000e+02 2.26000e+02 2.94000e+02\n",
            " 3.68000e+02 1.18000e+02 2.62000e+02 2.73000e+02 1.62000e+02 5.30000e+01\n",
            " 1.45000e+02 2.10000e+02 2.05000e+02 2.02000e+02 1.55000e+02 1.19000e+02\n",
            " 9.09000e+02 1.05000e+03 3.25000e+02 2.47000e+02 3.53000e+02 2.89000e+02\n",
            " 1.51000e+02 4.57000e+02 2.32000e+02 1.21000e+02 1.93000e+02 5.65000e+02\n",
            " 6.14000e+02 1.80000e+02 1.17000e+02 2.34000e+02 6.36000e+02 3.55000e+02\n",
            " 7.09000e+02 3.61000e+02 6.13000e+02 6.93000e+02 1.51600e+03 1.21200e+03\n",
            " 1.32100e+03 1.01800e+03 6.06000e+02 8.75000e+02 4.44000e+02 5.25000e+02\n",
            " 6.40000e+01 4.53000e+02 1.79000e+02 4.20000e+02 5.86000e+02 5.82000e+02\n",
            " 8.04000e+02 2.95000e+02 1.66700e+03 5.64000e+02 1.24700e+03 4.85000e+02\n",
            " 8.00000e+01 6.73000e+02 2.58000e+02 6.70000e+01 2.88000e+02 3.73000e+02\n",
            " 3.41000e+02 6.64000e+02 2.52000e+02 2.69000e+02 3.12000e+02 1.03900e+03\n",
            " 1.25000e+03 8.57000e+02 6.75000e+02 6.25000e+02 8.66000e+02 3.24000e+02\n",
            " 7.50000e+02 1.00000e+03 2.97000e+02 3.92000e+02 5.50000e+02 7.94000e+02\n",
            " 5.32000e+02 4.10000e+02 4.43000e+02 4.98000e+02 5.90000e+01 1.09100e+03\n",
            " 7.22000e+02 2.23000e+02 4.54000e+02 5.46000e+02 4.80000e+02 6.24000e+02\n",
            " 8.88000e+02 2.72000e+02 1.99000e+02 2.18000e+02 1.50000e+03 5.91000e+02\n",
            " 5.89000e+02 3.58000e+02 3.07000e+02 3.02000e+02 4.24000e+02 2.92000e+02\n",
            " 8.25000e+02 8.00000e+02 4.31000e+02 4.71000e+02 3.38000e+02 5.19000e+02\n",
            " 2.14000e+02 1.64000e+02 9.40000e+02 2.96000e+02 1.37400e+03 1.02000e+02\n",
            " 2.77000e+02 6.63000e+02 5.27000e+02 3.32000e+02 3.44000e+02 3.15000e+02\n",
            " 5.43000e+02 4.51000e+02 2.61000e+02 5.75000e+02 3.18000e+02 6.71000e+02\n",
            " 2.80000e+03 8.62000e+02 1.12500e+03 4.08000e+02 1.77000e+02 5.69000e+02\n",
            " 5.04000e+02 7.15000e+02 2.29000e+02 3.99000e+02 3.98000e+02 3.75000e+02\n",
            " 4.55000e+02 6.00000e+02 2.21000e+02 9.53000e+02 3.59000e+02 4.45000e+02\n",
            " 5.26000e+02 4.07000e+02 5.70000e+02 4.03000e+02 2.91000e+02 2.79000e+02\n",
            " 4.82000e+02 6.37000e+02 4.97000e+02 6.40000e+02 5.49000e+02 4.12000e+02\n",
            " 6.44000e+02 9.97000e+02 3.13000e+02 4.64000e+02 7.00000e+02 4.70000e+02\n",
            " 4.47000e+02 3.74000e+02 4.48000e+02 4.26000e+02 2.87000e+02 9.78000e+02\n",
            " 2.86000e+02 7.87000e+02 7.92000e+02 3.51000e+02 4.25000e+02 3.42000e+02\n",
            " 3.47000e+02 3.17000e+02 3.54000e+02 4.94000e+02 3.77000e+02 3.45000e+02\n",
            " 2.82000e+02 6.26000e+02 1.27300e+03 4.50000e+02 8.49000e+02 2.05900e+03\n",
            " 4.77000e+02 2.48000e+02 3.94000e+02 6.94000e+02 4.18000e+02 4.05000e+02\n",
            " 4.88000e+02 1.72000e+02 5.53000e+02 4.22000e+02 5.16000e+02 3.63000e+02\n",
            " 3.43000e+02 3.83000e+02 1.35000e+03 3.05000e+02 4.13000e+02 2.55000e+02\n",
            " 7.18000e+02 3.70000e+02 4.61000e+02 3.97000e+02 6.19000e+02 1.87500e+03\n",
            " 6.20000e+02 7.17000e+02 5.21000e+02 6.23000e+02 6.91000e+02 3.76000e+02\n",
            " 5.68000e+02 1.16700e+03 7.95000e+02 1.19400e+03 4.90000e+02 5.24000e+02\n",
            " 5.15000e+02 8.65000e+02 2.12500e+03 1.33500e+03 1.08000e+03 5.78000e+02\n",
            " 1.63700e+03 3.96000e+02 9.35000e+02 5.76000e+02 4.38000e+02 4.92000e+02\n",
            " 3.20000e+02 5.73000e+02 1.10600e+03 5.98000e+02 2.71000e+02 4.65000e+02\n",
            " 3.80000e+02 4.28000e+02 3.82000e+02 4.39000e+02 6.72000e+02 8.40000e+02\n",
            " 3.40000e+02 4.62000e+02 4.75000e+02 5.38000e+02 3.95000e+02 2.78000e+02\n",
            " 5.63000e+02 6.80000e+02 5.47000e+02 5.74000e+02 4.19000e+02 3.04000e+02\n",
            " 8.33000e+02 9.10000e+02 6.48000e+02 5.77000e+02 9.31000e+02 5.12000e+02\n",
            " 3.29000e+02 8.27000e+02 7.40000e+02 7.07000e+02 3.37000e+02 8.78000e+02\n",
            " 8.87000e+02 6.02000e+02 5.92000e+02 8.97000e+02 9.76000e+02 8.31000e+02\n",
            " 2.45000e+02 3.69000e+02 8.20000e+02 6.30000e+02 5.09000e+02 8.83000e+02\n",
            " 1.71600e+03 1.13300e+03 6.05000e+02 3.65000e+02 4.79000e+02 7.41000e+02\n",
            " 2.18500e+03 5.66000e+02 6.09000e+02 6.57000e+02 5.39000e+02 4.32000e+02\n",
            " 7.01000e+02 4.42000e+02 4.91000e+02 7.13000e+02 5.79000e+02 5.94000e+02\n",
            " 4.01000e+02 7.19000e+02 5.06000e+02 3.85000e+02 1.94000e+02 5.07000e+02\n",
            " 8.77000e+02 4.29000e+02 2.49000e+02 9.23000e+02 2.35200e+03 1.17200e+03\n",
            " 1.54700e+03 9.17000e+02 6.49000e+02 1.02300e+03 5.59000e+02 8.19000e+02\n",
            " 6.01000e+02 5.35000e+02 1.11800e+03 5.17000e+02 9.13000e+02 4.27000e+02\n",
            " 1.02700e+03 6.58000e+02 1.00300e+03 8.14000e+02 3.81000e+02 5.96000e+02\n",
            " 8.12000e+02 9.77000e+02 1.13900e+03 5.56000e+02 6.96000e+02 4.59000e+02\n",
            " 4.99000e+02 1.35100e+03 9.99000e+02 5.03000e+02 4.78000e+02 5.22000e+02\n",
            " 5.42000e+02 4.87000e+02 4.34000e+02 9.73000e+02 3.62000e+02 7.79000e+02\n",
            " 7.61000e+02 1.08600e+03 5.01000e+02 4.09000e+02 8.08000e+02 6.54000e+02\n",
            " 5.71000e+02 5.10000e+02 1.14300e+03 1.66300e+03 1.94900e+03 9.00000e+02\n",
            " 8.01000e+02 6.78000e+02 4.69000e+02 6.74000e+02 7.73000e+02 1.80000e+03\n",
            " 6.47000e+02 5.02000e+02 7.37000e+02 7.88000e+02 4.14000e+02 3.72000e+02\n",
            " 6.43000e+02 3.57000e+02 5.85000e+02 7.45000e+02 4.52000e+02 5.54000e+02\n",
            " 5.18000e+02 7.35000e+02 1.34700e+03 7.49000e+02 7.48000e+02 8.09000e+02\n",
            " 5.34000e+02 6.59000e+02 2.18200e+03 6.29000e+02 1.18400e+03 3.93000e+02\n",
            " 7.67000e+02 9.55000e+02 4.95000e+02 1.47500e+03 6.88000e+02 9.24000e+02\n",
            " 4.37000e+02 9.50000e+02 1.07200e+03 7.98000e+02 5.99000e+02 5.28000e+02\n",
            " 7.27000e+02 1.40000e+03 1.06100e+03 4.96000e+02 6.62000e+02 8.48000e+02\n",
            " 8.45000e+02 8.74000e+02 6.61000e+02 6.83000e+02 5.45000e+02 6.38000e+02\n",
            " 4.66000e+02 9.29000e+02 1.09300e+03 1.04300e+03 1.52900e+03 9.52000e+02\n",
            " 5.13000e+02 9.22000e+02 1.10500e+03 6.28000e+02 1.38300e+03 9.18000e+02\n",
            " 2.57000e+03 9.14000e+02 4.93000e+02 1.51000e+03 5.88000e+02 1.23500e+03\n",
            " 5.29000e+02 1.03800e+03 7.90000e+02 3.63700e+03 4.21000e+02 8.67000e+02\n",
            " 1.79000e+03 7.62000e+02 8.23000e+02 7.43000e+02 1.00200e+03 9.38000e+02\n",
            " 4.89000e+02 1.20000e+03 5.87000e+02 2.02200e+03 7.20000e+02 6.10000e+02\n",
            " 1.79300e+03 8.64000e+02 1.25600e+03 8.80000e+02 6.31000e+02 1.31300e+03\n",
            " 1.15700e+03 1.28500e+03 5.37000e+02 1.83000e+03 7.56000e+02 7.34000e+02\n",
            " 7.36000e+02 9.12000e+02 7.03000e+02 9.70000e+02 1.69700e+03 8.50000e+02\n",
            " 6.07000e+02 1.65000e+03 8.53000e+02 1.60000e+03 8.21000e+02 1.63800e+03\n",
            " 1.41400e+03 1.10300e+03 4.36000e+02 1.21700e+03 1.54600e+03 8.72000e+02\n",
            " 6.69000e+02 5.40000e+02 7.21000e+02 1.13600e+03 1.21100e+03 1.43600e+03\n",
            " 6.15000e+02 6.34000e+02 1.08100e+03 4.17000e+02 4.81000e+02 1.39800e+03\n",
            " 4.84000e+02 1.03000e+03 6.65000e+02 9.30000e+02 6.70000e+02 7.29000e+02\n",
            " 2.11000e+03 8.28000e+02 8.22000e+02 9.25000e+02 6.51000e+02 4.72000e+02\n",
            " 9.87000e+02 3.00000e+03 7.52000e+02 1.24300e+03 5.55000e+02 7.68000e+02\n",
            " 9.75000e+02 1.16900e+03]\n"
          ]
        }
      ]
    },
    {
      "cell_type": "code",
      "source": [
        "conteo = df4['GASTO_EN_ PRODUCTOS'].value_counts()\n",
        "print(conteo)"
      ],
      "metadata": {
        "colab": {
          "base_uri": "https://localhost:8080/"
        },
        "id": "-M7Y948T_6kU",
        "outputId": "902e2c9e-c6e3-400e-ba2c-033cf9ac841b"
      },
      "execution_count": 428,
      "outputs": [
        {
          "output_type": "stream",
          "name": "stdout",
          "text": [
            "999999.00    1080\n",
            "43.00         340\n",
            "87.00         283\n",
            "50.00         254\n",
            "22.00         250\n",
            "             ... \n",
            "658.00          1\n",
            "1003.00         1\n",
            "814.00          1\n",
            "596.00          1\n",
            "1169.00         1\n",
            "Name: GASTO_EN_ PRODUCTOS, Length: 853, dtype: int64\n"
          ]
        }
      ]
    },
    {
      "cell_type": "code",
      "source": [
        "empty_strings_in_column = (df4['GASTO_EN_ PRODUCTOS'] == \"\").sum()\n",
        "print(f\"Empty string values in GASTO_EN_ PRODUCTOS: {empty_strings_in_column}\")\n",
        "\n",
        "nan_in_column = df4['GASTO_EN_ PRODUCTOS'].isna().sum()\n",
        "print(f\"NaN values in GASTO_EN_ PRODUCTOS: {nan_in_column}\")"
      ],
      "metadata": {
        "colab": {
          "base_uri": "https://localhost:8080/"
        },
        "id": "0bqTq6Vp_6vG",
        "outputId": "44746a16-dfa7-478c-da11-3c5e105ec89c"
      },
      "execution_count": 429,
      "outputs": [
        {
          "output_type": "stream",
          "name": "stdout",
          "text": [
            "Empty string values in GASTO_EN_ PRODUCTOS: 0\n",
            "NaN values in GASTO_EN_ PRODUCTOS: 70371\n"
          ]
        }
      ]
    },
    {
      "cell_type": "code",
      "source": [
        "## Imputamos campos vacios\n",
        "\n",
        "df4['GASTO_EN_ PRODUCTOS'].fillna(df4['GASTO_EN_ PRODUCTOS'].mean(), inplace=True)"
      ],
      "metadata": {
        "id": "pxXuIMJaAe1M"
      },
      "execution_count": 430,
      "outputs": []
    },
    {
      "cell_type": "code",
      "source": [
        "conteo = df4['GASTO_EN_ PRODUCTOS'].value_counts()\n",
        "print(conteo)"
      ],
      "metadata": {
        "colab": {
          "base_uri": "https://localhost:8080/"
        },
        "id": "3czaM0vBAe-D",
        "outputId": "046b5ab5-c213-46f7-9080-dfa9ca2e79f2"
      },
      "execution_count": 431,
      "outputs": [
        {
          "output_type": "stream",
          "name": "stdout",
          "text": [
            "62626.19     70371\n",
            "999999.00     1080\n",
            "43.00          340\n",
            "87.00          283\n",
            "50.00          254\n",
            "             ...  \n",
            "658.00           1\n",
            "1003.00          1\n",
            "814.00           1\n",
            "596.00           1\n",
            "1169.00          1\n",
            "Name: GASTO_EN_ PRODUCTOS, Length: 854, dtype: int64\n"
          ]
        }
      ]
    },
    {
      "cell_type": "code",
      "source": [
        "nan_in_column = df4['GASTO_EN_ PRODUCTOS'].isna().sum()\n",
        "print(f\"NaN values in GASTO_EN_ PRODUCTOS: {nan_in_column}\")"
      ],
      "metadata": {
        "colab": {
          "base_uri": "https://localhost:8080/"
        },
        "id": "iyaaLLIIAfHL",
        "outputId": "285f3e5e-84ed-4393-bcd3-be338c1a573e"
      },
      "execution_count": 432,
      "outputs": [
        {
          "output_type": "stream",
          "name": "stdout",
          "text": [
            "NaN values in GASTO_EN_ PRODUCTOS: 0\n"
          ]
        }
      ]
    },
    {
      "cell_type": "markdown",
      "source": [
        "# **PARA** **P555**"
      ],
      "metadata": {
        "id": "yGN6X8A-XnNX"
      }
    },
    {
      "cell_type": "code",
      "source": [
        "## Cambiamos el nombre de la columna\n",
        "df4.rename(columns={'P555': 'LABOR_DESEMPEÑO_TRABAJO_ANTERIOR'}, inplace=True)"
      ],
      "metadata": {
        "id": "3FbjHsdXE1aH"
      },
      "execution_count": 433,
      "outputs": []
    },
    {
      "cell_type": "code",
      "source": [
        "valores_unicos = df4['LABOR_DESEMPEÑO_TRABAJO_ANTERIOR'].unique()\n",
        "print(valores_unicos)"
      ],
      "metadata": {
        "colab": {
          "base_uri": "https://localhost:8080/"
        },
        "id": "ZzNyRf1xX7_Q",
        "outputId": "4618d0fe-6d08-481e-96e9-744dc4478f72"
      },
      "execution_count": 434,
      "outputs": [
        {
          "output_type": "stream",
          "name": "stdout",
          "text": [
            "[' ' '2' '3' '4' '1' '5' '6' '7']\n"
          ]
        }
      ]
    },
    {
      "cell_type": "code",
      "source": [
        "conteo = df4['LABOR_DESEMPEÑO_TRABAJO_ANTERIOR'].value_counts()\n",
        "print(conteo)"
      ],
      "metadata": {
        "colab": {
          "base_uri": "https://localhost:8080/"
        },
        "id": "dKz2C5R7FODp",
        "outputId": "abedd9b8-d5a1-41af-96ec-752f0efe665f"
      },
      "execution_count": 435,
      "outputs": [
        {
          "output_type": "stream",
          "name": "stdout",
          "text": [
            "     68723\n",
            "3     5459\n",
            "2     5186\n",
            "4     4659\n",
            "5     2391\n",
            "6     1009\n",
            "1      139\n",
            "7       95\n",
            "Name: LABOR_DESEMPEÑO_TRABAJO_ANTERIOR, dtype: int64\n"
          ]
        }
      ]
    },
    {
      "cell_type": "code",
      "source": [
        "mapeo_str7 = {\n",
        "    '1': \"Empleador o patrono\",\n",
        "    '2': \"Trabajador Independiente\",\n",
        "    '3': \"Empleado\",\n",
        "    '4': \"Obrero\",\n",
        "    '5': \"Trabajador familiar no remunerado\",\n",
        "    '6': \"Trabajador del hogar\",\n",
        "    '7': \"Otro\",\n",
        "    ' ':np.nan\n",
        "}\n",
        "\n",
        "df4['LABOR_DESEMPEÑO_TRABAJO_ANTERIOR'] = df4['LABOR_DESEMPEÑO_TRABAJO_ANTERIOR'].map(mapeo_str7)\n"
      ],
      "metadata": {
        "id": "QnzgFnPbX7FP"
      },
      "execution_count": 436,
      "outputs": []
    },
    {
      "cell_type": "code",
      "source": [
        "valores_unicos = df4['LABOR_DESEMPEÑO_TRABAJO_ANTERIOR'].unique()\n",
        "print(valores_unicos)"
      ],
      "metadata": {
        "colab": {
          "base_uri": "https://localhost:8080/"
        },
        "id": "X7Bs2NXrZGQq",
        "outputId": "806de2d8-b778-4dce-d5fd-c5ed9695a4a1"
      },
      "execution_count": 437,
      "outputs": [
        {
          "output_type": "stream",
          "name": "stdout",
          "text": [
            "[nan 'Trabajador Independiente' 'Empleado' 'Obrero' 'Empleador o patrono'\n",
            " 'Trabajador familiar no remunerado' 'Trabajador del hogar' 'Otro']\n"
          ]
        }
      ]
    },
    {
      "cell_type": "code",
      "source": [
        "conteo = df4['LABOR_DESEMPEÑO_TRABAJO_ANTERIOR'].value_counts()\n",
        "print(conteo)"
      ],
      "metadata": {
        "colab": {
          "base_uri": "https://localhost:8080/"
        },
        "id": "RGNIcK72FfV_",
        "outputId": "25a42718-43ba-4220-94e2-da120951f25e"
      },
      "execution_count": 438,
      "outputs": [
        {
          "output_type": "stream",
          "name": "stdout",
          "text": [
            "Empleado                             5459\n",
            "Trabajador Independiente             5186\n",
            "Obrero                               4659\n",
            "Trabajador familiar no remunerado    2391\n",
            "Trabajador del hogar                 1009\n",
            "Empleador o patrono                   139\n",
            "Otro                                   95\n",
            "Name: LABOR_DESEMPEÑO_TRABAJO_ANTERIOR, dtype: int64\n"
          ]
        }
      ]
    },
    {
      "cell_type": "code",
      "source": [
        "import numpy as np\n",
        "\n",
        "# Identificar la cantidad de valores NaN en la columna\n",
        "num_nans = df4['LABOR_DESEMPEÑO_TRABAJO_ANTERIOR'].isna().sum()\n",
        "\n",
        "# Rellenar los valores NaN con \"Sí\" o \"No\" aleatoriamente\n",
        "df4.loc[df4['LABOR_DESEMPEÑO_TRABAJO_ANTERIOR'].isna(), 'LABOR_DESEMPEÑO_TRABAJO_ANTERIOR'] = np.random.choice([\n",
        "    'Trabajador Independiente',\n",
        "    'Empleado',\n",
        "    'Obrero',\n",
        "    'Empleador o patrono',\n",
        "    'Trabajador familiar no remunerado',\n",
        "    'Trabajador del hogar'\n",
        "    ], size=num_nans)"
      ],
      "metadata": {
        "id": "ZTderXIeFnXU"
      },
      "execution_count": 439,
      "outputs": []
    },
    {
      "cell_type": "code",
      "source": [
        "conteo = df4['LABOR_DESEMPEÑO_TRABAJO_ANTERIOR'].value_counts()\n",
        "print(conteo)"
      ],
      "metadata": {
        "colab": {
          "base_uri": "https://localhost:8080/"
        },
        "id": "vgjETfUwGGT0",
        "outputId": "882b0a7f-3fbe-48f9-c8e4-5bc826902935"
      },
      "execution_count": 440,
      "outputs": [
        {
          "output_type": "stream",
          "name": "stdout",
          "text": [
            "Empleado                             16778\n",
            "Trabajador Independiente             16605\n",
            "Obrero                               16087\n",
            "Trabajador familiar no remunerado    13951\n",
            "Trabajador del hogar                 12438\n",
            "Empleador o patrono                  11707\n",
            "Otro                                    95\n",
            "Name: LABOR_DESEMPEÑO_TRABAJO_ANTERIOR, dtype: int64\n"
          ]
        }
      ]
    },
    {
      "cell_type": "code",
      "source": [
        "empty_strings_in_column = (df4['LABOR_DESEMPEÑO_TRABAJO_ANTERIOR'] == \"\").sum()\n",
        "print(f\"Empty string values in LABOR_DESEMPEÑO_TRABAJO_ANTERIOR: {empty_strings_in_column}\")\n",
        "\n",
        "nan_in_column = df4['LABOR_DESEMPEÑO_TRABAJO_ANTERIOR'].isna().sum()\n",
        "print(f\"NaN values in LABOR_DESEMPEÑO_TRABAJO_ANTERIOR: {nan_in_column}\")"
      ],
      "metadata": {
        "colab": {
          "base_uri": "https://localhost:8080/"
        },
        "id": "u-npT-bCGJmW",
        "outputId": "a1d756aa-156b-49b0-ef5e-a0ad4a3fa9b1"
      },
      "execution_count": 441,
      "outputs": [
        {
          "output_type": "stream",
          "name": "stdout",
          "text": [
            "Empty string values in LABOR_DESEMPEÑO_TRABAJO_ANTERIOR: 0\n",
            "NaN values in LABOR_DESEMPEÑO_TRABAJO_ANTERIOR: 0\n"
          ]
        }
      ]
    },
    {
      "cell_type": "markdown",
      "source": [
        "# **PARA** **P207**"
      ],
      "metadata": {
        "id": "2AmCVZLodxT7"
      }
    },
    {
      "cell_type": "code",
      "source": [
        "## Cambiamos el nombre de la columna\n",
        "df4.rename(columns={'P207': 'SEXO'}, inplace=True)"
      ],
      "metadata": {
        "id": "LUBIyochM8dp"
      },
      "execution_count": 442,
      "outputs": []
    },
    {
      "cell_type": "code",
      "source": [
        "valores_unicos = df4['SEXO'].unique()\n",
        "print(valores_unicos)"
      ],
      "metadata": {
        "colab": {
          "base_uri": "https://localhost:8080/"
        },
        "id": "NFbF0M3Qd60S",
        "outputId": "c976f2db-67d8-440d-e32d-30ffa59d1b08"
      },
      "execution_count": 443,
      "outputs": [
        {
          "output_type": "stream",
          "name": "stdout",
          "text": [
            "[1 2]\n"
          ]
        }
      ]
    },
    {
      "cell_type": "code",
      "source": [
        "conteo = df4['SEXO'].value_counts()\n",
        "print(conteo)"
      ],
      "metadata": {
        "colab": {
          "base_uri": "https://localhost:8080/"
        },
        "id": "lt37dRxHNu8_",
        "outputId": "cba9a43c-3199-4ea9-d7a4-7f1d8a08ca80"
      },
      "execution_count": 444,
      "outputs": [
        {
          "output_type": "stream",
          "name": "stdout",
          "text": [
            "2    45702\n",
            "1    41959\n",
            "Name: SEXO, dtype: int64\n"
          ]
        }
      ]
    },
    {
      "cell_type": "code",
      "source": [
        "## Reemplazamos valores NaN primero\n",
        "df4['SEXO'] = df4['SEXO'].fillna('Desconocido')\n",
        "\n",
        "## Reemplazamos por valores categóricos\n",
        "mapeo_str12 = {\n",
        "    1: \"Hombre\",\n",
        "    2: \"Mujer\",\n",
        "    'Desconocido': \"Desconocido\"\n",
        "}\n",
        "\n",
        "df4['SEXO'] = df4['SEXO'].map(mapeo_str12)\n"
      ],
      "metadata": {
        "id": "Bt1Xq4QUPGcO"
      },
      "execution_count": 445,
      "outputs": []
    },
    {
      "cell_type": "code",
      "source": [
        "nan_in_column = df4['SEXO'].isna().sum()\n",
        "print(f\"NaN values in SEXO: {nan_in_column}\")"
      ],
      "metadata": {
        "colab": {
          "base_uri": "https://localhost:8080/"
        },
        "id": "WYYhSuUPN6i4",
        "outputId": "1b9fa7fc-dad1-4065-9b6a-995cc2f65326"
      },
      "execution_count": 446,
      "outputs": [
        {
          "output_type": "stream",
          "name": "stdout",
          "text": [
            "NaN values in SEXO: 0\n"
          ]
        }
      ]
    },
    {
      "cell_type": "code",
      "source": [
        "valores_unicos = df4['SEXO'].unique()\n",
        "print(valores_unicos)"
      ],
      "metadata": {
        "colab": {
          "base_uri": "https://localhost:8080/"
        },
        "id": "upzCNL_PgoZ8",
        "outputId": "92086545-025f-4be1-bb98-ed9b3e0e22f6"
      },
      "execution_count": 447,
      "outputs": [
        {
          "output_type": "stream",
          "name": "stdout",
          "text": [
            "['Hombre' 'Mujer']\n"
          ]
        }
      ]
    },
    {
      "cell_type": "code",
      "source": [
        "conteo = df4['SEXO'].value_counts()\n",
        "print(conteo)"
      ],
      "metadata": {
        "colab": {
          "base_uri": "https://localhost:8080/"
        },
        "id": "hBSwlQwYPbYf",
        "outputId": "f0e89f4c-fafc-49cf-85ec-f5fa774e7f1b"
      },
      "execution_count": 448,
      "outputs": [
        {
          "output_type": "stream",
          "name": "stdout",
          "text": [
            "Mujer     45702\n",
            "Hombre    41959\n",
            "Name: SEXO, dtype: int64\n"
          ]
        }
      ]
    },
    {
      "cell_type": "markdown",
      "source": [
        "# **PARA** **P208A**"
      ],
      "metadata": {
        "id": "GB1qGzHHQkVu"
      }
    },
    {
      "cell_type": "code",
      "source": [
        "## Cambiamos el nombre de la columna\n",
        "df4.rename(columns={'P208A': 'EDAD'}, inplace=True)"
      ],
      "metadata": {
        "id": "5zB6puR8QuQF"
      },
      "execution_count": 449,
      "outputs": []
    },
    {
      "cell_type": "code",
      "source": [
        "valores_unicos = df4['EDAD'].unique()\n",
        "print(valores_unicos)"
      ],
      "metadata": {
        "colab": {
          "base_uri": "https://localhost:8080/"
        },
        "id": "EdworaxJQuUF",
        "outputId": "72019861-dae5-4b41-bf07-071de755d6ca"
      },
      "execution_count": 450,
      "outputs": [
        {
          "output_type": "stream",
          "name": "stdout",
          "text": [
            "[57 22 63 62 30 89 80 40 37 19 18 25 44 59 53 35 31 39 34 51 60 50 23 16\n",
            " 85 75 77 55 70 14 71 43 49 27 26 54 72 88 45 67 64 81 83 38 15 21 56 17\n",
            " 58 68 65 61 86 76 36 74 24 52 20 46 41 28 32 47 79 98 78 42 73 29 48 33\n",
            " 66 69 90 95 82 91 84 87 93 94 92 96 97]\n"
          ]
        }
      ]
    },
    {
      "cell_type": "code",
      "source": [
        "conteo = df4['EDAD'].value_counts()\n",
        "print(conteo)"
      ],
      "metadata": {
        "colab": {
          "base_uri": "https://localhost:8080/"
        },
        "id": "DsteFkBnQuX_",
        "outputId": "86522296-cf10-4124-cd09-ed9f843157ef"
      },
      "execution_count": 451,
      "outputs": [
        {
          "output_type": "stream",
          "name": "stdout",
          "text": [
            "14    2393\n",
            "17    2356\n",
            "15    2280\n",
            "16    2214\n",
            "18    2067\n",
            "      ... \n",
            "98      53\n",
            "94      42\n",
            "96      35\n",
            "95      33\n",
            "97      20\n",
            "Name: EDAD, Length: 85, dtype: int64\n"
          ]
        }
      ]
    },
    {
      "cell_type": "code",
      "source": [
        "mediana_edad = df4['EDAD'].median()\n",
        "print(mediana_edad)\n"
      ],
      "metadata": {
        "colab": {
          "base_uri": "https://localhost:8080/"
        },
        "id": "LgMx6nwzQubY",
        "outputId": "b76c68d4-4a04-4e6b-dd92-db9f3f69644e"
      },
      "execution_count": 452,
      "outputs": [
        {
          "output_type": "stream",
          "name": "stdout",
          "text": [
            "41.0\n"
          ]
        }
      ]
    },
    {
      "cell_type": "code",
      "source": [
        "df4['EDAD'].fillna(df4['EDAD'].median(), inplace=True)"
      ],
      "metadata": {
        "id": "E6tBV_GgQufC"
      },
      "execution_count": 453,
      "outputs": []
    },
    {
      "cell_type": "code",
      "source": [
        "valores_unicos = df4['EDAD'].unique()\n",
        "print(valores_unicos)"
      ],
      "metadata": {
        "colab": {
          "base_uri": "https://localhost:8080/"
        },
        "id": "qe6QUIXjR4ti",
        "outputId": "5cc4f610-d2c4-4769-c616-503e23fd0626"
      },
      "execution_count": 454,
      "outputs": [
        {
          "output_type": "stream",
          "name": "stdout",
          "text": [
            "[57 22 63 62 30 89 80 40 37 19 18 25 44 59 53 35 31 39 34 51 60 50 23 16\n",
            " 85 75 77 55 70 14 71 43 49 27 26 54 72 88 45 67 64 81 83 38 15 21 56 17\n",
            " 58 68 65 61 86 76 36 74 24 52 20 46 41 28 32 47 79 98 78 42 73 29 48 33\n",
            " 66 69 90 95 82 91 84 87 93 94 92 96 97]\n"
          ]
        }
      ]
    },
    {
      "cell_type": "markdown",
      "source": [
        "# **PARA** **P209**"
      ],
      "metadata": {
        "id": "z7uqRBfTSAmF"
      }
    },
    {
      "cell_type": "code",
      "source": [
        "## Cambiamos el nombre de la columna\n",
        "df4.rename(columns={'P209': 'ESTADO_CIVIL'}, inplace=True)"
      ],
      "metadata": {
        "id": "LDmi7H9BSFxq"
      },
      "execution_count": 455,
      "outputs": []
    },
    {
      "cell_type": "code",
      "source": [
        "valores_unicos = df4['ESTADO_CIVIL'].unique()\n",
        "print(valores_unicos)"
      ],
      "metadata": {
        "colab": {
          "base_uri": "https://localhost:8080/"
        },
        "id": "MXhV_Ra2SF4-",
        "outputId": "752464ed-b6bb-441f-c9f9-5344fba54756"
      },
      "execution_count": 456,
      "outputs": [
        {
          "output_type": "stream",
          "name": "stdout",
          "text": [
            "[4 6 2 1 5 3]\n"
          ]
        }
      ]
    },
    {
      "cell_type": "code",
      "source": [
        "conteo = df4['ESTADO_CIVIL'].value_counts()\n",
        "print(conteo)"
      ],
      "metadata": {
        "colab": {
          "base_uri": "https://localhost:8080/"
        },
        "id": "detMjJD8SF9G",
        "outputId": "c73be279-3cd1-46be-89f2-d99035417957"
      },
      "execution_count": 457,
      "outputs": [
        {
          "output_type": "stream",
          "name": "stdout",
          "text": [
            "6    28024\n",
            "1    22696\n",
            "2    22030\n",
            "5     8944\n",
            "3     5400\n",
            "4      567\n",
            "Name: ESTADO_CIVIL, dtype: int64\n"
          ]
        }
      ]
    },
    {
      "cell_type": "code",
      "source": [
        "## Reemplazamos por valores categóricos\n",
        "\n",
        "mapeo_str12 = {\n",
        "    1: \"Conviviente\",\n",
        "    2: \"Casado(a)\",\n",
        "    3: \"Viudo(a)\",\n",
        "    4: \"Divorciado(a)\",\n",
        "    5: \"Separado(a)\",\n",
        "    6: \"Soltero(a)\"\n",
        "}\n",
        "\n",
        "df4['ESTADO_CIVIL'] = df4['ESTADO_CIVIL'].map(mapeo_str12)"
      ],
      "metadata": {
        "id": "VLbS1zlESGC3"
      },
      "execution_count": 458,
      "outputs": []
    },
    {
      "cell_type": "code",
      "source": [
        "mediana_estado = df4['ESTADO_CIVIL'].mode()\n",
        "print(mediana_estado)"
      ],
      "metadata": {
        "colab": {
          "base_uri": "https://localhost:8080/"
        },
        "id": "Jf0yLpIMSGI1",
        "outputId": "6c3639ab-1d1d-450b-87ce-d84db5171e89"
      },
      "execution_count": 459,
      "outputs": [
        {
          "output_type": "stream",
          "name": "stdout",
          "text": [
            "0    Soltero(a)\n",
            "Name: ESTADO_CIVIL, dtype: object\n"
          ]
        }
      ]
    },
    {
      "cell_type": "code",
      "source": [
        "cantidad_nan = df4['ESTADO_CIVIL'].isna().sum()\n",
        "print(cantidad_nan)\n"
      ],
      "metadata": {
        "colab": {
          "base_uri": "https://localhost:8080/"
        },
        "id": "JxK9gfgVSGOd",
        "outputId": "48a9f0dd-d468-49f9-a367-e0c4e9c13871"
      },
      "execution_count": 460,
      "outputs": [
        {
          "output_type": "stream",
          "name": "stdout",
          "text": [
            "0\n"
          ]
        }
      ]
    },
    {
      "cell_type": "code",
      "source": [
        "df4['ESTADO_CIVIL'].fillna(df4['ESTADO_CIVIL'].mode().iloc[0], inplace=True)\n"
      ],
      "metadata": {
        "id": "RQYrXbdpUJNy"
      },
      "execution_count": 461,
      "outputs": []
    },
    {
      "cell_type": "code",
      "source": [
        "cantidad_nan = df4['ESTADO_CIVIL'].isna().sum()\n",
        "print(cantidad_nan)"
      ],
      "metadata": {
        "colab": {
          "base_uri": "https://localhost:8080/"
        },
        "id": "k6SuovZuUQsG",
        "outputId": "e3ff0689-6b86-42bf-d93a-658b39cdfb03"
      },
      "execution_count": 462,
      "outputs": [
        {
          "output_type": "stream",
          "name": "stdout",
          "text": [
            "0\n"
          ]
        }
      ]
    },
    {
      "cell_type": "code",
      "source": [
        "nan_in_column = df4['ESTADO_CIVIL'].isna().sum()\n",
        "print(f\"NaN values in ESTADO_CIVIL: {nan_in_column}\")"
      ],
      "metadata": {
        "colab": {
          "base_uri": "https://localhost:8080/"
        },
        "id": "qX0Ta6gbWTm3",
        "outputId": "5c8e91ea-5a6e-4a28-c278-b424e29386ef"
      },
      "execution_count": 463,
      "outputs": [
        {
          "output_type": "stream",
          "name": "stdout",
          "text": [
            "NaN values in ESTADO_CIVIL: 0\n"
          ]
        }
      ]
    },
    {
      "cell_type": "code",
      "source": [
        "conteo = df4['ESTADO_CIVIL'].value_counts()\n",
        "print(conteo)"
      ],
      "metadata": {
        "colab": {
          "base_uri": "https://localhost:8080/"
        },
        "id": "_0Lsa4b5UihK",
        "outputId": "a8765589-f298-4bd9-b70c-81c828d8e51c"
      },
      "execution_count": 464,
      "outputs": [
        {
          "output_type": "stream",
          "name": "stdout",
          "text": [
            "Soltero(a)       28024\n",
            "Conviviente      22696\n",
            "Casado(a)        22030\n",
            "Separado(a)       8944\n",
            "Viudo(a)          5400\n",
            "Divorciado(a)      567\n",
            "Name: ESTADO_CIVIL, dtype: int64\n"
          ]
        }
      ]
    },
    {
      "cell_type": "markdown",
      "source": [
        "# **PARA** **P301A**"
      ],
      "metadata": {
        "id": "09QhWOXXUll4"
      }
    },
    {
      "cell_type": "code",
      "source": [
        "## Cambiamos el nombre de la columna\n",
        "df4.rename(columns={'P301A': 'GRADO_DE_INSTRUCCION'}, inplace=True)"
      ],
      "metadata": {
        "id": "2R6376pVUr4I"
      },
      "execution_count": 465,
      "outputs": []
    },
    {
      "cell_type": "code",
      "source": [
        "valores_unicos = df4['GRADO_DE_INSTRUCCION'].unique()\n",
        "print(valores_unicos)"
      ],
      "metadata": {
        "colab": {
          "base_uri": "https://localhost:8080/"
        },
        "id": "YoOfRddHUsD1",
        "outputId": "8f8a0c4d-6715-4323-9786-3254f4118d4a"
      },
      "execution_count": 466,
      "outputs": [
        {
          "output_type": "stream",
          "name": "stdout",
          "text": [
            "['11' '7' '10' '8' '4' '9' '6' '3' '5' '1' ' ' '12' '2']\n"
          ]
        }
      ]
    },
    {
      "cell_type": "code",
      "source": [
        "conteo = df4['GRADO_DE_INSTRUCCION'].value_counts()\n",
        "print(conteo)"
      ],
      "metadata": {
        "colab": {
          "base_uri": "https://localhost:8080/"
        },
        "id": "6FNRACNtUsPe",
        "outputId": "3ab9d954-d752-4438-bb45-590a22c05277"
      },
      "execution_count": 467,
      "outputs": [
        {
          "output_type": "stream",
          "name": "stdout",
          "text": [
            "6     22722\n",
            "5     15475\n",
            "3     11070\n",
            "4      9742\n",
            "8      6838\n",
            "10     6552\n",
            "9      5264\n",
            "1      4613\n",
            "7      3797\n",
            "11     1345\n",
            "12      105\n",
            "2        76\n",
            "         62\n",
            "Name: GRADO_DE_INSTRUCCION, dtype: int64\n"
          ]
        }
      ]
    },
    {
      "cell_type": "code",
      "source": [
        "cantidad_nan = df4['GRADO_DE_INSTRUCCION'].isna().sum()\n",
        "print(cantidad_nan)"
      ],
      "metadata": {
        "colab": {
          "base_uri": "https://localhost:8080/"
        },
        "id": "Qjmw9qVYVJvS",
        "outputId": "9f31931a-7dc1-491b-d86a-b9bb7a4cbed1"
      },
      "execution_count": 468,
      "outputs": [
        {
          "output_type": "stream",
          "name": "stdout",
          "text": [
            "0\n"
          ]
        }
      ]
    },
    {
      "cell_type": "code",
      "source": [
        "## Reemplazamos por valores categóricos\n",
        "\n",
        "mapeo_str12 = {\n",
        "    '1': \"Sin Nivel\",\n",
        "    '2': \"Inicial\",\n",
        "    '3': \"Primaria Incompleta\",\n",
        "    '4': \"Primaria Completa\",\n",
        "    '5': \"Secundaria Incompleta\",\n",
        "    '6': \"Secundaria Completa\",\n",
        "    '7': \"Superior No Universitaria Incompleta\",\n",
        "    '8': \"Superior No Universitaria Completa\",\n",
        "    '9': \"Superior Universitaria Incompleta\",\n",
        "    '10': \"Superior Universitaria Completa\",\n",
        "    '11': \"Maestria/Doctorado\",\n",
        "    '12': \"Básica especial\"\n",
        "\n",
        "}\n",
        "\n",
        "df4['GRADO_DE_INSTRUCCION'] = df4['GRADO_DE_INSTRUCCION'].map(mapeo_str12)"
      ],
      "metadata": {
        "id": "boVDfC9UUsWB"
      },
      "execution_count": 469,
      "outputs": []
    },
    {
      "cell_type": "code",
      "source": [
        "conteo = df4['GRADO_DE_INSTRUCCION'].value_counts()\n",
        "print(conteo)"
      ],
      "metadata": {
        "colab": {
          "base_uri": "https://localhost:8080/"
        },
        "id": "5T90T42IWAHx",
        "outputId": "f965e3dd-fd81-404b-d177-a5c7f19a3222"
      },
      "execution_count": 470,
      "outputs": [
        {
          "output_type": "stream",
          "name": "stdout",
          "text": [
            "Secundaria Completa                     22722\n",
            "Secundaria Incompleta                   15475\n",
            "Primaria Incompleta                     11070\n",
            "Primaria Completa                        9742\n",
            "Superior No Universitaria Completa       6838\n",
            "Superior Universitaria Completa          6552\n",
            "Superior Universitaria Incompleta        5264\n",
            "Sin Nivel                                4613\n",
            "Superior No Universitaria Incompleta     3797\n",
            "Maestria/Doctorado                       1345\n",
            "Básica especial                           105\n",
            "Inicial                                    76\n",
            "Name: GRADO_DE_INSTRUCCION, dtype: int64\n"
          ]
        }
      ]
    },
    {
      "cell_type": "code",
      "source": [
        "nan_in_column = df4['GRADO_DE_INSTRUCCION'].isna().sum()\n",
        "print(f\"NaN values in GRADO_DE_INSTRUCCION: {nan_in_column}\")"
      ],
      "metadata": {
        "colab": {
          "base_uri": "https://localhost:8080/"
        },
        "id": "qj3TLZhIWI2U",
        "outputId": "550d4c1b-f5e5-4a80-c3dc-fcaab8b0358a"
      },
      "execution_count": 471,
      "outputs": [
        {
          "output_type": "stream",
          "name": "stdout",
          "text": [
            "NaN values in GRADO_DE_INSTRUCCION: 62\n"
          ]
        }
      ]
    },
    {
      "cell_type": "code",
      "source": [
        "## Imputamos campos vacios\n",
        "\n",
        "df4['GRADO_DE_INSTRUCCION'].fillna(df4['GRADO_DE_INSTRUCCION'].mode().iloc[0], inplace=True)"
      ],
      "metadata": {
        "id": "svNoKcJvWapQ"
      },
      "execution_count": 472,
      "outputs": []
    },
    {
      "cell_type": "code",
      "source": [
        "nan_in_column = df4['GRADO_DE_INSTRUCCION'].isna().sum()\n",
        "print(f\"NaN values in GRADO_DE_INSTRUCCION: {nan_in_column}\")"
      ],
      "metadata": {
        "colab": {
          "base_uri": "https://localhost:8080/"
        },
        "id": "00FUi-qQWlUK",
        "outputId": "82921718-8cfa-45ca-c0b3-c2eba6998cfe"
      },
      "execution_count": 473,
      "outputs": [
        {
          "output_type": "stream",
          "name": "stdout",
          "text": [
            "NaN values in GRADO_DE_INSTRUCCION: 0\n"
          ]
        }
      ]
    },
    {
      "cell_type": "code",
      "source": [
        "df4.to_csv('Empleo_e_ingresos_final.csv', encoding='ISO-8859-1', index=False)"
      ],
      "metadata": {
        "id": "H3UrFMEBbJss"
      },
      "execution_count": 474,
      "outputs": []
    },
    {
      "cell_type": "code",
      "source": [
        "filename = \"Empleo_e_ingresos_final.csv\"\n",
        "df_final = pd.read_csv(filename, sep=',', encoding='ISO-8859-1', low_memory=False)\n",
        "df_final.head(10)"
      ],
      "metadata": {
        "colab": {
          "base_uri": "https://localhost:8080/",
          "height": 621
        },
        "id": "rOtNWXnWcObz",
        "outputId": "1c111ab1-d7d9-432c-b55c-ef2315172eda"
      },
      "execution_count": 475,
      "outputs": [
        {
          "output_type": "execute_result",
          "data": {
            "text/plain": [
              "    AÑO  MES  CONGLOME  VIVIENDA  HOGAR  CODPERSO  UBIGEO       DOMINIO  \\\n",
              "0  2022    2      5007         3     11         1   10101  Sierra Norte   \n",
              "1  2022    2      5007        12     11         1   10101  Sierra Norte   \n",
              "2  2022    2      5007        22     11         1   10101  Sierra Norte   \n",
              "3  2022    2      5007        22     11         2   10101  Sierra Norte   \n",
              "4  2022    2      5007        22     11         3   10101  Sierra Norte   \n",
              "5  2022    2      5007        50     11         1   10101  Sierra Norte   \n",
              "6  2022    2      5007        50     11         2   10101  Sierra Norte   \n",
              "7  2022    2      5007        50     11         3   10101  Sierra Norte   \n",
              "8  2022    3      5009        56     11         1   10101  Sierra Norte   \n",
              "9  2022    3      5009        56     11         2   10101  Sierra Norte   \n",
              "\n",
              "  TRABAJÓ_SEM_ANTERIOR EMPLEO_FIJO_A_VOLVER  ... TUVO_OTRO_TRABAJO  \\\n",
              "0                   Si                   No  ...                No   \n",
              "1                   Si                   Si  ...                Si   \n",
              "2                   Si                   No  ...                No   \n",
              "3                   Si                   Si  ...                No   \n",
              "4                   Si                   No  ...                No   \n",
              "5                   No                   No  ...                Si   \n",
              "6                   No                   No  ...                No   \n",
              "7                   No                   No  ...                Si   \n",
              "8                   Si                   Si  ...                No   \n",
              "9                   Si                   Si  ...                Si   \n",
              "\n",
              "           BUSCA_TRABAJO                         FRECUENCIA_PAGO  \\\n",
              "0  No busco otro trabajo                 ¿Pago mensual completo?   \n",
              "1  No busco otro trabajo                 ¿Pago mensual completo?   \n",
              "2  No busco otro trabajo                 ¿Pago mensual completo?   \n",
              "3  No busco otro trabajo                 ¿Pago mensual completo?   \n",
              "4  No busco otro trabajo             ¿No sabe si le van a pagar?   \n",
              "5  No busco otro trabajo             ¿No sabe si le van a pagar?   \n",
              "6  No busco otro trabajo                         No recibió pago   \n",
              "7  No busco otro trabajo  ¿Aún no le pagan, pero le van a pagar?   \n",
              "8  No busco otro trabajo                 ¿Pago mensual completo?   \n",
              "9  No busco otro trabajo                 ¿Pago mensual completo?   \n",
              "\n",
              "  GANANCIA_NETA  GASTO_EN_ PRODUCTOS  LABOR_DESEMPEÑO_TRABAJO_ANTERIOR  \\\n",
              "0     146314.82             62626.19                            Obrero   \n",
              "1     146314.82             62626.19              Trabajador del hogar   \n",
              "2     146314.82             62626.19                            Obrero   \n",
              "3     146314.82             62626.19                          Empleado   \n",
              "4       1859.00             62626.19              Trabajador del hogar   \n",
              "5     146314.82             62626.19          Trabajador Independiente   \n",
              "6     146314.82             62626.19          Trabajador Independiente   \n",
              "7     146314.82             62626.19                          Empleado   \n",
              "8     146314.82             62626.19              Trabajador del hogar   \n",
              "9     146314.82             62626.19              Trabajador del hogar   \n",
              "\n",
              "     SEXO EDAD   ESTADO_CIVIL                  GRADO_DE_INSTRUCCION  \n",
              "0  Hombre   57  Divorciado(a)                    Maestria/Doctorado  \n",
              "1   Mujer   22     Soltero(a)  Superior No Universitaria Incompleta  \n",
              "2  Hombre   63      Casado(a)       Superior Universitaria Completa  \n",
              "3   Mujer   62      Casado(a)       Superior Universitaria Completa  \n",
              "4  Hombre   30     Soltero(a)    Superior No Universitaria Completa  \n",
              "5  Hombre   89      Casado(a)                     Primaria Completa  \n",
              "6   Mujer   80      Casado(a)                     Primaria Completa  \n",
              "7  Hombre   22     Soltero(a)     Superior Universitaria Incompleta  \n",
              "8  Hombre   40    Conviviente                   Secundaria Completa  \n",
              "9   Mujer   37    Conviviente                   Secundaria Completa  \n",
              "\n",
              "[10 rows x 26 columns]"
            ],
            "text/html": [
              "\n",
              "  <div id=\"df-05df4199-a558-4b44-b4d8-363a6b533130\" class=\"colab-df-container\">\n",
              "    <div>\n",
              "<style scoped>\n",
              "    .dataframe tbody tr th:only-of-type {\n",
              "        vertical-align: middle;\n",
              "    }\n",
              "\n",
              "    .dataframe tbody tr th {\n",
              "        vertical-align: top;\n",
              "    }\n",
              "\n",
              "    .dataframe thead th {\n",
              "        text-align: right;\n",
              "    }\n",
              "</style>\n",
              "<table border=\"1\" class=\"dataframe\">\n",
              "  <thead>\n",
              "    <tr style=\"text-align: right;\">\n",
              "      <th></th>\n",
              "      <th>AÑO</th>\n",
              "      <th>MES</th>\n",
              "      <th>CONGLOME</th>\n",
              "      <th>VIVIENDA</th>\n",
              "      <th>HOGAR</th>\n",
              "      <th>CODPERSO</th>\n",
              "      <th>UBIGEO</th>\n",
              "      <th>DOMINIO</th>\n",
              "      <th>TRABAJÓ_SEM_ANTERIOR</th>\n",
              "      <th>EMPLEO_FIJO_A_VOLVER</th>\n",
              "      <th>...</th>\n",
              "      <th>TUVO_OTRO_TRABAJO</th>\n",
              "      <th>BUSCA_TRABAJO</th>\n",
              "      <th>FRECUENCIA_PAGO</th>\n",
              "      <th>GANANCIA_NETA</th>\n",
              "      <th>GASTO_EN_ PRODUCTOS</th>\n",
              "      <th>LABOR_DESEMPEÑO_TRABAJO_ANTERIOR</th>\n",
              "      <th>SEXO</th>\n",
              "      <th>EDAD</th>\n",
              "      <th>ESTADO_CIVIL</th>\n",
              "      <th>GRADO_DE_INSTRUCCION</th>\n",
              "    </tr>\n",
              "  </thead>\n",
              "  <tbody>\n",
              "    <tr>\n",
              "      <th>0</th>\n",
              "      <td>2022</td>\n",
              "      <td>2</td>\n",
              "      <td>5007</td>\n",
              "      <td>3</td>\n",
              "      <td>11</td>\n",
              "      <td>1</td>\n",
              "      <td>10101</td>\n",
              "      <td>Sierra Norte</td>\n",
              "      <td>Si</td>\n",
              "      <td>No</td>\n",
              "      <td>...</td>\n",
              "      <td>No</td>\n",
              "      <td>No busco otro trabajo</td>\n",
              "      <td>¿Pago mensual completo?</td>\n",
              "      <td>146314.82</td>\n",
              "      <td>62626.19</td>\n",
              "      <td>Obrero</td>\n",
              "      <td>Hombre</td>\n",
              "      <td>57</td>\n",
              "      <td>Divorciado(a)</td>\n",
              "      <td>Maestria/Doctorado</td>\n",
              "    </tr>\n",
              "    <tr>\n",
              "      <th>1</th>\n",
              "      <td>2022</td>\n",
              "      <td>2</td>\n",
              "      <td>5007</td>\n",
              "      <td>12</td>\n",
              "      <td>11</td>\n",
              "      <td>1</td>\n",
              "      <td>10101</td>\n",
              "      <td>Sierra Norte</td>\n",
              "      <td>Si</td>\n",
              "      <td>Si</td>\n",
              "      <td>...</td>\n",
              "      <td>Si</td>\n",
              "      <td>No busco otro trabajo</td>\n",
              "      <td>¿Pago mensual completo?</td>\n",
              "      <td>146314.82</td>\n",
              "      <td>62626.19</td>\n",
              "      <td>Trabajador del hogar</td>\n",
              "      <td>Mujer</td>\n",
              "      <td>22</td>\n",
              "      <td>Soltero(a)</td>\n",
              "      <td>Superior No Universitaria Incompleta</td>\n",
              "    </tr>\n",
              "    <tr>\n",
              "      <th>2</th>\n",
              "      <td>2022</td>\n",
              "      <td>2</td>\n",
              "      <td>5007</td>\n",
              "      <td>22</td>\n",
              "      <td>11</td>\n",
              "      <td>1</td>\n",
              "      <td>10101</td>\n",
              "      <td>Sierra Norte</td>\n",
              "      <td>Si</td>\n",
              "      <td>No</td>\n",
              "      <td>...</td>\n",
              "      <td>No</td>\n",
              "      <td>No busco otro trabajo</td>\n",
              "      <td>¿Pago mensual completo?</td>\n",
              "      <td>146314.82</td>\n",
              "      <td>62626.19</td>\n",
              "      <td>Obrero</td>\n",
              "      <td>Hombre</td>\n",
              "      <td>63</td>\n",
              "      <td>Casado(a)</td>\n",
              "      <td>Superior Universitaria Completa</td>\n",
              "    </tr>\n",
              "    <tr>\n",
              "      <th>3</th>\n",
              "      <td>2022</td>\n",
              "      <td>2</td>\n",
              "      <td>5007</td>\n",
              "      <td>22</td>\n",
              "      <td>11</td>\n",
              "      <td>2</td>\n",
              "      <td>10101</td>\n",
              "      <td>Sierra Norte</td>\n",
              "      <td>Si</td>\n",
              "      <td>Si</td>\n",
              "      <td>...</td>\n",
              "      <td>No</td>\n",
              "      <td>No busco otro trabajo</td>\n",
              "      <td>¿Pago mensual completo?</td>\n",
              "      <td>146314.82</td>\n",
              "      <td>62626.19</td>\n",
              "      <td>Empleado</td>\n",
              "      <td>Mujer</td>\n",
              "      <td>62</td>\n",
              "      <td>Casado(a)</td>\n",
              "      <td>Superior Universitaria Completa</td>\n",
              "    </tr>\n",
              "    <tr>\n",
              "      <th>4</th>\n",
              "      <td>2022</td>\n",
              "      <td>2</td>\n",
              "      <td>5007</td>\n",
              "      <td>22</td>\n",
              "      <td>11</td>\n",
              "      <td>3</td>\n",
              "      <td>10101</td>\n",
              "      <td>Sierra Norte</td>\n",
              "      <td>Si</td>\n",
              "      <td>No</td>\n",
              "      <td>...</td>\n",
              "      <td>No</td>\n",
              "      <td>No busco otro trabajo</td>\n",
              "      <td>¿No sabe si le van a pagar?</td>\n",
              "      <td>1859.00</td>\n",
              "      <td>62626.19</td>\n",
              "      <td>Trabajador del hogar</td>\n",
              "      <td>Hombre</td>\n",
              "      <td>30</td>\n",
              "      <td>Soltero(a)</td>\n",
              "      <td>Superior No Universitaria Completa</td>\n",
              "    </tr>\n",
              "    <tr>\n",
              "      <th>5</th>\n",
              "      <td>2022</td>\n",
              "      <td>2</td>\n",
              "      <td>5007</td>\n",
              "      <td>50</td>\n",
              "      <td>11</td>\n",
              "      <td>1</td>\n",
              "      <td>10101</td>\n",
              "      <td>Sierra Norte</td>\n",
              "      <td>No</td>\n",
              "      <td>No</td>\n",
              "      <td>...</td>\n",
              "      <td>Si</td>\n",
              "      <td>No busco otro trabajo</td>\n",
              "      <td>¿No sabe si le van a pagar?</td>\n",
              "      <td>146314.82</td>\n",
              "      <td>62626.19</td>\n",
              "      <td>Trabajador Independiente</td>\n",
              "      <td>Hombre</td>\n",
              "      <td>89</td>\n",
              "      <td>Casado(a)</td>\n",
              "      <td>Primaria Completa</td>\n",
              "    </tr>\n",
              "    <tr>\n",
              "      <th>6</th>\n",
              "      <td>2022</td>\n",
              "      <td>2</td>\n",
              "      <td>5007</td>\n",
              "      <td>50</td>\n",
              "      <td>11</td>\n",
              "      <td>2</td>\n",
              "      <td>10101</td>\n",
              "      <td>Sierra Norte</td>\n",
              "      <td>No</td>\n",
              "      <td>No</td>\n",
              "      <td>...</td>\n",
              "      <td>No</td>\n",
              "      <td>No busco otro trabajo</td>\n",
              "      <td>No recibió pago</td>\n",
              "      <td>146314.82</td>\n",
              "      <td>62626.19</td>\n",
              "      <td>Trabajador Independiente</td>\n",
              "      <td>Mujer</td>\n",
              "      <td>80</td>\n",
              "      <td>Casado(a)</td>\n",
              "      <td>Primaria Completa</td>\n",
              "    </tr>\n",
              "    <tr>\n",
              "      <th>7</th>\n",
              "      <td>2022</td>\n",
              "      <td>2</td>\n",
              "      <td>5007</td>\n",
              "      <td>50</td>\n",
              "      <td>11</td>\n",
              "      <td>3</td>\n",
              "      <td>10101</td>\n",
              "      <td>Sierra Norte</td>\n",
              "      <td>No</td>\n",
              "      <td>No</td>\n",
              "      <td>...</td>\n",
              "      <td>Si</td>\n",
              "      <td>No busco otro trabajo</td>\n",
              "      <td>¿Aún no le pagan, pero le van a pagar?</td>\n",
              "      <td>146314.82</td>\n",
              "      <td>62626.19</td>\n",
              "      <td>Empleado</td>\n",
              "      <td>Hombre</td>\n",
              "      <td>22</td>\n",
              "      <td>Soltero(a)</td>\n",
              "      <td>Superior Universitaria Incompleta</td>\n",
              "    </tr>\n",
              "    <tr>\n",
              "      <th>8</th>\n",
              "      <td>2022</td>\n",
              "      <td>3</td>\n",
              "      <td>5009</td>\n",
              "      <td>56</td>\n",
              "      <td>11</td>\n",
              "      <td>1</td>\n",
              "      <td>10101</td>\n",
              "      <td>Sierra Norte</td>\n",
              "      <td>Si</td>\n",
              "      <td>Si</td>\n",
              "      <td>...</td>\n",
              "      <td>No</td>\n",
              "      <td>No busco otro trabajo</td>\n",
              "      <td>¿Pago mensual completo?</td>\n",
              "      <td>146314.82</td>\n",
              "      <td>62626.19</td>\n",
              "      <td>Trabajador del hogar</td>\n",
              "      <td>Hombre</td>\n",
              "      <td>40</td>\n",
              "      <td>Conviviente</td>\n",
              "      <td>Secundaria Completa</td>\n",
              "    </tr>\n",
              "    <tr>\n",
              "      <th>9</th>\n",
              "      <td>2022</td>\n",
              "      <td>3</td>\n",
              "      <td>5009</td>\n",
              "      <td>56</td>\n",
              "      <td>11</td>\n",
              "      <td>2</td>\n",
              "      <td>10101</td>\n",
              "      <td>Sierra Norte</td>\n",
              "      <td>Si</td>\n",
              "      <td>Si</td>\n",
              "      <td>...</td>\n",
              "      <td>Si</td>\n",
              "      <td>No busco otro trabajo</td>\n",
              "      <td>¿Pago mensual completo?</td>\n",
              "      <td>146314.82</td>\n",
              "      <td>62626.19</td>\n",
              "      <td>Trabajador del hogar</td>\n",
              "      <td>Mujer</td>\n",
              "      <td>37</td>\n",
              "      <td>Conviviente</td>\n",
              "      <td>Secundaria Completa</td>\n",
              "    </tr>\n",
              "  </tbody>\n",
              "</table>\n",
              "<p>10 rows × 26 columns</p>\n",
              "</div>\n",
              "    <div class=\"colab-df-buttons\">\n",
              "\n",
              "  <div class=\"colab-df-container\">\n",
              "    <button class=\"colab-df-convert\" onclick=\"convertToInteractive('df-05df4199-a558-4b44-b4d8-363a6b533130')\"\n",
              "            title=\"Convert this dataframe to an interactive table.\"\n",
              "            style=\"display:none;\">\n",
              "\n",
              "  <svg xmlns=\"http://www.w3.org/2000/svg\" height=\"24px\" viewBox=\"0 -960 960 960\">\n",
              "    <path d=\"M120-120v-720h720v720H120Zm60-500h600v-160H180v160Zm220 220h160v-160H400v160Zm0 220h160v-160H400v160ZM180-400h160v-160H180v160Zm440 0h160v-160H620v160ZM180-180h160v-160H180v160Zm440 0h160v-160H620v160Z\"/>\n",
              "  </svg>\n",
              "    </button>\n",
              "\n",
              "  <style>\n",
              "    .colab-df-container {\n",
              "      display:flex;\n",
              "      gap: 12px;\n",
              "    }\n",
              "\n",
              "    .colab-df-convert {\n",
              "      background-color: #E8F0FE;\n",
              "      border: none;\n",
              "      border-radius: 50%;\n",
              "      cursor: pointer;\n",
              "      display: none;\n",
              "      fill: #1967D2;\n",
              "      height: 32px;\n",
              "      padding: 0 0 0 0;\n",
              "      width: 32px;\n",
              "    }\n",
              "\n",
              "    .colab-df-convert:hover {\n",
              "      background-color: #E2EBFA;\n",
              "      box-shadow: 0px 1px 2px rgba(60, 64, 67, 0.3), 0px 1px 3px 1px rgba(60, 64, 67, 0.15);\n",
              "      fill: #174EA6;\n",
              "    }\n",
              "\n",
              "    .colab-df-buttons div {\n",
              "      margin-bottom: 4px;\n",
              "    }\n",
              "\n",
              "    [theme=dark] .colab-df-convert {\n",
              "      background-color: #3B4455;\n",
              "      fill: #D2E3FC;\n",
              "    }\n",
              "\n",
              "    [theme=dark] .colab-df-convert:hover {\n",
              "      background-color: #434B5C;\n",
              "      box-shadow: 0px 1px 3px 1px rgba(0, 0, 0, 0.15);\n",
              "      filter: drop-shadow(0px 1px 2px rgba(0, 0, 0, 0.3));\n",
              "      fill: #FFFFFF;\n",
              "    }\n",
              "  </style>\n",
              "\n",
              "    <script>\n",
              "      const buttonEl =\n",
              "        document.querySelector('#df-05df4199-a558-4b44-b4d8-363a6b533130 button.colab-df-convert');\n",
              "      buttonEl.style.display =\n",
              "        google.colab.kernel.accessAllowed ? 'block' : 'none';\n",
              "\n",
              "      async function convertToInteractive(key) {\n",
              "        const element = document.querySelector('#df-05df4199-a558-4b44-b4d8-363a6b533130');\n",
              "        const dataTable =\n",
              "          await google.colab.kernel.invokeFunction('convertToInteractive',\n",
              "                                                    [key], {});\n",
              "        if (!dataTable) return;\n",
              "\n",
              "        const docLinkHtml = 'Like what you see? Visit the ' +\n",
              "          '<a target=\"_blank\" href=https://colab.research.google.com/notebooks/data_table.ipynb>data table notebook</a>'\n",
              "          + ' to learn more about interactive tables.';\n",
              "        element.innerHTML = '';\n",
              "        dataTable['output_type'] = 'display_data';\n",
              "        await google.colab.output.renderOutput(dataTable, element);\n",
              "        const docLink = document.createElement('div');\n",
              "        docLink.innerHTML = docLinkHtml;\n",
              "        element.appendChild(docLink);\n",
              "      }\n",
              "    </script>\n",
              "  </div>\n",
              "\n",
              "\n",
              "<div id=\"df-f47239d4-07f4-4400-acc2-14a40971f1d3\">\n",
              "  <button class=\"colab-df-quickchart\" onclick=\"quickchart('df-f47239d4-07f4-4400-acc2-14a40971f1d3')\"\n",
              "            title=\"Suggest charts.\"\n",
              "            style=\"display:none;\">\n",
              "\n",
              "<svg xmlns=\"http://www.w3.org/2000/svg\" height=\"24px\"viewBox=\"0 0 24 24\"\n",
              "     width=\"24px\">\n",
              "    <g>\n",
              "        <path d=\"M19 3H5c-1.1 0-2 .9-2 2v14c0 1.1.9 2 2 2h14c1.1 0 2-.9 2-2V5c0-1.1-.9-2-2-2zM9 17H7v-7h2v7zm4 0h-2V7h2v10zm4 0h-2v-4h2v4z\"/>\n",
              "    </g>\n",
              "</svg>\n",
              "  </button>\n",
              "\n",
              "<style>\n",
              "  .colab-df-quickchart {\n",
              "      --bg-color: #E8F0FE;\n",
              "      --fill-color: #1967D2;\n",
              "      --hover-bg-color: #E2EBFA;\n",
              "      --hover-fill-color: #174EA6;\n",
              "      --disabled-fill-color: #AAA;\n",
              "      --disabled-bg-color: #DDD;\n",
              "  }\n",
              "\n",
              "  [theme=dark] .colab-df-quickchart {\n",
              "      --bg-color: #3B4455;\n",
              "      --fill-color: #D2E3FC;\n",
              "      --hover-bg-color: #434B5C;\n",
              "      --hover-fill-color: #FFFFFF;\n",
              "      --disabled-bg-color: #3B4455;\n",
              "      --disabled-fill-color: #666;\n",
              "  }\n",
              "\n",
              "  .colab-df-quickchart {\n",
              "    background-color: var(--bg-color);\n",
              "    border: none;\n",
              "    border-radius: 50%;\n",
              "    cursor: pointer;\n",
              "    display: none;\n",
              "    fill: var(--fill-color);\n",
              "    height: 32px;\n",
              "    padding: 0;\n",
              "    width: 32px;\n",
              "  }\n",
              "\n",
              "  .colab-df-quickchart:hover {\n",
              "    background-color: var(--hover-bg-color);\n",
              "    box-shadow: 0 1px 2px rgba(60, 64, 67, 0.3), 0 1px 3px 1px rgba(60, 64, 67, 0.15);\n",
              "    fill: var(--button-hover-fill-color);\n",
              "  }\n",
              "\n",
              "  .colab-df-quickchart-complete:disabled,\n",
              "  .colab-df-quickchart-complete:disabled:hover {\n",
              "    background-color: var(--disabled-bg-color);\n",
              "    fill: var(--disabled-fill-color);\n",
              "    box-shadow: none;\n",
              "  }\n",
              "\n",
              "  .colab-df-spinner {\n",
              "    border: 2px solid var(--fill-color);\n",
              "    border-color: transparent;\n",
              "    border-bottom-color: var(--fill-color);\n",
              "    animation:\n",
              "      spin 1s steps(1) infinite;\n",
              "  }\n",
              "\n",
              "  @keyframes spin {\n",
              "    0% {\n",
              "      border-color: transparent;\n",
              "      border-bottom-color: var(--fill-color);\n",
              "      border-left-color: var(--fill-color);\n",
              "    }\n",
              "    20% {\n",
              "      border-color: transparent;\n",
              "      border-left-color: var(--fill-color);\n",
              "      border-top-color: var(--fill-color);\n",
              "    }\n",
              "    30% {\n",
              "      border-color: transparent;\n",
              "      border-left-color: var(--fill-color);\n",
              "      border-top-color: var(--fill-color);\n",
              "      border-right-color: var(--fill-color);\n",
              "    }\n",
              "    40% {\n",
              "      border-color: transparent;\n",
              "      border-right-color: var(--fill-color);\n",
              "      border-top-color: var(--fill-color);\n",
              "    }\n",
              "    60% {\n",
              "      border-color: transparent;\n",
              "      border-right-color: var(--fill-color);\n",
              "    }\n",
              "    80% {\n",
              "      border-color: transparent;\n",
              "      border-right-color: var(--fill-color);\n",
              "      border-bottom-color: var(--fill-color);\n",
              "    }\n",
              "    90% {\n",
              "      border-color: transparent;\n",
              "      border-bottom-color: var(--fill-color);\n",
              "    }\n",
              "  }\n",
              "</style>\n",
              "\n",
              "  <script>\n",
              "    async function quickchart(key) {\n",
              "      const quickchartButtonEl =\n",
              "        document.querySelector('#' + key + ' button');\n",
              "      quickchartButtonEl.disabled = true;  // To prevent multiple clicks.\n",
              "      quickchartButtonEl.classList.add('colab-df-spinner');\n",
              "      try {\n",
              "        const charts = await google.colab.kernel.invokeFunction(\n",
              "            'suggestCharts', [key], {});\n",
              "      } catch (error) {\n",
              "        console.error('Error during call to suggestCharts:', error);\n",
              "      }\n",
              "      quickchartButtonEl.classList.remove('colab-df-spinner');\n",
              "      quickchartButtonEl.classList.add('colab-df-quickchart-complete');\n",
              "    }\n",
              "    (() => {\n",
              "      let quickchartButtonEl =\n",
              "        document.querySelector('#df-f47239d4-07f4-4400-acc2-14a40971f1d3 button');\n",
              "      quickchartButtonEl.style.display =\n",
              "        google.colab.kernel.accessAllowed ? 'block' : 'none';\n",
              "    })();\n",
              "  </script>\n",
              "</div>\n",
              "    </div>\n",
              "  </div>\n"
            ]
          },
          "metadata": {},
          "execution_count": 475
        }
      ]
    },
    {
      "cell_type": "code",
      "source": [
        "df_final.shape"
      ],
      "metadata": {
        "colab": {
          "base_uri": "https://localhost:8080/"
        },
        "id": "QSoThzBKcSSu",
        "outputId": "cd71264e-c647-4a50-c859-f0447ce8f185"
      },
      "execution_count": 476,
      "outputs": [
        {
          "output_type": "execute_result",
          "data": {
            "text/plain": [
              "(87661, 26)"
            ]
          },
          "metadata": {},
          "execution_count": 476
        }
      ]
    }
  ],
  "metadata": {
    "colab": {
      "provenance": [],
      "authorship_tag": "ABX9TyM6s3uRkW2v1VPnAESX+3Uv",
      "include_colab_link": true
    },
    "kernelspec": {
      "display_name": "Python 3",
      "name": "python3"
    },
    "language_info": {
      "name": "python"
    }
  },
  "nbformat": 4,
  "nbformat_minor": 0
}