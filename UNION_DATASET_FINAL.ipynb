{
  "cells": [
    {
      "cell_type": "markdown",
      "metadata": {
        "id": "view-in-github",
        "colab_type": "text"
      },
      "source": [
        "<a href=\"https://colab.research.google.com/github/KleverGH/DATA_MINING/blob/main/UNION_DATASET_FINAL.ipynb\" target=\"_parent\"><img src=\"https://colab.research.google.com/assets/colab-badge.svg\" alt=\"Open In Colab\"/></a>"
      ]
    },
    {
      "cell_type": "code",
      "execution_count": null,
      "id": "f1731b0e",
      "metadata": {
        "id": "f1731b0e"
      },
      "outputs": [],
      "source": [
        "import pandas as pd\n",
        "import numpy as np\n",
        "import seaborn as sns"
      ]
    },
    {
      "cell_type": "code",
      "execution_count": null,
      "id": "06905b10",
      "metadata": {
        "id": "06905b10",
        "outputId": "8b0debbe-98ee-44d1-d17a-cdb29593e573"
      },
      "outputs": [
        {
          "data": {
            "text/html": [
              "<div>\n",
              "<style scoped>\n",
              "    .dataframe tbody tr th:only-of-type {\n",
              "        vertical-align: middle;\n",
              "    }\n",
              "\n",
              "    .dataframe tbody tr th {\n",
              "        vertical-align: top;\n",
              "    }\n",
              "\n",
              "    .dataframe thead th {\n",
              "        text-align: right;\n",
              "    }\n",
              "</style>\n",
              "<table border=\"1\" class=\"dataframe\">\n",
              "  <thead>\n",
              "    <tr style=\"text-align: right;\">\n",
              "      <th></th>\n",
              "      <th>AÑO</th>\n",
              "      <th>MES</th>\n",
              "      <th>CONGLOME</th>\n",
              "      <th>VIVIENDA</th>\n",
              "      <th>HOGAR</th>\n",
              "      <th>CODPERSO</th>\n",
              "      <th>UBIGEO</th>\n",
              "      <th>DOMINIO</th>\n",
              "      <th>TRABAJÓ_SEM_ANTERIOR</th>\n",
              "      <th>EMPLEO_FIJO_A_VOLVER</th>\n",
              "      <th>...</th>\n",
              "      <th>TUVO_OTRO_TRABAJO</th>\n",
              "      <th>BUSCA_TRABAJO</th>\n",
              "      <th>FRECUENCIA_PAGO</th>\n",
              "      <th>GANANCIA_NETA</th>\n",
              "      <th>GASTO_EN_ PRODUCTOS</th>\n",
              "      <th>LABOR_DESEMPEÑO_TRABAJO_ANTERIOR</th>\n",
              "      <th>SEXO</th>\n",
              "      <th>EDAD</th>\n",
              "      <th>ESTADO_CIVIL</th>\n",
              "      <th>GRADO_DE_INSTRUCCION</th>\n",
              "    </tr>\n",
              "  </thead>\n",
              "  <tbody>\n",
              "    <tr>\n",
              "      <th>0</th>\n",
              "      <td>2022</td>\n",
              "      <td>2</td>\n",
              "      <td>5007</td>\n",
              "      <td>3</td>\n",
              "      <td>11</td>\n",
              "      <td>1</td>\n",
              "      <td>10101</td>\n",
              "      <td>Sierra Norte</td>\n",
              "      <td>Si</td>\n",
              "      <td>No</td>\n",
              "      <td>...</td>\n",
              "      <td>No</td>\n",
              "      <td>No busco otro trabajo</td>\n",
              "      <td>¿Pago mensual completo?</td>\n",
              "      <td>146314.818622</td>\n",
              "      <td>62626.189358</td>\n",
              "      <td>Obrero</td>\n",
              "      <td>Hombre</td>\n",
              "      <td>57</td>\n",
              "      <td>Divorciado(a)</td>\n",
              "      <td>Maestria/Doctorado</td>\n",
              "    </tr>\n",
              "    <tr>\n",
              "      <th>1</th>\n",
              "      <td>2022</td>\n",
              "      <td>2</td>\n",
              "      <td>5007</td>\n",
              "      <td>12</td>\n",
              "      <td>11</td>\n",
              "      <td>1</td>\n",
              "      <td>10101</td>\n",
              "      <td>Sierra Norte</td>\n",
              "      <td>Si</td>\n",
              "      <td>Si</td>\n",
              "      <td>...</td>\n",
              "      <td>Si</td>\n",
              "      <td>No busco otro trabajo</td>\n",
              "      <td>¿Pago mensual completo?</td>\n",
              "      <td>146314.818622</td>\n",
              "      <td>62626.189358</td>\n",
              "      <td>Trabajador del hogar</td>\n",
              "      <td>Mujer</td>\n",
              "      <td>22</td>\n",
              "      <td>Soltero(a)</td>\n",
              "      <td>Superior No Universitaria Incompleta</td>\n",
              "    </tr>\n",
              "    <tr>\n",
              "      <th>2</th>\n",
              "      <td>2022</td>\n",
              "      <td>2</td>\n",
              "      <td>5007</td>\n",
              "      <td>22</td>\n",
              "      <td>11</td>\n",
              "      <td>1</td>\n",
              "      <td>10101</td>\n",
              "      <td>Sierra Norte</td>\n",
              "      <td>Si</td>\n",
              "      <td>No</td>\n",
              "      <td>...</td>\n",
              "      <td>No</td>\n",
              "      <td>No busco otro trabajo</td>\n",
              "      <td>¿Pago mensual completo?</td>\n",
              "      <td>146314.818622</td>\n",
              "      <td>62626.189358</td>\n",
              "      <td>Obrero</td>\n",
              "      <td>Hombre</td>\n",
              "      <td>63</td>\n",
              "      <td>Casado(a)</td>\n",
              "      <td>Superior Universitaria Completa</td>\n",
              "    </tr>\n",
              "    <tr>\n",
              "      <th>3</th>\n",
              "      <td>2022</td>\n",
              "      <td>2</td>\n",
              "      <td>5007</td>\n",
              "      <td>22</td>\n",
              "      <td>11</td>\n",
              "      <td>2</td>\n",
              "      <td>10101</td>\n",
              "      <td>Sierra Norte</td>\n",
              "      <td>Si</td>\n",
              "      <td>Si</td>\n",
              "      <td>...</td>\n",
              "      <td>No</td>\n",
              "      <td>No busco otro trabajo</td>\n",
              "      <td>¿Pago mensual completo?</td>\n",
              "      <td>146314.818622</td>\n",
              "      <td>62626.189358</td>\n",
              "      <td>Empleado</td>\n",
              "      <td>Mujer</td>\n",
              "      <td>62</td>\n",
              "      <td>Casado(a)</td>\n",
              "      <td>Superior Universitaria Completa</td>\n",
              "    </tr>\n",
              "    <tr>\n",
              "      <th>4</th>\n",
              "      <td>2022</td>\n",
              "      <td>2</td>\n",
              "      <td>5007</td>\n",
              "      <td>22</td>\n",
              "      <td>11</td>\n",
              "      <td>3</td>\n",
              "      <td>10101</td>\n",
              "      <td>Sierra Norte</td>\n",
              "      <td>Si</td>\n",
              "      <td>No</td>\n",
              "      <td>...</td>\n",
              "      <td>No</td>\n",
              "      <td>No busco otro trabajo</td>\n",
              "      <td>¿No sabe si le van a pagar?</td>\n",
              "      <td>1859.000000</td>\n",
              "      <td>62626.189358</td>\n",
              "      <td>Trabajador del hogar</td>\n",
              "      <td>Hombre</td>\n",
              "      <td>30</td>\n",
              "      <td>Soltero(a)</td>\n",
              "      <td>Superior No Universitaria Completa</td>\n",
              "    </tr>\n",
              "  </tbody>\n",
              "</table>\n",
              "<p>5 rows × 26 columns</p>\n",
              "</div>"
            ],
            "text/plain": [
              "    AÑO  MES  CONGLOME  VIVIENDA  HOGAR  CODPERSO  UBIGEO       DOMINIO  \\\n",
              "0  2022    2      5007         3     11         1   10101  Sierra Norte   \n",
              "1  2022    2      5007        12     11         1   10101  Sierra Norte   \n",
              "2  2022    2      5007        22     11         1   10101  Sierra Norte   \n",
              "3  2022    2      5007        22     11         2   10101  Sierra Norte   \n",
              "4  2022    2      5007        22     11         3   10101  Sierra Norte   \n",
              "\n",
              "  TRABAJÓ_SEM_ANTERIOR EMPLEO_FIJO_A_VOLVER  ... TUVO_OTRO_TRABAJO  \\\n",
              "0                   Si                   No  ...                No   \n",
              "1                   Si                   Si  ...                Si   \n",
              "2                   Si                   No  ...                No   \n",
              "3                   Si                   Si  ...                No   \n",
              "4                   Si                   No  ...                No   \n",
              "\n",
              "           BUSCA_TRABAJO              FRECUENCIA_PAGO  GANANCIA_NETA  \\\n",
              "0  No busco otro trabajo      ¿Pago mensual completo?  146314.818622   \n",
              "1  No busco otro trabajo      ¿Pago mensual completo?  146314.818622   \n",
              "2  No busco otro trabajo      ¿Pago mensual completo?  146314.818622   \n",
              "3  No busco otro trabajo      ¿Pago mensual completo?  146314.818622   \n",
              "4  No busco otro trabajo  ¿No sabe si le van a pagar?    1859.000000   \n",
              "\n",
              "   GASTO_EN_ PRODUCTOS  LABOR_DESEMPEÑO_TRABAJO_ANTERIOR    SEXO EDAD  \\\n",
              "0         62626.189358                            Obrero  Hombre   57   \n",
              "1         62626.189358              Trabajador del hogar   Mujer   22   \n",
              "2         62626.189358                            Obrero  Hombre   63   \n",
              "3         62626.189358                          Empleado   Mujer   62   \n",
              "4         62626.189358              Trabajador del hogar  Hombre   30   \n",
              "\n",
              "    ESTADO_CIVIL                  GRADO_DE_INSTRUCCION  \n",
              "0  Divorciado(a)                    Maestria/Doctorado  \n",
              "1     Soltero(a)  Superior No Universitaria Incompleta  \n",
              "2      Casado(a)       Superior Universitaria Completa  \n",
              "3      Casado(a)       Superior Universitaria Completa  \n",
              "4     Soltero(a)    Superior No Universitaria Completa  \n",
              "\n",
              "[5 rows x 26 columns]"
            ]
          },
          "execution_count": 61,
          "metadata": {},
          "output_type": "execute_result"
        }
      ],
      "source": [
        "df1 = pd.read_csv(\"Dataset/Empleo_e_ingresos_final.csv\", encoding='ISO-8859-1')\n",
        "df1.head()"
      ]
    },
    {
      "cell_type": "code",
      "execution_count": null,
      "id": "5eb63216",
      "metadata": {
        "id": "5eb63216",
        "outputId": "a733c13d-c4c1-441d-fafd-60d1e95dfc80"
      },
      "outputs": [
        {
          "data": {
            "text/plain": [
              "(87661, 26)"
            ]
          },
          "execution_count": 62,
          "metadata": {},
          "output_type": "execute_result"
        }
      ],
      "source": [
        "df1.shape"
      ]
    },
    {
      "cell_type": "code",
      "execution_count": null,
      "id": "17503921",
      "metadata": {
        "id": "17503921",
        "outputId": "50bb24e2-9f8d-47c3-9f21-bb78295f4094"
      },
      "outputs": [
        {
          "data": {
            "text/html": [
              "<div>\n",
              "<style scoped>\n",
              "    .dataframe tbody tr th:only-of-type {\n",
              "        vertical-align: middle;\n",
              "    }\n",
              "\n",
              "    .dataframe tbody tr th {\n",
              "        vertical-align: top;\n",
              "    }\n",
              "\n",
              "    .dataframe thead th {\n",
              "        text-align: right;\n",
              "    }\n",
              "</style>\n",
              "<table border=\"1\" class=\"dataframe\">\n",
              "  <thead>\n",
              "    <tr style=\"text-align: right;\">\n",
              "      <th></th>\n",
              "      <th>AÃO</th>\n",
              "      <th>MES</th>\n",
              "      <th>CONGLOME</th>\n",
              "      <th>VIVIENDA</th>\n",
              "      <th>HOGAR</th>\n",
              "      <th>UBIGEO</th>\n",
              "      <th>DOMINIO</th>\n",
              "      <th>ESTRATO</th>\n",
              "      <th>TIPO_VIVIENDA</th>\n",
              "      <th>MATERIAL_PAREDES</th>\n",
              "      <th>...</th>\n",
              "      <th>AGUA</th>\n",
              "      <th>ACCESO_AGUA</th>\n",
              "      <th>TIENE_TELEFONO</th>\n",
              "      <th>TIENE_CELULAR</th>\n",
              "      <th>TIENE_TV</th>\n",
              "      <th>TIENE_INTERNET</th>\n",
              "      <th>SIN_SERVICIOS_HIGIENICOS</th>\n",
              "      <th>NIÃOS_NO_COLEGIO</th>\n",
              "      <th>LONGITUD</th>\n",
              "      <th>LATITUD</th>\n",
              "    </tr>\n",
              "  </thead>\n",
              "  <tbody>\n",
              "    <tr>\n",
              "      <th>0</th>\n",
              "      <td>2022</td>\n",
              "      <td>2</td>\n",
              "      <td>5007</td>\n",
              "      <td>3</td>\n",
              "      <td>11</td>\n",
              "      <td>10101</td>\n",
              "      <td>Sierra Norte</td>\n",
              "      <td>De 20 000 a 49 999 habitantes</td>\n",
              "      <td>Casa independiente</td>\n",
              "      <td>Adobe</td>\n",
              "      <td>...</td>\n",
              "      <td>Red pÃºblica, dentro de la vivienda</td>\n",
              "      <td>Si</td>\n",
              "      <td>0</td>\n",
              "      <td>1</td>\n",
              "      <td>0</td>\n",
              "      <td>1</td>\n",
              "      <td>Con servicios higiÃ©nicos</td>\n",
              "      <td>Hogares con niÃ±os que asisten a la escuela</td>\n",
              "      <td>-77.873924</td>\n",
              "      <td>-6.229049</td>\n",
              "    </tr>\n",
              "    <tr>\n",
              "      <th>1</th>\n",
              "      <td>2022</td>\n",
              "      <td>2</td>\n",
              "      <td>5007</td>\n",
              "      <td>12</td>\n",
              "      <td>11</td>\n",
              "      <td>10101</td>\n",
              "      <td>Sierra Norte</td>\n",
              "      <td>De 20 000 a 49 999 habitantes</td>\n",
              "      <td>Vivienda en casa de vecindad</td>\n",
              "      <td>Tapia</td>\n",
              "      <td>...</td>\n",
              "      <td>Red pÃºblica, fuera de la vivienda pero dentro...</td>\n",
              "      <td>Si</td>\n",
              "      <td>0</td>\n",
              "      <td>1</td>\n",
              "      <td>0</td>\n",
              "      <td>1</td>\n",
              "      <td>Con servicios higiÃ©nicos</td>\n",
              "      <td>Hogares con niÃ±os que asisten a la escuela</td>\n",
              "      <td>-77.873924</td>\n",
              "      <td>-6.229049</td>\n",
              "    </tr>\n",
              "    <tr>\n",
              "      <th>2</th>\n",
              "      <td>2022</td>\n",
              "      <td>2</td>\n",
              "      <td>5007</td>\n",
              "      <td>22</td>\n",
              "      <td>11</td>\n",
              "      <td>10101</td>\n",
              "      <td>Sierra Norte</td>\n",
              "      <td>De 20 000 a 49 999 habitantes</td>\n",
              "      <td>Casa independiente</td>\n",
              "      <td>Adobe</td>\n",
              "      <td>...</td>\n",
              "      <td>Red pÃºblica, dentro de la vivienda</td>\n",
              "      <td>Si</td>\n",
              "      <td>0</td>\n",
              "      <td>1</td>\n",
              "      <td>1</td>\n",
              "      <td>1</td>\n",
              "      <td>Con servicios higiÃ©nicos</td>\n",
              "      <td>Hogares con niÃ±os que asisten a la escuela</td>\n",
              "      <td>-77.873924</td>\n",
              "      <td>-6.229049</td>\n",
              "    </tr>\n",
              "    <tr>\n",
              "      <th>3</th>\n",
              "      <td>2022</td>\n",
              "      <td>2</td>\n",
              "      <td>5007</td>\n",
              "      <td>31</td>\n",
              "      <td>11</td>\n",
              "      <td>10101</td>\n",
              "      <td>Sierra Norte</td>\n",
              "      <td>De 20 000 a 49 999 habitantes</td>\n",
              "      <td>Casa independiente</td>\n",
              "      <td>Ladrillo o bloque de cemento</td>\n",
              "      <td>...</td>\n",
              "      <td>Red pÃºblica, dentro de la vivienda</td>\n",
              "      <td>Si</td>\n",
              "      <td>D</td>\n",
              "      <td>D</td>\n",
              "      <td>D</td>\n",
              "      <td>D</td>\n",
              "      <td>D</td>\n",
              "      <td>D</td>\n",
              "      <td>-77.873924</td>\n",
              "      <td>-6.229049</td>\n",
              "    </tr>\n",
              "    <tr>\n",
              "      <th>4</th>\n",
              "      <td>2022</td>\n",
              "      <td>2</td>\n",
              "      <td>5007</td>\n",
              "      <td>50</td>\n",
              "      <td>11</td>\n",
              "      <td>10101</td>\n",
              "      <td>Sierra Norte</td>\n",
              "      <td>De 20 000 a 49 999 habitantes</td>\n",
              "      <td>Casa independiente</td>\n",
              "      <td>Ladrillo o bloque de cemento</td>\n",
              "      <td>...</td>\n",
              "      <td>Red pÃºblica, dentro de la vivienda</td>\n",
              "      <td>Si</td>\n",
              "      <td>0</td>\n",
              "      <td>1</td>\n",
              "      <td>0</td>\n",
              "      <td>1</td>\n",
              "      <td>Con servicios higiÃ©nicos</td>\n",
              "      <td>Hogares con niÃ±os que asisten a la escuela</td>\n",
              "      <td>-77.873924</td>\n",
              "      <td>-6.229049</td>\n",
              "    </tr>\n",
              "  </tbody>\n",
              "</table>\n",
              "<p>5 rows × 22 columns</p>\n",
              "</div>"
            ],
            "text/plain": [
              "   AÃO  MES  CONGLOME  VIVIENDA  HOGAR  UBIGEO       DOMINIO  \\\n",
              "0  2022    2      5007         3     11   10101  Sierra Norte   \n",
              "1  2022    2      5007        12     11   10101  Sierra Norte   \n",
              "2  2022    2      5007        22     11   10101  Sierra Norte   \n",
              "3  2022    2      5007        31     11   10101  Sierra Norte   \n",
              "4  2022    2      5007        50     11   10101  Sierra Norte   \n",
              "\n",
              "                         ESTRATO                 TIPO_VIVIENDA  \\\n",
              "0  De 20 000 a 49 999 habitantes            Casa independiente   \n",
              "1  De 20 000 a 49 999 habitantes  Vivienda en casa de vecindad   \n",
              "2  De 20 000 a 49 999 habitantes            Casa independiente   \n",
              "3  De 20 000 a 49 999 habitantes            Casa independiente   \n",
              "4  De 20 000 a 49 999 habitantes            Casa independiente   \n",
              "\n",
              "               MATERIAL_PAREDES  ...  \\\n",
              "0                         Adobe  ...   \n",
              "1                         Tapia  ...   \n",
              "2                         Adobe  ...   \n",
              "3  Ladrillo o bloque de cemento  ...   \n",
              "4  Ladrillo o bloque de cemento  ...   \n",
              "\n",
              "                                                AGUA ACCESO_AGUA  \\\n",
              "0                Red pÃºblica, dentro de la vivienda          Si   \n",
              "1  Red pÃºblica, fuera de la vivienda pero dentro...          Si   \n",
              "2                Red pÃºblica, dentro de la vivienda          Si   \n",
              "3                Red pÃºblica, dentro de la vivienda          Si   \n",
              "4                Red pÃºblica, dentro de la vivienda          Si   \n",
              "\n",
              "  TIENE_TELEFONO TIENE_CELULAR TIENE_TV TIENE_INTERNET  \\\n",
              "0              0             1        0              1   \n",
              "1              0             1        0              1   \n",
              "2              0             1        1              1   \n",
              "3              D             D        D              D   \n",
              "4              0             1        0              1   \n",
              "\n",
              "    SIN_SERVICIOS_HIGIENICOS                            NIÃOS_NO_COLEGIO  \\\n",
              "0  Con servicios higiÃ©nicos  Hogares con niÃ±os que asisten a la escuela   \n",
              "1  Con servicios higiÃ©nicos  Hogares con niÃ±os que asisten a la escuela   \n",
              "2  Con servicios higiÃ©nicos  Hogares con niÃ±os que asisten a la escuela   \n",
              "3                          D                                            D   \n",
              "4  Con servicios higiÃ©nicos  Hogares con niÃ±os que asisten a la escuela   \n",
              "\n",
              "    LONGITUD   LATITUD  \n",
              "0 -77.873924 -6.229049  \n",
              "1 -77.873924 -6.229049  \n",
              "2 -77.873924 -6.229049  \n",
              "3 -77.873924 -6.229049  \n",
              "4 -77.873924 -6.229049  \n",
              "\n",
              "[5 rows x 22 columns]"
            ]
          },
          "execution_count": 63,
          "metadata": {},
          "output_type": "execute_result"
        }
      ],
      "source": [
        "df2 = pd.read_csv(\"Dataset/Caracteristicas_Viviendas.csv\", encoding='ISO-8859-1')\n",
        "df2.head()"
      ]
    },
    {
      "cell_type": "code",
      "execution_count": null,
      "id": "03ad729a",
      "metadata": {
        "id": "03ad729a",
        "outputId": "f411815f-322c-468f-86f7-d4fae9cad38a"
      },
      "outputs": [
        {
          "data": {
            "text/plain": [
              "(44122, 22)"
            ]
          },
          "execution_count": 64,
          "metadata": {},
          "output_type": "execute_result"
        }
      ],
      "source": [
        "df2.shape"
      ]
    },
    {
      "cell_type": "code",
      "execution_count": null,
      "id": "d3f27116",
      "metadata": {
        "id": "d3f27116"
      },
      "outputs": [],
      "source": [
        "merged_df = df1.merge(df2, on=['CONGLOME', 'VIVIENDA', 'HOGAR'], how='inner')"
      ]
    },
    {
      "cell_type": "code",
      "execution_count": null,
      "id": "308d5f65",
      "metadata": {
        "id": "308d5f65",
        "outputId": "0905bac0-16b3-450d-beee-b16d1a9e88a9"
      },
      "outputs": [
        {
          "data": {
            "text/plain": [
              "(87661, 45)"
            ]
          },
          "execution_count": 66,
          "metadata": {},
          "output_type": "execute_result"
        }
      ],
      "source": [
        "merged_df.shape"
      ]
    },
    {
      "cell_type": "code",
      "execution_count": null,
      "id": "868bc3c1",
      "metadata": {
        "id": "868bc3c1",
        "outputId": "6cdaf0dc-899c-4179-ce1b-745d6599f2e4"
      },
      "outputs": [
        {
          "data": {
            "text/html": [
              "<div>\n",
              "<style scoped>\n",
              "    .dataframe tbody tr th:only-of-type {\n",
              "        vertical-align: middle;\n",
              "    }\n",
              "\n",
              "    .dataframe tbody tr th {\n",
              "        vertical-align: top;\n",
              "    }\n",
              "\n",
              "    .dataframe thead th {\n",
              "        text-align: right;\n",
              "    }\n",
              "</style>\n",
              "<table border=\"1\" class=\"dataframe\">\n",
              "  <thead>\n",
              "    <tr style=\"text-align: right;\">\n",
              "      <th></th>\n",
              "      <th>AÑO</th>\n",
              "      <th>MES_x</th>\n",
              "      <th>CONGLOME</th>\n",
              "      <th>VIVIENDA</th>\n",
              "      <th>HOGAR</th>\n",
              "      <th>CODPERSO</th>\n",
              "      <th>UBIGEO_x</th>\n",
              "      <th>DOMINIO_x</th>\n",
              "      <th>TRABAJÓ_SEM_ANTERIOR</th>\n",
              "      <th>EMPLEO_FIJO_A_VOLVER</th>\n",
              "      <th>...</th>\n",
              "      <th>AGUA</th>\n",
              "      <th>ACCESO_AGUA</th>\n",
              "      <th>TIENE_TELEFONO</th>\n",
              "      <th>TIENE_CELULAR</th>\n",
              "      <th>TIENE_TV</th>\n",
              "      <th>TIENE_INTERNET</th>\n",
              "      <th>SIN_SERVICIOS_HIGIENICOS</th>\n",
              "      <th>NIÃOS_NO_COLEGIO</th>\n",
              "      <th>LONGITUD</th>\n",
              "      <th>LATITUD</th>\n",
              "    </tr>\n",
              "  </thead>\n",
              "  <tbody>\n",
              "    <tr>\n",
              "      <th>0</th>\n",
              "      <td>2022</td>\n",
              "      <td>2</td>\n",
              "      <td>5007</td>\n",
              "      <td>3</td>\n",
              "      <td>11</td>\n",
              "      <td>1</td>\n",
              "      <td>10101</td>\n",
              "      <td>Sierra Norte</td>\n",
              "      <td>Si</td>\n",
              "      <td>No</td>\n",
              "      <td>...</td>\n",
              "      <td>Red pÃºblica, dentro de la vivienda</td>\n",
              "      <td>Si</td>\n",
              "      <td>0</td>\n",
              "      <td>1</td>\n",
              "      <td>0</td>\n",
              "      <td>1</td>\n",
              "      <td>Con servicios higiÃ©nicos</td>\n",
              "      <td>Hogares con niÃ±os que asisten a la escuela</td>\n",
              "      <td>-77.873924</td>\n",
              "      <td>-6.229049</td>\n",
              "    </tr>\n",
              "    <tr>\n",
              "      <th>1</th>\n",
              "      <td>2022</td>\n",
              "      <td>2</td>\n",
              "      <td>5007</td>\n",
              "      <td>12</td>\n",
              "      <td>11</td>\n",
              "      <td>1</td>\n",
              "      <td>10101</td>\n",
              "      <td>Sierra Norte</td>\n",
              "      <td>Si</td>\n",
              "      <td>Si</td>\n",
              "      <td>...</td>\n",
              "      <td>Red pÃºblica, fuera de la vivienda pero dentro...</td>\n",
              "      <td>Si</td>\n",
              "      <td>0</td>\n",
              "      <td>1</td>\n",
              "      <td>0</td>\n",
              "      <td>1</td>\n",
              "      <td>Con servicios higiÃ©nicos</td>\n",
              "      <td>Hogares con niÃ±os que asisten a la escuela</td>\n",
              "      <td>-77.873924</td>\n",
              "      <td>-6.229049</td>\n",
              "    </tr>\n",
              "    <tr>\n",
              "      <th>2</th>\n",
              "      <td>2022</td>\n",
              "      <td>2</td>\n",
              "      <td>5007</td>\n",
              "      <td>22</td>\n",
              "      <td>11</td>\n",
              "      <td>1</td>\n",
              "      <td>10101</td>\n",
              "      <td>Sierra Norte</td>\n",
              "      <td>Si</td>\n",
              "      <td>No</td>\n",
              "      <td>...</td>\n",
              "      <td>Red pÃºblica, dentro de la vivienda</td>\n",
              "      <td>Si</td>\n",
              "      <td>0</td>\n",
              "      <td>1</td>\n",
              "      <td>1</td>\n",
              "      <td>1</td>\n",
              "      <td>Con servicios higiÃ©nicos</td>\n",
              "      <td>Hogares con niÃ±os que asisten a la escuela</td>\n",
              "      <td>-77.873924</td>\n",
              "      <td>-6.229049</td>\n",
              "    </tr>\n",
              "    <tr>\n",
              "      <th>3</th>\n",
              "      <td>2022</td>\n",
              "      <td>2</td>\n",
              "      <td>5007</td>\n",
              "      <td>22</td>\n",
              "      <td>11</td>\n",
              "      <td>2</td>\n",
              "      <td>10101</td>\n",
              "      <td>Sierra Norte</td>\n",
              "      <td>Si</td>\n",
              "      <td>Si</td>\n",
              "      <td>...</td>\n",
              "      <td>Red pÃºblica, dentro de la vivienda</td>\n",
              "      <td>Si</td>\n",
              "      <td>0</td>\n",
              "      <td>1</td>\n",
              "      <td>1</td>\n",
              "      <td>1</td>\n",
              "      <td>Con servicios higiÃ©nicos</td>\n",
              "      <td>Hogares con niÃ±os que asisten a la escuela</td>\n",
              "      <td>-77.873924</td>\n",
              "      <td>-6.229049</td>\n",
              "    </tr>\n",
              "    <tr>\n",
              "      <th>4</th>\n",
              "      <td>2022</td>\n",
              "      <td>2</td>\n",
              "      <td>5007</td>\n",
              "      <td>22</td>\n",
              "      <td>11</td>\n",
              "      <td>3</td>\n",
              "      <td>10101</td>\n",
              "      <td>Sierra Norte</td>\n",
              "      <td>Si</td>\n",
              "      <td>No</td>\n",
              "      <td>...</td>\n",
              "      <td>Red pÃºblica, dentro de la vivienda</td>\n",
              "      <td>Si</td>\n",
              "      <td>0</td>\n",
              "      <td>1</td>\n",
              "      <td>1</td>\n",
              "      <td>1</td>\n",
              "      <td>Con servicios higiÃ©nicos</td>\n",
              "      <td>Hogares con niÃ±os que asisten a la escuela</td>\n",
              "      <td>-77.873924</td>\n",
              "      <td>-6.229049</td>\n",
              "    </tr>\n",
              "  </tbody>\n",
              "</table>\n",
              "<p>5 rows × 45 columns</p>\n",
              "</div>"
            ],
            "text/plain": [
              "    AÑO  MES_x  CONGLOME  VIVIENDA  HOGAR  CODPERSO  UBIGEO_x     DOMINIO_x  \\\n",
              "0  2022      2      5007         3     11         1     10101  Sierra Norte   \n",
              "1  2022      2      5007        12     11         1     10101  Sierra Norte   \n",
              "2  2022      2      5007        22     11         1     10101  Sierra Norte   \n",
              "3  2022      2      5007        22     11         2     10101  Sierra Norte   \n",
              "4  2022      2      5007        22     11         3     10101  Sierra Norte   \n",
              "\n",
              "  TRABAJÓ_SEM_ANTERIOR EMPLEO_FIJO_A_VOLVER  ...  \\\n",
              "0                   Si                   No  ...   \n",
              "1                   Si                   Si  ...   \n",
              "2                   Si                   No  ...   \n",
              "3                   Si                   Si  ...   \n",
              "4                   Si                   No  ...   \n",
              "\n",
              "                                                AGUA ACCESO_AGUA  \\\n",
              "0                Red pÃºblica, dentro de la vivienda          Si   \n",
              "1  Red pÃºblica, fuera de la vivienda pero dentro...          Si   \n",
              "2                Red pÃºblica, dentro de la vivienda          Si   \n",
              "3                Red pÃºblica, dentro de la vivienda          Si   \n",
              "4                Red pÃºblica, dentro de la vivienda          Si   \n",
              "\n",
              "  TIENE_TELEFONO TIENE_CELULAR  TIENE_TV  TIENE_INTERNET  \\\n",
              "0              0             1         0               1   \n",
              "1              0             1         0               1   \n",
              "2              0             1         1               1   \n",
              "3              0             1         1               1   \n",
              "4              0             1         1               1   \n",
              "\n",
              "    SIN_SERVICIOS_HIGIENICOS                            NIÃOS_NO_COLEGIO  \\\n",
              "0  Con servicios higiÃ©nicos  Hogares con niÃ±os que asisten a la escuela   \n",
              "1  Con servicios higiÃ©nicos  Hogares con niÃ±os que asisten a la escuela   \n",
              "2  Con servicios higiÃ©nicos  Hogares con niÃ±os que asisten a la escuela   \n",
              "3  Con servicios higiÃ©nicos  Hogares con niÃ±os que asisten a la escuela   \n",
              "4  Con servicios higiÃ©nicos  Hogares con niÃ±os que asisten a la escuela   \n",
              "\n",
              "    LONGITUD   LATITUD  \n",
              "0 -77.873924 -6.229049  \n",
              "1 -77.873924 -6.229049  \n",
              "2 -77.873924 -6.229049  \n",
              "3 -77.873924 -6.229049  \n",
              "4 -77.873924 -6.229049  \n",
              "\n",
              "[5 rows x 45 columns]"
            ]
          },
          "execution_count": 67,
          "metadata": {},
          "output_type": "execute_result"
        }
      ],
      "source": [
        "merged_df.head()"
      ]
    },
    {
      "cell_type": "code",
      "execution_count": null,
      "id": "e77b0f5a",
      "metadata": {
        "id": "e77b0f5a",
        "outputId": "1a59de80-e086-4a44-f2d0-dd70f9f36255"
      },
      "outputs": [
        {
          "data": {
            "text/plain": [
              "Index(['AÑO', 'MES_x', 'CONGLOME', 'VIVIENDA', 'HOGAR', 'CODPERSO', 'UBIGEO_x',\n",
              "       'DOMINIO_x', 'TRABAJÓ_SEM_ANTERIOR', 'EMPLEO_FIJO_A_VOLVER',\n",
              "       'RAZÓN_NO_TRABAJÓ', 'LABOR_QUE_DESEMPEÑA', 'REGISTRO_EMPRESA',\n",
              "       'TIPO_CONTRATO', 'HORAS_TRABAJO_SEM_ANTERIOR', 'TIEMPO_TRABAJO_AÑOS',\n",
              "       'TUVO_OTRO_TRABAJO', 'BUSCA_TRABAJO', 'FRECUENCIA_PAGO',\n",
              "       'GANANCIA_NETA', 'GASTO_EN_ PRODUCTOS',\n",
              "       'LABOR_DESEMPEÑO_TRABAJO_ANTERIOR', 'SEXO', 'EDAD', 'ESTADO_CIVIL',\n",
              "       'GRADO_DE_INSTRUCCION', 'AÃO', 'MES_y', 'UBIGEO_y', 'DOMINIO_y',\n",
              "       'ESTRATO', 'TIPO_VIVIENDA', 'MATERIAL_PAREDES', 'NUM_HABITACIONES',\n",
              "       'ESTADO', 'AGUA', 'ACCESO_AGUA', 'TIENE_TELEFONO', 'TIENE_CELULAR',\n",
              "       'TIENE_TV', 'TIENE_INTERNET', 'SIN_SERVICIOS_HIGIENICOS',\n",
              "       'NIÃOS_NO_COLEGIO', 'LONGITUD', 'LATITUD'],\n",
              "      dtype='object')"
            ]
          },
          "execution_count": 68,
          "metadata": {},
          "output_type": "execute_result"
        }
      ],
      "source": [
        "merged_df.columns"
      ]
    },
    {
      "cell_type": "code",
      "execution_count": null,
      "id": "8865a899",
      "metadata": {
        "id": "8865a899"
      },
      "outputs": [],
      "source": [
        "merged_df = merged_df.drop(columns=['AÃO', 'MES_y', 'UBIGEO_y', 'DOMINIO_y'])"
      ]
    },
    {
      "cell_type": "code",
      "execution_count": null,
      "id": "fa614362",
      "metadata": {
        "id": "fa614362",
        "outputId": "670db940-2415-4c11-e85e-8bc4826e0e28"
      },
      "outputs": [
        {
          "data": {
            "text/html": [
              "<div>\n",
              "<style scoped>\n",
              "    .dataframe tbody tr th:only-of-type {\n",
              "        vertical-align: middle;\n",
              "    }\n",
              "\n",
              "    .dataframe tbody tr th {\n",
              "        vertical-align: top;\n",
              "    }\n",
              "\n",
              "    .dataframe thead th {\n",
              "        text-align: right;\n",
              "    }\n",
              "</style>\n",
              "<table border=\"1\" class=\"dataframe\">\n",
              "  <thead>\n",
              "    <tr style=\"text-align: right;\">\n",
              "      <th></th>\n",
              "      <th>CONGLOME</th>\n",
              "      <th>VIVIENDA</th>\n",
              "      <th>HOGAR</th>\n",
              "      <th>Nombre del producto</th>\n",
              "      <th>Forma de obtenciÃ³n de producto</th>\n",
              "      <th>Frecuencia de compra</th>\n",
              "      <th>Precio</th>\n",
              "      <th>Cantidad comprada (unidad de medida)</th>\n",
              "      <th>Lugar de compra</th>\n",
              "      <th>Codigo de producto</th>\n",
              "    </tr>\n",
              "  </thead>\n",
              "  <tbody>\n",
              "    <tr>\n",
              "      <th>0</th>\n",
              "      <td>5030</td>\n",
              "      <td>8</td>\n",
              "      <td>11</td>\n",
              "      <td>Pan Corriente o comÃºn</td>\n",
              "      <td>Comprado</td>\n",
              "      <td>2</td>\n",
              "      <td>150.000000</td>\n",
              "      <td>2</td>\n",
              "      <td>6</td>\n",
              "      <td>110091</td>\n",
              "    </tr>\n",
              "    <tr>\n",
              "      <th>1</th>\n",
              "      <td>5030</td>\n",
              "      <td>8</td>\n",
              "      <td>11</td>\n",
              "      <td>TOSTADAS INTEGRALES A GRA</td>\n",
              "      <td>Comprado</td>\n",
              "      <td>4</td>\n",
              "      <td>0.370000</td>\n",
              "      <td>9</td>\n",
              "      <td>4</td>\n",
              "      <td>110087</td>\n",
              "    </tr>\n",
              "    <tr>\n",
              "      <th>2</th>\n",
              "      <td>5030</td>\n",
              "      <td>8</td>\n",
              "      <td>11</td>\n",
              "      <td>Arroz Corriente a Granel</td>\n",
              "      <td>Comprado</td>\n",
              "      <td>2</td>\n",
              "      <td>1.000000</td>\n",
              "      <td>9</td>\n",
              "      <td>6</td>\n",
              "      <td>110100</td>\n",
              "    </tr>\n",
              "    <tr>\n",
              "      <th>3</th>\n",
              "      <td>5030</td>\n",
              "      <td>8</td>\n",
              "      <td>11</td>\n",
              "      <td>Papa Blanca</td>\n",
              "      <td>Comprado</td>\n",
              "      <td>3</td>\n",
              "      <td>1.000000</td>\n",
              "      <td>9</td>\n",
              "      <td>6</td>\n",
              "      <td>110915</td>\n",
              "    </tr>\n",
              "    <tr>\n",
              "      <th>4</th>\n",
              "      <td>5030</td>\n",
              "      <td>8</td>\n",
              "      <td>11</td>\n",
              "      <td>Papa Amarilla</td>\n",
              "      <td>Comprado</td>\n",
              "      <td>3</td>\n",
              "      <td>0.500000</td>\n",
              "      <td>9</td>\n",
              "      <td>6</td>\n",
              "      <td>110913</td>\n",
              "    </tr>\n",
              "    <tr>\n",
              "      <th>5</th>\n",
              "      <td>5030</td>\n",
              "      <td>8</td>\n",
              "      <td>11</td>\n",
              "      <td>Azucar Rubia</td>\n",
              "      <td>Comprado</td>\n",
              "      <td>3</td>\n",
              "      <td>2.000000</td>\n",
              "      <td>9</td>\n",
              "      <td>6</td>\n",
              "      <td>111004</td>\n",
              "    </tr>\n",
              "    <tr>\n",
              "      <th>6</th>\n",
              "      <td>5030</td>\n",
              "      <td>8</td>\n",
              "      <td>11</td>\n",
              "      <td>Huevos a Granel de Gallin</td>\n",
              "      <td>Comprado</td>\n",
              "      <td>3</td>\n",
              "      <td>0.360000</td>\n",
              "      <td>9</td>\n",
              "      <td>6</td>\n",
              "      <td>110526</td>\n",
              "    </tr>\n",
              "    <tr>\n",
              "      <th>7</th>\n",
              "      <td>5030</td>\n",
              "      <td>8</td>\n",
              "      <td>11</td>\n",
              "      <td>HUEVO DE GALLINA DE CORRA</td>\n",
              "      <td>Otro</td>\n",
              "      <td>4</td>\n",
              "      <td>200.760105</td>\n",
              "      <td>2</td>\n",
              "      <td>11</td>\n",
              "      <td>110534</td>\n",
              "    </tr>\n",
              "    <tr>\n",
              "      <th>8</th>\n",
              "      <td>5030</td>\n",
              "      <td>8</td>\n",
              "      <td>11</td>\n",
              "      <td>Pollo Eviscerado</td>\n",
              "      <td>Comprado</td>\n",
              "      <td>10</td>\n",
              "      <td>0.500000</td>\n",
              "      <td>9</td>\n",
              "      <td>6</td>\n",
              "      <td>110235</td>\n",
              "    </tr>\n",
              "    <tr>\n",
              "      <th>9</th>\n",
              "      <td>5030</td>\n",
              "      <td>8</td>\n",
              "      <td>11</td>\n",
              "      <td>Menudencia de Pollo</td>\n",
              "      <td>Comprado</td>\n",
              "      <td>3</td>\n",
              "      <td>0.250000</td>\n",
              "      <td>9</td>\n",
              "      <td>6</td>\n",
              "      <td>110237</td>\n",
              "    </tr>\n",
              "  </tbody>\n",
              "</table>\n",
              "</div>"
            ],
            "text/plain": [
              "   CONGLOME  VIVIENDA  HOGAR        Nombre del producto  \\\n",
              "0      5030         8     11     Pan Corriente o comÃºn   \n",
              "1      5030         8     11  TOSTADAS INTEGRALES A GRA   \n",
              "2      5030         8     11   Arroz Corriente a Granel   \n",
              "3      5030         8     11                Papa Blanca   \n",
              "4      5030         8     11              Papa Amarilla   \n",
              "5      5030         8     11               Azucar Rubia   \n",
              "6      5030         8     11  Huevos a Granel de Gallin   \n",
              "7      5030         8     11  HUEVO DE GALLINA DE CORRA   \n",
              "8      5030         8     11           Pollo Eviscerado   \n",
              "9      5030         8     11        Menudencia de Pollo   \n",
              "\n",
              "  Forma de obtenciÃ³n de producto  Frecuencia de compra      Precio  \\\n",
              "0                        Comprado                     2  150.000000   \n",
              "1                        Comprado                     4    0.370000   \n",
              "2                        Comprado                     2    1.000000   \n",
              "3                        Comprado                     3    1.000000   \n",
              "4                        Comprado                     3    0.500000   \n",
              "5                        Comprado                     3    2.000000   \n",
              "6                        Comprado                     3    0.360000   \n",
              "7                            Otro                     4  200.760105   \n",
              "8                        Comprado                    10    0.500000   \n",
              "9                        Comprado                     3    0.250000   \n",
              "\n",
              "   Cantidad comprada (unidad de medida)  Lugar de compra  Codigo de producto  \n",
              "0                                     2                6              110091  \n",
              "1                                     9                4              110087  \n",
              "2                                     9                6              110100  \n",
              "3                                     9                6              110915  \n",
              "4                                     9                6              110913  \n",
              "5                                     9                6              111004  \n",
              "6                                     9                6              110526  \n",
              "7                                     2               11              110534  \n",
              "8                                     9                6              110235  \n",
              "9                                     9                6              110237  "
            ]
          },
          "execution_count": 70,
          "metadata": {},
          "output_type": "execute_result"
        }
      ],
      "source": [
        "df3 = pd.read_csv(\"Dataset/Gastos_final.csv\", encoding='ISO-8859-1')\n",
        "df3.head(10)"
      ]
    },
    {
      "cell_type": "code",
      "execution_count": null,
      "id": "a2ce75f3",
      "metadata": {
        "id": "a2ce75f3",
        "outputId": "978c5ed5-e9d0-4f8c-9f9c-3bdd6b593653"
      },
      "outputs": [
        {
          "data": {
            "text/plain": [
              "(1759159, 10)"
            ]
          },
          "execution_count": 71,
          "metadata": {},
          "output_type": "execute_result"
        }
      ],
      "source": [
        "df3.shape"
      ]
    },
    {
      "cell_type": "code",
      "execution_count": null,
      "id": "8d3660f0",
      "metadata": {
        "id": "8d3660f0"
      },
      "outputs": [],
      "source": [
        "df_final = merged_df.merge(df3, on=['CONGLOME', 'VIVIENDA', 'HOGAR'], how='inner')"
      ]
    },
    {
      "cell_type": "code",
      "execution_count": null,
      "id": "7150c11e",
      "metadata": {
        "id": "7150c11e",
        "outputId": "b9dd5d87-de30-42ee-bf90-c3dc7c0a901e"
      },
      "outputs": [
        {
          "data": {
            "text/plain": [
              "(4778093, 48)"
            ]
          },
          "execution_count": 73,
          "metadata": {},
          "output_type": "execute_result"
        }
      ],
      "source": [
        "df_final.shape"
      ]
    },
    {
      "cell_type": "code",
      "execution_count": null,
      "id": "c5753db8",
      "metadata": {
        "id": "c5753db8",
        "outputId": "bdc12b8b-3307-4dd4-a3fe-848bb42b0e64"
      },
      "outputs": [
        {
          "data": {
            "text/plain": [
              "Index(['AÑO', 'MES_x', 'CONGLOME', 'VIVIENDA', 'HOGAR', 'CODPERSO', 'UBIGEO_x',\n",
              "       'DOMINIO_x', 'TRABAJÓ_SEM_ANTERIOR', 'EMPLEO_FIJO_A_VOLVER',\n",
              "       'RAZÓN_NO_TRABAJÓ', 'LABOR_QUE_DESEMPEÑA', 'REGISTRO_EMPRESA',\n",
              "       'TIPO_CONTRATO', 'HORAS_TRABAJO_SEM_ANTERIOR', 'TIEMPO_TRABAJO_AÑOS',\n",
              "       'TUVO_OTRO_TRABAJO', 'BUSCA_TRABAJO', 'FRECUENCIA_PAGO',\n",
              "       'GANANCIA_NETA', 'GASTO_EN_ PRODUCTOS',\n",
              "       'LABOR_DESEMPEÑO_TRABAJO_ANTERIOR', 'SEXO', 'EDAD', 'ESTADO_CIVIL',\n",
              "       'GRADO_DE_INSTRUCCION', 'ESTRATO', 'TIPO_VIVIENDA', 'MATERIAL_PAREDES',\n",
              "       'NUM_HABITACIONES', 'ESTADO', 'AGUA', 'ACCESO_AGUA', 'TIENE_TELEFONO',\n",
              "       'TIENE_CELULAR', 'TIENE_TV', 'TIENE_INTERNET',\n",
              "       'SIN_SERVICIOS_HIGIENICOS', 'NIÃOS_NO_COLEGIO', 'LONGITUD', 'LATITUD',\n",
              "       'Nombre del producto', 'Forma de obtenciÃ³n de producto',\n",
              "       'Frecuencia de compra', 'Precio',\n",
              "       'Cantidad comprada (unidad de medida)', 'Lugar de compra',\n",
              "       'Codigo de producto'],\n",
              "      dtype='object')"
            ]
          },
          "execution_count": 74,
          "metadata": {},
          "output_type": "execute_result"
        }
      ],
      "source": [
        "df_final.columns"
      ]
    },
    {
      "cell_type": "code",
      "execution_count": null,
      "id": "2502070f",
      "metadata": {
        "id": "2502070f"
      },
      "outputs": [],
      "source": [
        "# Corregir nombres de columnas\n",
        "df_final.rename(columns={\n",
        "    'NIÃOS_NO_COLEGIO': 'NIÑOS_NO_COLEGIO',\n",
        "    'Forma de obtenciÃ³n de producto': 'Forma de obtención de producto',\n",
        "    'MES_x': 'MES',\n",
        "    'UBIGEO_x': 'UBIGEO',\n",
        "    'DOMINIO_x': 'DOMINIO'\n",
        "}, inplace=True)"
      ]
    },
    {
      "cell_type": "code",
      "execution_count": null,
      "id": "d64d5118",
      "metadata": {
        "id": "d64d5118"
      },
      "outputs": [],
      "source": [
        "df_final.columns = df_final.columns.str.upper()"
      ]
    },
    {
      "cell_type": "code",
      "execution_count": null,
      "id": "de079e19",
      "metadata": {
        "id": "de079e19",
        "outputId": "a07b2d7b-369b-432b-f2e0-fbb55d6d794e"
      },
      "outputs": [
        {
          "data": {
            "text/plain": [
              "Index(['AÑO', 'MES', 'CONGLOME', 'VIVIENDA', 'HOGAR', 'CODPERSO', 'UBIGEO',\n",
              "       'DOMINIO', 'TRABAJÓ_SEM_ANTERIOR', 'EMPLEO_FIJO_A_VOLVER',\n",
              "       'RAZÓN_NO_TRABAJÓ', 'LABOR_QUE_DESEMPEÑA', 'REGISTRO_EMPRESA',\n",
              "       'TIPO_CONTRATO', 'HORAS_TRABAJO_SEM_ANTERIOR', 'TIEMPO_TRABAJO_AÑOS',\n",
              "       'TUVO_OTRO_TRABAJO', 'BUSCA_TRABAJO', 'FRECUENCIA_PAGO',\n",
              "       'GANANCIA_NETA', 'GASTO_EN_ PRODUCTOS',\n",
              "       'LABOR_DESEMPEÑO_TRABAJO_ANTERIOR', 'SEXO', 'EDAD', 'ESTADO_CIVIL',\n",
              "       'GRADO_DE_INSTRUCCION', 'ESTRATO', 'TIPO_VIVIENDA', 'MATERIAL_PAREDES',\n",
              "       'NUM_HABITACIONES', 'ESTADO', 'AGUA', 'ACCESO_AGUA', 'TIENE_TELEFONO',\n",
              "       'TIENE_CELULAR', 'TIENE_TV', 'TIENE_INTERNET',\n",
              "       'SIN_SERVICIOS_HIGIENICOS', 'NIÑOS_NO_COLEGIO', 'LONGITUD', 'LATITUD',\n",
              "       'NOMBRE DEL PRODUCTO', 'FORMA DE OBTENCIÓN DE PRODUCTO',\n",
              "       'FRECUENCIA DE COMPRA', 'PRECIO',\n",
              "       'CANTIDAD COMPRADA (UNIDAD DE MEDIDA)', 'LUGAR DE COMPRA',\n",
              "       'CODIGO DE PRODUCTO'],\n",
              "      dtype='object')"
            ]
          },
          "execution_count": 77,
          "metadata": {},
          "output_type": "execute_result"
        }
      ],
      "source": [
        "df_final.columns"
      ]
    },
    {
      "cell_type": "code",
      "execution_count": null,
      "id": "ab855f38",
      "metadata": {
        "id": "ab855f38"
      },
      "outputs": [],
      "source": [
        "# Convertir las columnas a tipo numérico\n",
        "df_final['GANANCIA_NETA'] = pd.to_numeric(df_final['GANANCIA_NETA'], errors='coerce')\n",
        "df_final['GASTO_EN_ PRODUCTOS'] = pd.to_numeric(df_final['GASTO_EN_ PRODUCTOS'], errors='coerce')\n",
        "\n",
        "# Reemplazar el valor 999999.00 con 0\n",
        "df_final['GANANCIA_NETA'].replace(999999.00, 0, inplace=True)\n",
        "df_final['GASTO_EN_ PRODUCTOS'].replace(999999.00, 0, inplace=True)\n",
        "\n",
        "# Calcular el promedio de 'GASTO_EN_ PRODUCTOS' en base a 'GRADO_DE_INSTRUCCION', excluyendo los valores 0\n",
        "mean_gasto_by_instruccion = df_final[df_final['GASTO_EN_ PRODUCTOS'] != 0].groupby('GRADO_DE_INSTRUCCION')['GASTO_EN_ PRODUCTOS'].mean()\n",
        "\n",
        "# Función para reemplazar los valores 0 con el promedio correspondiente a su 'GRADO_DE_INSTRUCCION'\n",
        "def replace_with_mean(row):\n",
        "    if row['GASTO_EN_ PRODUCTOS'] == 0:\n",
        "        return mean_gasto_by_instruccion[row['GRADO_DE_INSTRUCCION']]\n",
        "    else:\n",
        "        return row['GASTO_EN_ PRODUCTOS']\n",
        "\n",
        "# Aplicar la función al DataFrame\n",
        "df_final['GASTO_EN_ PRODUCTOS'] = df_final.apply(replace_with_mean, axis=1)\n"
      ]
    },
    {
      "cell_type": "code",
      "execution_count": null,
      "id": "07b84802",
      "metadata": {
        "id": "07b84802"
      },
      "outputs": [],
      "source": [
        "# Convertir las columnas a tipo numérico\n",
        "df_final['GANANCIA_NETA'] = pd.to_numeric(df_final['GANANCIA_NETA'], errors='coerce')\n",
        "df_final['GASTO_EN_ PRODUCTOS'] = pd.to_numeric(df_final['GASTO_EN_ PRODUCTOS'], errors='coerce')\n",
        "\n",
        "# Reemplazar el valor 999999.00 con 0\n",
        "df_final['GANANCIA_NETA'].replace(999999.00, 0, inplace=True)\n",
        "df_final['GASTO_EN_ PRODUCTOS'].replace(999999.00, 0, inplace=True)\n",
        "\n",
        "# Calcular el promedio de 'GANANCIA_NETA' en base a 'GRADO_DE_INSTRUCCION', excluyendo los valores 0\n",
        "mean_ganancia_by_instruccion = df_final[df_final['GANANCIA_NETA'] != 0].groupby('GRADO_DE_INSTRUCCION')['GANANCIA_NETA'].mean()\n",
        "\n",
        "# Función para reemplazar los valores 0 en 'GANANCIA_NETA' con el promedio correspondiente a su 'GRADO_DE_INSTRUCCION'\n",
        "def replace_with_mean_ganancia(row):\n",
        "    if row['GANANCIA_NETA'] == 0:\n",
        "        return mean_ganancia_by_instruccion[row['GRADO_DE_INSTRUCCION']]\n",
        "    else:\n",
        "        return row['GANANCIA_NETA']\n",
        "\n",
        "# Aplicar la función al DataFrame para 'GANANCIA_NETA'\n",
        "df_final['GANANCIA_NETA'] = df_final.apply(replace_with_mean_ganancia, axis=1)"
      ]
    },
    {
      "cell_type": "code",
      "execution_count": null,
      "id": "b7f0297b",
      "metadata": {
        "id": "b7f0297b",
        "outputId": "20fcb83d-deb3-46f3-87c3-7ba80292e8d9"
      },
      "outputs": [
        {
          "data": {
            "text/plain": [
              "62626.18935801041"
            ]
          },
          "execution_count": 96,
          "metadata": {},
          "output_type": "execute_result"
        }
      ],
      "source": [
        "df_final['GASTO_EN_ PRODUCTOS'].max()"
      ]
    },
    {
      "cell_type": "code",
      "execution_count": null,
      "id": "d43f2a58",
      "metadata": {
        "id": "d43f2a58",
        "outputId": "3fb74a65-e2a0-4f3e-caa7-27eafda60b51"
      },
      "outputs": [
        {
          "data": {
            "text/plain": [
              "146314.81862209598"
            ]
          },
          "execution_count": 98,
          "metadata": {},
          "output_type": "execute_result"
        }
      ],
      "source": [
        "df_final['GANANCIA_NETA'].max()"
      ]
    },
    {
      "cell_type": "code",
      "execution_count": null,
      "id": "64de7e1f",
      "metadata": {
        "id": "64de7e1f"
      },
      "outputs": [],
      "source": [
        "df_final.to_csv('Dataset/Data_Set_Final.csv', index=False)"
      ]
    },
    {
      "cell_type": "code",
      "execution_count": null,
      "id": "2202c7ff",
      "metadata": {
        "id": "2202c7ff",
        "outputId": "207e203f-0cdd-473d-cc03-a852a52573fd"
      },
      "outputs": [
        {
          "data": {
            "text/plain": [
              "['MES_x', 'UBIGEO_x', 'DOMINIO_x']"
            ]
          },
          "execution_count": 46,
          "metadata": {},
          "output_type": "execute_result"
        }
      ],
      "source": [
        "cols_to_drop"
      ]
    },
    {
      "cell_type": "code",
      "execution_count": null,
      "id": "b693f3ff",
      "metadata": {
        "id": "b693f3ff",
        "outputId": "4b488df0-837a-449f-d4d0-c11798327078"
      },
      "outputs": [
        {
          "data": {
            "text/plain": [
              "Index(['AÑO', 'MES', 'CONGLOME', 'VIVIENDA', 'HOGAR', 'CODPERSO', 'UBIGEO',\n",
              "       'DOMINIO', 'TRABAJÓ_SEM_ANTERIOR', 'EMPLEO_FIJO_A_VOLVER',\n",
              "       'RAZÓN_NO_TRABAJÓ', 'LABOR_QUE_DESEMPEÑA', 'REGISTRO_EMPRESA',\n",
              "       'TIPO_CONTRATO', 'HORAS_TRABAJO_SEM_ANTERIOR', 'TIEMPO_TRABAJO_AÑOS',\n",
              "       'TUVO_OTRO_TRABAJO', 'BUSCA_TRABAJO', 'FRECUENCIA_PAGO',\n",
              "       'GANANCIA_NETA', 'GASTO_EN_ PRODUCTOS',\n",
              "       'LABOR_DESEMPEÑO_TRABAJO_ANTERIOR', 'SEXO', 'EDAD', 'ESTADO_CIVIL',\n",
              "       'GRADO_DE_INSTRUCCION', 'ESTRATO', 'TIPO_VIVIENDA', 'MATERIAL_PAREDES',\n",
              "       'NUM_HABITACIONES', 'ESTADO', 'AGUA', 'ACCESO_AGUA', 'TIENE_TELEFONO',\n",
              "       'TIENE_CELULAR', 'TIENE_TV', 'TIENE_INTERNET',\n",
              "       'SIN_SERVICIOS_HIGIENICOS', 'NIÑOS_NO_COLEGIO', 'LONGITUD', 'LATITUD',\n",
              "       'NOMBRE DEL PRODUCTO', 'FORMA DE OBTENCIÓN DE PRODUCTO',\n",
              "       'FRECUENCIA DE COMPRA', 'PRECIO',\n",
              "       'CANTIDAD COMPRADA (UNIDAD DE MEDIDA)', 'LUGAR DE COMPRA',\n",
              "       'CODIGO DE PRODUCTO'],\n",
              "      dtype='object')"
            ]
          },
          "execution_count": 50,
          "metadata": {},
          "output_type": "execute_result"
        }
      ],
      "source": [
        "df_final.columns"
      ]
    }
  ],
  "metadata": {
    "kernelspec": {
      "display_name": "Python 3 (ipykernel)",
      "language": "python",
      "name": "python3"
    },
    "language_info": {
      "codemirror_mode": {
        "name": "ipython",
        "version": 3
      },
      "file_extension": ".py",
      "mimetype": "text/x-python",
      "name": "python",
      "nbconvert_exporter": "python",
      "pygments_lexer": "ipython3",
      "version": "3.11.4"
    },
    "colab": {
      "provenance": [],
      "include_colab_link": true
    }
  },
  "nbformat": 4,
  "nbformat_minor": 5
}